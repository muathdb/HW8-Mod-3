{
 "cells": [
  {
   "cell_type": "markdown",
   "metadata": {},
   "source": [
    "## Homework 08: Classification\n",
    "\n",
    "**Due:** Midnight on July 6th, BUT no late points will be charged if you get it in by the last late deadline. \n",
    "\n",
    "### Overview\n",
    "\n",
    "In this final homework before starting our course project, we will introduce the essential machine learning paradigm of **classification**. We will work with the **UCI Adult** dataset. This is a binary classification task.\n",
    "\n",
    "As we’ve discussed in this week’s lessons, the classification workflow is similar to what we’ve done for regression, with a few key differences:\n",
    "- We use `StratifiedKFold` instead of plain `KFold` so that every fold keeps the original class proportions.\n",
    "- We use classification metrics (e.g., accuracy, precision, recall, F1-score for binary classification) instead of regression metrics.\n",
    "- We could explore misclassified instances through a confusion matrix (though we will not do that in this homework).\n",
    "\n",
    "For this assignment, you’ll build a gradient boosting classification using `HistGradientBoostingClassifier` (HGBC) and explore ways of tuning the hyperparameters, including using the technique of early stopping, which basically avoiding have to tune the number of estimators (called `max_iter` in HGBC). \n",
    "\n",
    "HGBC has many advantages, which we explain below. \n",
    "\n",
    "\n",
    "### Grading\n",
    "\n",
    "There are 7 graded problems, each worth 7 points, and you get 1 point free if you complete the assignment. "
   ]
  },
  {
   "cell_type": "code",
   "execution_count": 2,
   "metadata": {},
   "outputs": [
    {
     "name": "stdout",
     "output_type": "stream",
     "text": [
      "Collecting tqdm\n",
      "  Downloading tqdm-4.67.1-py3-none-any.whl.metadata (57 kB)\n",
      "Downloading tqdm-4.67.1-py3-none-any.whl (78 kB)\n",
      "Installing collected packages: tqdm\n",
      "Successfully installed tqdm-4.67.1\n"
     ]
    }
   ],
   "source": [
    "!pip install tqdm"
   ]
  },
  {
   "cell_type": "code",
   "execution_count": 4,
   "metadata": {},
   "outputs": [
    {
     "name": "stdout",
     "output_type": "stream",
     "text": [
      "Collecting optuna\n",
      "  Downloading optuna-4.4.0-py3-none-any.whl.metadata (17 kB)\n",
      "Collecting alembic>=1.5.0 (from optuna)\n",
      "  Downloading alembic-1.16.2-py3-none-any.whl.metadata (7.3 kB)\n",
      "Collecting colorlog (from optuna)\n",
      "  Downloading colorlog-6.9.0-py3-none-any.whl.metadata (10 kB)\n",
      "Requirement already satisfied: numpy in /home/codespace/.local/lib/python3.12/site-packages (from optuna) (2.2.6)\n",
      "Requirement already satisfied: packaging>=20.0 in /home/codespace/.local/lib/python3.12/site-packages (from optuna) (25.0)\n",
      "Collecting sqlalchemy>=1.4.2 (from optuna)\n",
      "  Downloading sqlalchemy-2.0.41-cp312-cp312-manylinux_2_17_x86_64.manylinux2014_x86_64.whl.metadata (9.6 kB)\n",
      "Requirement already satisfied: tqdm in /usr/local/python/3.12.1/lib/python3.12/site-packages (from optuna) (4.67.1)\n",
      "Requirement already satisfied: PyYAML in /home/codespace/.local/lib/python3.12/site-packages (from optuna) (6.0.2)\n",
      "Collecting Mako (from alembic>=1.5.0->optuna)\n",
      "  Downloading mako-1.3.10-py3-none-any.whl.metadata (2.9 kB)\n",
      "Requirement already satisfied: typing-extensions>=4.12 in /home/codespace/.local/lib/python3.12/site-packages (from alembic>=1.5.0->optuna) (4.13.2)\n",
      "Collecting greenlet>=1 (from sqlalchemy>=1.4.2->optuna)\n",
      "  Downloading greenlet-3.2.3-cp312-cp312-manylinux_2_24_x86_64.manylinux_2_28_x86_64.whl.metadata (4.1 kB)\n",
      "Requirement already satisfied: MarkupSafe>=0.9.2 in /home/codespace/.local/lib/python3.12/site-packages (from Mako->alembic>=1.5.0->optuna) (3.0.2)\n",
      "Downloading optuna-4.4.0-py3-none-any.whl (395 kB)\n",
      "Downloading alembic-1.16.2-py3-none-any.whl (242 kB)\n",
      "Downloading sqlalchemy-2.0.41-cp312-cp312-manylinux_2_17_x86_64.manylinux2014_x86_64.whl (3.3 MB)\n",
      "\u001b[2K   \u001b[90m━━━━━━━━━━━━━━━━━━━━━━━━━━━━━━━━━━━━━━━━\u001b[0m \u001b[32m3.3/3.3 MB\u001b[0m \u001b[31m36.8 MB/s\u001b[0m eta \u001b[36m0:00:00\u001b[0m\n",
      "\u001b[?25hDownloading greenlet-3.2.3-cp312-cp312-manylinux_2_24_x86_64.manylinux_2_28_x86_64.whl (605 kB)\n",
      "\u001b[2K   \u001b[90m━━━━━━━━━━━━━━━━━━━━━━━━━━━━━━━━━━━━━━━━\u001b[0m \u001b[32m605.5/605.5 kB\u001b[0m \u001b[31m21.5 MB/s\u001b[0m eta \u001b[36m0:00:00\u001b[0m\n",
      "\u001b[?25hDownloading colorlog-6.9.0-py3-none-any.whl (11 kB)\n",
      "Downloading mako-1.3.10-py3-none-any.whl (78 kB)\n",
      "Installing collected packages: Mako, greenlet, colorlog, sqlalchemy, alembic, optuna\n",
      "\u001b[2K   \u001b[90m━━━━━━━━━━━━━━━━━━━━━━━━━━━━━━━━━━━━━━━━\u001b[0m \u001b[32m6/6\u001b[0m [optuna]2m5/6\u001b[0m [optuna]]my]\n",
      "\u001b[1A\u001b[2KSuccessfully installed Mako-1.3.10 alembic-1.16.2 colorlog-6.9.0 greenlet-3.2.3 optuna-4.4.0 sqlalchemy-2.0.41\n"
     ]
    }
   ],
   "source": [
    "!pip install optuna"
   ]
  },
  {
   "cell_type": "code",
   "execution_count": 5,
   "metadata": {},
   "outputs": [
    {
     "name": "stderr",
     "output_type": "stream",
     "text": [
      "/usr/local/python/3.12.1/lib/python3.12/site-packages/tqdm/auto.py:21: TqdmWarning: IProgress not found. Please update jupyter and ipywidgets. See https://ipywidgets.readthedocs.io/en/stable/user_install.html\n",
      "  from .autonotebook import tqdm as notebook_tqdm\n"
     ]
    }
   ],
   "source": [
    "# General utilities\n",
    "import os\n",
    "import io\n",
    "import time\n",
    "import zipfile\n",
    "import requests\n",
    "from collections import Counter\n",
    "\n",
    "# Data handling and visualization\n",
    "import numpy as np\n",
    "import pandas as pd\n",
    "import matplotlib.pyplot as plt\n",
    "from tqdm import tqdm\n",
    "from IPython.display import display\n",
    " \n",
    "# Data source\n",
    "from sklearn.datasets import fetch_openml\n",
    "\n",
    " \n",
    "# scikit-learn core tools \n",
    "from sklearn.model_selection import (\n",
    "    train_test_split,\n",
    "    cross_val_score,\n",
    "    StratifiedKFold,\n",
    "    RandomizedSearchCV\n",
    ")\n",
    "\n",
    "from sklearn.pipeline import Pipeline\n",
    "from sklearn.compose import ColumnTransformer\n",
    "from sklearn.preprocessing import OrdinalEncoder\n",
    "\n",
    " \n",
    "# Import model \n",
    "from sklearn.ensemble import HistGradientBoostingClassifier\n",
    " \n",
    "# Metrics\n",
    "from sklearn.metrics import balanced_accuracy_score, classification_report\n",
    " \n",
    "# Distributions for random search\n",
    "from scipy.stats import loguniform, randint, uniform\n",
    "\n",
    "# pandas dtypes helpers\n",
    "from pandas.api.types import is_numeric_dtype, is_categorical_dtype\n",
    "from pandas import CategoricalDtype\n",
    "\n",
    "# Optuna Hyperparameter Search tool    (may need to be installed)\n",
    "import optuna\n",
    "\n",
    "\n",
    "# Misc\n",
    "\n",
    "random_seed = 42\n",
    "\n",
    "def format_hms(seconds):\n",
    "    return time.strftime(\"%H:%M:%S\", time.gmtime(seconds))\n",
    "\n"
   ]
  },
  {
   "cell_type": "markdown",
   "metadata": {},
   "source": [
    "### Prelude 1: Load and Preprocess the UCI Adult Income Dataset\n",
    "\n",
    "- Load the dataset from sklearn\n",
    "- Preliminary EDA\n",
    "- Feature Engineering "
   ]
  },
  {
   "cell_type": "code",
   "execution_count": 6,
   "metadata": {},
   "outputs": [
    {
     "name": "stdout",
     "output_type": "stream",
     "text": [
      "<class 'pandas.core.frame.DataFrame'>\n",
      "RangeIndex: 48842 entries, 0 to 48841\n",
      "Data columns (total 15 columns):\n",
      " #   Column          Non-Null Count  Dtype   \n",
      "---  ------          --------------  -----   \n",
      " 0   age             48842 non-null  int64   \n",
      " 1   workclass       46043 non-null  category\n",
      " 2   fnlwgt          48842 non-null  int64   \n",
      " 3   education       48842 non-null  category\n",
      " 4   education-num   48842 non-null  int64   \n",
      " 5   marital-status  48842 non-null  category\n",
      " 6   occupation      46033 non-null  category\n",
      " 7   relationship    48842 non-null  category\n",
      " 8   race            48842 non-null  category\n",
      " 9   sex             48842 non-null  category\n",
      " 10  capital-gain    48842 non-null  int64   \n",
      " 11  capital-loss    48842 non-null  int64   \n",
      " 12  hours-per-week  48842 non-null  int64   \n",
      " 13  native-country  47985 non-null  category\n",
      " 14  class           48842 non-null  category\n",
      "dtypes: category(9), int64(6)\n",
      "memory usage: 2.7 MB\n"
     ]
    }
   ],
   "source": [
    "# Load and clean\n",
    "df = fetch_openml(name='adult', version=2, as_frame=True).frame\n",
    "\n",
    "df.replace(\"?\", np.nan, inplace=True)            # Some datasets use ? instead of Nan for missing data\n",
    "\n",
    "df.info()"
   ]
  },
  {
   "cell_type": "markdown",
   "metadata": {},
   "source": [
    "#### Check: Is the dataset imbalanced?"
   ]
  },
  {
   "cell_type": "code",
   "execution_count": 7,
   "metadata": {},
   "outputs": [
    {
     "name": "stdout",
     "output_type": "stream",
     "text": [
      "class\n",
      "<=50K    0.760718\n",
      ">50K     0.239282\n",
      "Name: proportion, dtype: float64\n"
     ]
    }
   ],
   "source": [
    "print(df['class'].value_counts(normalize=True))"
   ]
  },
  {
   "cell_type": "markdown",
   "metadata": {},
   "source": [
    "**YES:** It looks like this dataset is somewhat imbalanced. Therefore, we will \n",
    "1. Tell the model to compensate during training by setting `class_weight='balanced'` when defining the model;\n",
    "2. Evaluate it `balanced_accuracy` instead of `accuracy` and with class-aware metrics (precision, recall, F1); and\n",
    "3. [Optional] Adjust the probability threshold instead of relying on raw accuracy alone after examining the precision-recall trade-off you observe at 0.5.\n",
    "    "
   ]
  },
  {
   "cell_type": "markdown",
   "metadata": {},
   "source": [
    "### Feature Engineering\n",
    "\n",
    "Based on the considerations in **Appendix One**, we'll make the following changes to the dataset to facilitate training:\n",
    "\n",
    "\n",
    "1. Drop `fnlwgt` and `education`.   \n",
    "3. Replace `capital-gain` and `capital-loss` by their difference `capital_net` and add a log-scaled version `capital_net_log`.\n"
   ]
  },
  {
   "cell_type": "code",
   "execution_count": 8,
   "metadata": {},
   "outputs": [
    {
     "name": "stdout",
     "output_type": "stream",
     "text": [
      "<class 'pandas.core.frame.DataFrame'>\n",
      "RangeIndex: 48842 entries, 0 to 48841\n",
      "Data columns (total 13 columns):\n",
      " #   Column           Non-Null Count  Dtype   \n",
      "---  ------           --------------  -----   \n",
      " 0   age              48842 non-null  int64   \n",
      " 1   workclass        46043 non-null  category\n",
      " 2   education-num    48842 non-null  int64   \n",
      " 3   marital-status   48842 non-null  category\n",
      " 4   occupation       46033 non-null  category\n",
      " 5   relationship     48842 non-null  category\n",
      " 6   race             48842 non-null  category\n",
      " 7   sex              48842 non-null  category\n",
      " 8   hours-per-week   48842 non-null  int64   \n",
      " 9   native-country   47985 non-null  category\n",
      " 10  class            48842 non-null  category\n",
      " 11  capital_net      48842 non-null  int64   \n",
      " 12  capital_net_log  48842 non-null  float64 \n",
      "dtypes: category(8), float64(1), int64(4)\n",
      "memory usage: 2.2 MB\n"
     ]
    }
   ],
   "source": [
    "# Drop the survey-weight column\n",
    "df_eng = df.drop(columns=[\"fnlwgt\"])\n",
    "\n",
    "# Keep only the ordinal education feature\n",
    "df_eng = df_eng.drop(columns=[\"education\"])      # retain 'education-num'\n",
    "\n",
    "# Combine capital gains and losses, add a log-scaled variant\n",
    "df_eng[\"capital_net\"]     = df_eng[\"capital-gain\"] - df_eng[\"capital-loss\"]\n",
    "df_eng[\"capital_net_log\"] = np.log1p(df_eng[\"capital_net\"].clip(lower=0))\n",
    "df_eng = df_eng.drop(columns=[\"capital-gain\", \"capital-loss\"])\n",
    "\n",
    "# check\n",
    "df_eng.info()"
   ]
  },
  {
   "cell_type": "markdown",
   "metadata": {},
   "source": [
    "#### Separate target and split\n",
    "\n",
    "Create the feature set `X` and the target set `y` (using `class` as the target) and split the dataset into 80% training and 20% testing sets, making sure to stratify."
   ]
  },
  {
   "cell_type": "code",
   "execution_count": 9,
   "metadata": {},
   "outputs": [
    {
     "name": "stdout",
     "output_type": "stream",
     "text": [
      "Train: (39073, 12) (39073,)\n",
      "Test : (9769, 12) (9769,)\n"
     ]
    }
   ],
   "source": [
    "\n",
    "X = df_eng.drop(columns=[\"class\"])\n",
    "y = (df_eng[\"class\"] == \">50K\").astype(int)\n",
    "\n",
    "# Split (with stratification)\n",
    "X_train, X_test, y_train, y_test = train_test_split(\n",
    "    X, y,\n",
    "    test_size=0.2,\n",
    "    random_state=random_seed,\n",
    "    stratify=y                           # So same proportion of classes in train and test sets\n",
    ")\n",
    "\n",
    "print(\"Train:\", X_train.shape, y_train.shape)\n",
    "print(\"Test :\", X_test.shape,  y_test.shape)"
   ]
  },
  {
   "cell_type": "markdown",
   "metadata": {},
   "source": [
    "### Prelude 2: Create a data pipeline and the `HistGradientBoostingClassifier` model\n",
    "\n",
    "Histogram-based gradient boosting improves on the standard version by:\n",
    "\n",
    "* **Histogram splits:** bins each feature into ≤ `max_bins` quantiles (i.e., each bin is approximately the same size) and tests splits only between bins, slashing compute time and scaling to large data sets. Default for `max_bins` = 255. \n",
    "* **Native NaN handling:** treats missing values as their own bin—no imputation needed.\n",
    "* **Native Categorical Support**: accepts integer-encoded categories directly and tests “category c vs. all others” splits, eliminating one-hot blow-ups and fake orderings.\n",
    "* **Built-in early stopping:** stops training after no improvement in validation loss after `n_iter_no_change` rounds. `tol` defines \"improvement\" (default is 1e-7). \n",
    "* **Leaf shrinkage:** adds `l2_regularization`, which ridge-shrinks each leaf value (without changing tree shape) so tiny, noisy leaves have less effect.\n",
    "\n",
    ">**Summary:**  Histogram-based GB trades a tiny approximation error (binning) for a **huge speed-up** and adds extra conveniences, making it the preferred choice for large tabular data sets. Tuning workflow relies on **Early stopping** to stop training before overfitting occurs. "
   ]
  },
  {
   "cell_type": "code",
   "execution_count": 12,
   "metadata": {},
   "outputs": [],
   "source": [
    "# Define a baseline model \n",
    "\n",
    "HGBC_model = HistGradientBoostingClassifier(\n",
    "    # tree structure and learning rate\n",
    "    learning_rate=0.1,            # These 5 parameters are at defaults for our baseline training in Problem 1             \n",
    "    max_leaf_nodes=31,            # but will be tuned by randomized search in Problem 2 and Optuna in Problem 3               \n",
    "    max_depth=None,               \n",
    "    min_samples_leaf=20,          \n",
    "    l2_regularization=0.0,        \n",
    "\n",
    "    # bins and iteration\n",
    "    max_bins=255,                 # default\n",
    "    max_iter=500,                 # high enough for early stopping\n",
    "    early_stopping=True,\n",
    "    n_iter_no_change=20,\n",
    "    validation_fraction=0.2,      # 20% monitored for early stopping\n",
    "    tol=1e-7,                     # default tolerance for validation improvement\n",
    "\n",
    "    # class imbalance\n",
    "    class_weight=\"balanced\",\n",
    "\n",
    "    random_state=random_seed,\n",
    "    verbose=0\n",
    ")\n"
   ]
  },
  {
   "cell_type": "markdown",
   "metadata": {},
   "source": [
    "### Create a pipeline appropriate for HGBC \n",
    "\n",
    "**Why use a `Pipeline` instead of encoding in the dataset first?**\n",
    "\n",
    "* **Avoid data leakage.** In each CV fold, the `OrdinalEncoder` is refit only on that fold’s training data, so the validation split never influences the encoder.\n",
    "* **Single, reusable object.** The pipeline bundles preprocessing + model, letting you call `fit`/`predict` on raw data anywhere (CV, Optuna, production) with identical behavior.\n",
    "* **Compatible with search tools.** `cross_validate`, `GridSearchCV`, and Optuna expect an estimator that can be cloned and refit; a pipeline meets that requirement automatically.\n",
    "\n",
    "Put simply, the pipeline gives you leak-free evaluation and portable, hassle-free tuning without extra code.\n"
   ]
  },
  {
   "cell_type": "code",
   "execution_count": 11,
   "metadata": {},
   "outputs": [],
   "source": [
    "enc = OrdinalEncoder(\n",
    "    handle_unknown=\"use_encoded_value\",   # Allow unseen categories during transform\n",
    "    unknown_value=-1,                     # Code for unseen categories\n",
    "    encoded_missing_value=-2,             # Code for missing values (NaN)\n",
    "    dtype=np.int64                        # Needed for HistGradientBoostingClassifier\n",
    ")\n",
    "\n",
    "# Categorical features\n",
    "cat_cols = X.select_dtypes(exclude=[\"number\"]).columns.tolist()\n",
    "\n",
    "# Numeric features (everything that isn’t object / category)\n",
    "num_cols = X.select_dtypes(include=[\"number\"]).columns.tolist()\n",
    "\n",
    "preprocess = ColumnTransformer(\n",
    "    [(\"cat\", enc, cat_cols),\n",
    "     (\"num\", \"passthrough\", num_cols)]\n",
    ")\n",
    "\n",
    "pipelined_model = Pipeline([\n",
    "    (\"prep\", preprocess),\n",
    "    (\"gb\",   HGBC_model)\n",
    "])"
   ]
  },
  {
   "cell_type": "markdown",
   "metadata": {},
   "source": [
    "## Problem 1: Baseline Cross-Validation with F1\n",
    "\n",
    "In this problem, you will run a baseline cross-validation evaluation of your `HistGradientBoostingClassifier` pipeline, using `HGBC_model` defined above. \n",
    "\n",
    "**Background:**\n",
    "\n",
    "* Since the Adult dataset is imbalanced (about 24% positives, 76% negatives), accuracy alone is not reliable.\n",
    "* We will use the **F1 score** as the evaluation metric, since it balances precision (avoiding false positives) and recall (avoiding false negatives) in a single measure. This is a fairer metric for imbalanced classification, where both types of error matter.\n",
    "* We will apply **5-fold stratified cross-validation** to make sure each fold has the same proportion of the classes as the original dataset.\n",
    "* Repeated cross-validation is optional and not required here, because the Adult dataset is large and `HistGradientBoostingClassifier` is robust to small sampling differences. \n",
    "\n",
    "**Instructions:**\n",
    "\n",
    "1. Set up a `StratifiedKFold` cross-validation object with 5 splits, shuffling enabled, and `random_state=random_seed`.\n",
    "2. Use `cross_val_score` to estimate the mean F1 score and its standard deviation across the folds.\n",
    "3. Print out the mean and standard deviation of the F1 score, rounded to 4 decimal places.\n",
    "4. Answer the graded question.\n"
   ]
  },
  {
   "cell_type": "code",
   "execution_count": 14,
   "metadata": {},
   "outputs": [
    {
     "name": "stdout",
     "output_type": "stream",
     "text": [
      "Mean F1 score: 0.7123\n",
      "Std  F1 score: 0.0035\n"
     ]
    }
   ],
   "source": [
    "# Your code here\n",
    "from sklearn.metrics import f1_score, make_scorer\n",
    "skf = StratifiedKFold(n_splits=5, shuffle=True, random_state=random_seed)\n",
    "\n",
    "f1 = make_scorer(f1_score)\n",
    "\n",
    "scores = cross_val_score(\n",
    "    pipelined_model,\n",
    "    X_train,\n",
    "    y_train,\n",
    "    cv=skf,\n",
    "    scoring=f1,\n",
    "    n_jobs=-1\n",
    ")\n",
    "\n",
    "print(f\"Mean F1 score: {scores.mean():.4f}\")\n",
    "print(f\"Std  F1 score: {scores.std():.4f}\")\n"
   ]
  },
  {
   "cell_type": "markdown",
   "metadata": {},
   "source": [
    "### Problem 1 Graded Answer\n",
    "\n",
    "Set `a1` to the mean F1 score of the baseline model. "
   ]
  },
  {
   "cell_type": "code",
   "execution_count": 15,
   "metadata": {},
   "outputs": [],
   "source": [
    " # Your answer here\n",
    "\n",
    "a1 = scores.mean()                     # replace 0 with an expression"
   ]
  },
  {
   "cell_type": "code",
   "execution_count": 16,
   "metadata": {},
   "outputs": [
    {
     "name": "stdout",
     "output_type": "stream",
     "text": [
      "a1 = 0.7123\n"
     ]
    }
   ],
   "source": [
    "# DO NOT change this cell in any way\n",
    "\n",
    "print(f'a1 = {a1:.4f}')"
   ]
  },
  {
   "cell_type": "markdown",
   "metadata": {},
   "source": [
    "## Problem 2: Hyperparameter Optimization with Randomized Search for F1\n",
    "\n",
    "In this problem, you will tune your `pipelined_model` using `RandomizedSearchCV` to identify the best combination of tree structure and learning rate parameters that maximize the **F1 score**.\n",
    "\n",
    "**Background:**\n",
    "The F1 score is our main metric because it balances precision and recall on an imbalanced dataset. Optimizing hyperparameters for F1 ensures we manage both false positives and false negatives in a single measure.\n",
    "\n",
    "**Instructions:**\n",
    "\n",
    "1. Set up a randomized search over the following hyperparameter ranges, using appropriate random-number distributions:\n",
    "\n",
    "   * `learning_rate` (log-uniform between 1e-3 and 0.3)\n",
    "   * `max_leaf_nodes` (integer from 16 to 256)\n",
    "   * `max_depth` (integer from 2 to 10)\n",
    "   * `min_samples_leaf` (integer from 10 to 200)\n",
    "   * `l2_regularization` (uniform between 0.0 and 2.0)\n",
    "2. Use **5-fold stratified cross-validation**, with the same settings as in Problem 1.\n",
    "3. Set `n_iter` to at least 100 trials. More trials will generally yield better results, if your time and machine allow.\n",
    "4. After running the search, show a neatly formatted table of the top 5 results, using `display(...)` showing their mean F1 scores, standard deviation, and the chosen hyperparameter values.\n",
    "5. Answer the graded question.\n",
    "\n",
    "\n"
   ]
  },
  {
   "cell_type": "code",
   "execution_count": 17,
   "metadata": {},
   "outputs": [
    {
     "name": "stdout",
     "output_type": "stream",
     "text": [
      "Fitting 5 folds for each of 100 candidates, totalling 500 fits\n",
      "[CV] END gb__l2_regularization=0.749080237694725, gb__learning_rate=0.22648248189516848, gb__max_depth=9, gb__max_leaf_nodes=204, gb__min_samples_leaf=30; total time=   0.8s\n",
      "[CV] END gb__l2_regularization=0.749080237694725, gb__learning_rate=0.22648248189516848, gb__max_depth=9, gb__max_leaf_nodes=204, gb__min_samples_leaf=30; total time=   0.8s\n",
      "[CV] END gb__l2_regularization=0.749080237694725, gb__learning_rate=0.22648248189516848, gb__max_depth=9, gb__max_leaf_nodes=204, gb__min_samples_leaf=30; total time=   0.8s\n",
      "[CV] END gb__l2_regularization=0.749080237694725, gb__learning_rate=0.22648248189516848, gb__max_depth=9, gb__max_leaf_nodes=204, gb__min_samples_leaf=30; total time=   0.9s\n",
      "[CV] END gb__l2_regularization=0.749080237694725, gb__learning_rate=0.22648248189516848, gb__max_depth=9, gb__max_leaf_nodes=204, gb__min_samples_leaf=30; total time=   0.8s\n",
      "[CV] END gb__l2_regularization=0.31203728088487304, gb__learning_rate=0.0024345423962016913, gb__max_depth=9, gb__max_leaf_nodes=132, gb__min_samples_leaf=109; total time=   6.8s\n",
      "[CV] END gb__l2_regularization=0.31203728088487304, gb__learning_rate=0.0024345423962016913, gb__max_depth=9, gb__max_leaf_nodes=132, gb__min_samples_leaf=109; total time=   6.6s\n",
      "[CV] END gb__l2_regularization=0.31203728088487304, gb__learning_rate=0.0024345423962016913, gb__max_depth=9, gb__max_leaf_nodes=132, gb__min_samples_leaf=109; total time=   7.1s\n",
      "[CV] END gb__l2_regularization=0.31203728088487304, gb__learning_rate=0.0024345423962016913, gb__max_depth=9, gb__max_leaf_nodes=132, gb__min_samples_leaf=109; total time=   7.5s\n",
      "[CV] END gb__l2_regularization=0.28573363584388156, gb__learning_rate=0.040957144541603416, gb__max_depth=6, gb__max_leaf_nodes=17, gb__min_samples_leaf=97; total time=   3.4s\n",
      "[CV] END gb__l2_regularization=0.31203728088487304, gb__learning_rate=0.0024345423962016913, gb__max_depth=9, gb__max_leaf_nodes=132, gb__min_samples_leaf=109; total time=   6.2s\n",
      "[CV] END gb__l2_regularization=0.28573363584388156, gb__learning_rate=0.040957144541603416, gb__max_depth=6, gb__max_leaf_nodes=17, gb__min_samples_leaf=97; total time=   3.1s\n",
      "[CV] END gb__l2_regularization=0.28573363584388156, gb__learning_rate=0.040957144541603416, gb__max_depth=6, gb__max_leaf_nodes=17, gb__min_samples_leaf=97; total time=   3.1s\n",
      "[CV] END gb__l2_regularization=0.28573363584388156, gb__learning_rate=0.040957144541603416, gb__max_depth=6, gb__max_leaf_nodes=17, gb__min_samples_leaf=97; total time=   2.9s\n",
      "[CV] END gb__l2_regularization=0.28573363584388156, gb__learning_rate=0.040957144541603416, gb__max_depth=6, gb__max_leaf_nodes=17, gb__min_samples_leaf=97; total time=   3.0s\n",
      "[CV] END gb__l2_regularization=1.6648852816008435, gb__learning_rate=0.0033572967053517922, gb__max_depth=6, gb__max_leaf_nodes=176, gb__min_samples_leaf=67; total time=   4.3s\n",
      "[CV] END gb__l2_regularization=1.6648852816008435, gb__learning_rate=0.0033572967053517922, gb__max_depth=6, gb__max_leaf_nodes=176, gb__min_samples_leaf=67; total time=   4.2s\n",
      "[CV] END gb__l2_regularization=1.6648852816008435, gb__learning_rate=0.0033572967053517922, gb__max_depth=6, gb__max_leaf_nodes=176, gb__min_samples_leaf=67; total time=   4.0s\n",
      "[CV] END gb__l2_regularization=1.6648852816008435, gb__learning_rate=0.0033572967053517922, gb__max_depth=6, gb__max_leaf_nodes=176, gb__min_samples_leaf=67; total time=   4.2s\n",
      "[CV] END gb__l2_regularization=1.0495128632644757, gb__learning_rate=0.01174843954800703, gb__max_depth=2, gb__max_leaf_nodes=234, gb__min_samples_leaf=68; total time=   2.1s\n",
      "[CV] END gb__l2_regularization=1.6648852816008435, gb__learning_rate=0.0033572967053517922, gb__max_depth=6, gb__max_leaf_nodes=176, gb__min_samples_leaf=67; total time=   4.1s\n",
      "[CV] END gb__l2_regularization=1.0495128632644757, gb__learning_rate=0.01174843954800703, gb__max_depth=2, gb__max_leaf_nodes=234, gb__min_samples_leaf=68; total time=   2.1s\n",
      "[CV] END gb__l2_regularization=1.0495128632644757, gb__learning_rate=0.01174843954800703, gb__max_depth=2, gb__max_leaf_nodes=234, gb__min_samples_leaf=68; total time=   2.1s\n",
      "[CV] END gb__l2_regularization=1.0495128632644757, gb__learning_rate=0.01174843954800703, gb__max_depth=2, gb__max_leaf_nodes=234, gb__min_samples_leaf=68; total time=   2.4s\n",
      "[CV] END gb__l2_regularization=1.0495128632644757, gb__learning_rate=0.01174843954800703, gb__max_depth=2, gb__max_leaf_nodes=234, gb__min_samples_leaf=68; total time=   2.3s\n",
      "[CV] END gb__l2_regularization=0.799721943430511, gb__learning_rate=0.0013049579160355222, gb__max_depth=4, gb__max_leaf_nodes=123, gb__min_samples_leaf=64; total time=   2.9s\n",
      "[CV] END gb__l2_regularization=0.799721943430511, gb__learning_rate=0.0013049579160355222, gb__max_depth=4, gb__max_leaf_nodes=123, gb__min_samples_leaf=64; total time=   3.0s\n",
      "[CV] END gb__l2_regularization=0.799721943430511, gb__learning_rate=0.0013049579160355222, gb__max_depth=4, gb__max_leaf_nodes=123, gb__min_samples_leaf=64; total time=   2.9s\n",
      "[CV] END gb__l2_regularization=0.799721943430511, gb__learning_rate=0.0013049579160355222, gb__max_depth=4, gb__max_leaf_nodes=123, gb__min_samples_leaf=64; total time=   3.0s\n",
      "[CV] END gb__l2_regularization=0.799721943430511, gb__learning_rate=0.0013049579160355222, gb__max_depth=4, gb__max_leaf_nodes=123, gb__min_samples_leaf=64; total time=   3.2s\n",
      "[CV] END gb__l2_regularization=1.9664617716135764, gb__learning_rate=0.014329409164607492, gb__max_depth=6, gb__max_leaf_nodes=66, gb__min_samples_leaf=144; total time=   3.4s\n",
      "[CV] END gb__l2_regularization=1.9664617716135764, gb__learning_rate=0.014329409164607492, gb__max_depth=6, gb__max_leaf_nodes=66, gb__min_samples_leaf=144; total time=   3.9s\n",
      "[CV] END gb__l2_regularization=1.9664617716135764, gb__learning_rate=0.014329409164607492, gb__max_depth=6, gb__max_leaf_nodes=66, gb__min_samples_leaf=144; total time=   3.7s\n",
      "[CV] END gb__l2_regularization=1.9664617716135764, gb__learning_rate=0.014329409164607492, gb__max_depth=6, gb__max_leaf_nodes=66, gb__min_samples_leaf=144; total time=   3.7s\n",
      "[CV] END gb__l2_regularization=1.9664617716135764, gb__learning_rate=0.014329409164607492, gb__max_depth=6, gb__max_leaf_nodes=66, gb__min_samples_leaf=144; total time=   3.5s\n",
      "[CV] END gb__l2_regularization=0.34104824737458306, gb__learning_rate=0.0014492412389916862, gb__max_depth=5, gb__max_leaf_nodes=104, gb__min_samples_leaf=69; total time=   3.6s\n",
      "[CV] END gb__l2_regularization=0.34104824737458306, gb__learning_rate=0.0014492412389916862, gb__max_depth=5, gb__max_leaf_nodes=104, gb__min_samples_leaf=69; total time=   3.6s\n",
      "[CV] END gb__l2_regularization=0.34104824737458306, gb__learning_rate=0.0014492412389916862, gb__max_depth=5, gb__max_leaf_nodes=104, gb__min_samples_leaf=69; total time=   3.6s\n",
      "[CV] END gb__l2_regularization=0.34104824737458306, gb__learning_rate=0.0014492412389916862, gb__max_depth=5, gb__max_leaf_nodes=104, gb__min_samples_leaf=69; total time=   3.6s\n",
      "[CV] END gb__l2_regularization=0.34104824737458306, gb__learning_rate=0.0014492412389916862, gb__max_depth=5, gb__max_leaf_nodes=104, gb__min_samples_leaf=69; total time=   3.5s\n",
      "[CV] END gb__l2_regularization=1.1265764356910786, gb__learning_rate=0.00900997135734756, gb__max_depth=6, gb__max_leaf_nodes=145, gb__min_samples_leaf=93; total time=   3.9s\n",
      "[CV] END gb__l2_regularization=1.1265764356910786, gb__learning_rate=0.00900997135734756, gb__max_depth=6, gb__max_leaf_nodes=145, gb__min_samples_leaf=93; total time=   4.0s\n",
      "[CV] END gb__l2_regularization=1.1265764356910786, gb__learning_rate=0.00900997135734756, gb__max_depth=6, gb__max_leaf_nodes=145, gb__min_samples_leaf=93; total time=   3.8s\n",
      "[CV] END gb__l2_regularization=1.1265764356910786, gb__learning_rate=0.00900997135734756, gb__max_depth=6, gb__max_leaf_nodes=145, gb__min_samples_leaf=93; total time=   3.9s\n",
      "[CV] END gb__l2_regularization=1.1265764356910786, gb__learning_rate=0.00900997135734756, gb__max_depth=6, gb__max_leaf_nodes=145, gb__min_samples_leaf=93; total time=   4.0s\n",
      "[CV] END gb__l2_regularization=0.48205093205202343, gb__learning_rate=0.04926364988526881, gb__max_depth=9, gb__max_leaf_nodes=190, gb__min_samples_leaf=44; total time=   3.0s\n",
      "[CV] END gb__l2_regularization=0.48205093205202343, gb__learning_rate=0.04926364988526881, gb__max_depth=9, gb__max_leaf_nodes=190, gb__min_samples_leaf=44; total time=   2.8s\n",
      "[CV] END gb__l2_regularization=0.48205093205202343, gb__learning_rate=0.04926364988526881, gb__max_depth=9, gb__max_leaf_nodes=190, gb__min_samples_leaf=44; total time=   1.9s\n",
      "[CV] END gb__l2_regularization=0.48205093205202343, gb__learning_rate=0.04926364988526881, gb__max_depth=9, gb__max_leaf_nodes=190, gb__min_samples_leaf=44; total time=   2.1s\n",
      "[CV] END gb__l2_regularization=0.48205093205202343, gb__learning_rate=0.04926364988526881, gb__max_depth=9, gb__max_leaf_nodes=190, gb__min_samples_leaf=44; total time=   2.1s\n",
      "[CV] END gb__l2_regularization=1.8186408041575641, gb__learning_rate=0.004375517173207359, gb__max_depth=9, gb__max_leaf_nodes=147, gb__min_samples_leaf=11; total time=   8.8s\n",
      "[CV] END gb__l2_regularization=1.8186408041575641, gb__learning_rate=0.004375517173207359, gb__max_depth=9, gb__max_leaf_nodes=147, gb__min_samples_leaf=11; total time=   8.9s\n",
      "[CV] END gb__l2_regularization=1.8186408041575641, gb__learning_rate=0.004375517173207359, gb__max_depth=9, gb__max_leaf_nodes=147, gb__min_samples_leaf=11; total time=   9.0s\n",
      "[CV] END gb__l2_regularization=1.8186408041575641, gb__learning_rate=0.004375517173207359, gb__max_depth=9, gb__max_leaf_nodes=147, gb__min_samples_leaf=11; total time=   8.9s\n",
      "[CV] END gb__l2_regularization=0.8503117489824894, gb__learning_rate=0.003274135983403057, gb__max_depth=5, gb__max_leaf_nodes=69, gb__min_samples_leaf=200; total time=   3.6s\n",
      "[CV] END gb__l2_regularization=0.8503117489824894, gb__learning_rate=0.003274135983403057, gb__max_depth=5, gb__max_leaf_nodes=69, gb__min_samples_leaf=200; total time=   3.4s\n",
      "[CV] END gb__l2_regularization=1.8186408041575641, gb__learning_rate=0.004375517173207359, gb__max_depth=9, gb__max_leaf_nodes=147, gb__min_samples_leaf=11; total time=   8.7s\n",
      "[CV] END gb__l2_regularization=0.8503117489824894, gb__learning_rate=0.003274135983403057, gb__max_depth=5, gb__max_leaf_nodes=69, gb__min_samples_leaf=200; total time=   3.5s\n",
      "[CV] END gb__l2_regularization=0.8503117489824894, gb__learning_rate=0.003274135983403057, gb__max_depth=5, gb__max_leaf_nodes=69, gb__min_samples_leaf=200; total time=   3.6s\n",
      "[CV] END gb__l2_regularization=0.8503117489824894, gb__learning_rate=0.003274135983403057, gb__max_depth=5, gb__max_leaf_nodes=69, gb__min_samples_leaf=200; total time=   3.5s\n",
      "[CV] END gb__l2_regularization=1.684569549189997, gb__learning_rate=0.013004555820744673, gb__max_depth=5, gb__max_leaf_nodes=29, gb__min_samples_leaf=104; total time=   3.5s\n",
      "[CV] END gb__l2_regularization=1.684569549189997, gb__learning_rate=0.013004555820744673, gb__max_depth=5, gb__max_leaf_nodes=29, gb__min_samples_leaf=104; total time=   3.5s\n",
      "[CV] END gb__l2_regularization=1.684569549189997, gb__learning_rate=0.013004555820744673, gb__max_depth=5, gb__max_leaf_nodes=29, gb__min_samples_leaf=104; total time=   3.5s\n",
      "[CV] END gb__l2_regularization=1.684569549189997, gb__learning_rate=0.013004555820744673, gb__max_depth=5, gb__max_leaf_nodes=29, gb__min_samples_leaf=104; total time=   3.4s\n",
      "[CV] END gb__l2_regularization=1.684569549189997, gb__learning_rate=0.013004555820744673, gb__max_depth=5, gb__max_leaf_nodes=29, gb__min_samples_leaf=104; total time=   3.4s\n",
      "[CV] END gb__l2_regularization=1.8437484700462337, gb__learning_rate=0.0016565580440884786, gb__max_depth=8, gb__max_leaf_nodes=205, gb__min_samples_leaf=49; total time=   6.3s\n",
      "[CV] END gb__l2_regularization=1.8437484700462337, gb__learning_rate=0.0016565580440884786, gb__max_depth=8, gb__max_leaf_nodes=205, gb__min_samples_leaf=49; total time=   6.3s\n",
      "[CV] END gb__l2_regularization=1.8437484700462337, gb__learning_rate=0.0016565580440884786, gb__max_depth=8, gb__max_leaf_nodes=205, gb__min_samples_leaf=49; total time=   6.4s\n",
      "[CV] END gb__l2_regularization=1.8437484700462337, gb__learning_rate=0.0016565580440884786, gb__max_depth=8, gb__max_leaf_nodes=205, gb__min_samples_leaf=49; total time=   6.5s\n",
      "[CV] END gb__l2_regularization=1.6890676973563028, gb__learning_rate=0.0709908749648402, gb__max_depth=6, gb__max_leaf_nodes=39, gb__min_samples_leaf=163; total time=   2.8s\n",
      "[CV] END gb__l2_regularization=1.6890676973563028, gb__learning_rate=0.0709908749648402, gb__max_depth=6, gb__max_leaf_nodes=39, gb__min_samples_leaf=163; total time=   2.1s\n",
      "[CV] END gb__l2_regularization=1.8437484700462337, gb__learning_rate=0.0016565580440884786, gb__max_depth=8, gb__max_leaf_nodes=205, gb__min_samples_leaf=49; total time=   6.0s\n",
      "[CV] END gb__l2_regularization=1.6890676973563028, gb__learning_rate=0.0709908749648402, gb__max_depth=6, gb__max_leaf_nodes=39, gb__min_samples_leaf=163; total time=   2.4s\n",
      "[CV] END gb__l2_regularization=1.6890676973563028, gb__learning_rate=0.0709908749648402, gb__max_depth=6, gb__max_leaf_nodes=39, gb__min_samples_leaf=163; total time=   2.7s\n",
      "[CV] END gb__l2_regularization=1.6890676973563028, gb__learning_rate=0.0709908749648402, gb__max_depth=6, gb__max_leaf_nodes=39, gb__min_samples_leaf=163; total time=   2.8s\n",
      "[CV] END gb__l2_regularization=1.930510614528276, gb__learning_rate=0.03189315160363524, gb__max_depth=10, gb__max_leaf_nodes=172, gb__min_samples_leaf=24; total time=   4.3s\n",
      "[CV] END gb__l2_regularization=1.930510614528276, gb__learning_rate=0.03189315160363524, gb__max_depth=10, gb__max_leaf_nodes=172, gb__min_samples_leaf=24; total time=   4.1s\n",
      "[CV] END gb__l2_regularization=1.930510614528276, gb__learning_rate=0.03189315160363524, gb__max_depth=10, gb__max_leaf_nodes=172, gb__min_samples_leaf=24; total time=   3.5s\n",
      "[CV] END gb__l2_regularization=1.930510614528276, gb__learning_rate=0.03189315160363524, gb__max_depth=10, gb__max_leaf_nodes=172, gb__min_samples_leaf=24; total time=   3.3s\n",
      "[CV] END gb__l2_regularization=1.930510614528276, gb__learning_rate=0.03189315160363524, gb__max_depth=10, gb__max_leaf_nodes=172, gb__min_samples_leaf=24; total time=   3.9s\n",
      "[CV] END gb__l2_regularization=0.330533878126005, gb__learning_rate=0.0010932847127976988, gb__max_depth=10, gb__max_leaf_nodes=103, gb__min_samples_leaf=138; total time=   6.8s\n",
      "[CV] END gb__l2_regularization=0.330533878126005, gb__learning_rate=0.0010932847127976988, gb__max_depth=10, gb__max_leaf_nodes=103, gb__min_samples_leaf=138; total time=   6.5s\n",
      "[CV] END gb__l2_regularization=0.330533878126005, gb__learning_rate=0.0010932847127976988, gb__max_depth=10, gb__max_leaf_nodes=103, gb__min_samples_leaf=138; total time=   6.7s\n",
      "[CV] END gb__l2_regularization=0.330533878126005, gb__learning_rate=0.0010932847127976988, gb__max_depth=10, gb__max_leaf_nodes=103, gb__min_samples_leaf=138; total time=   6.6s\n",
      "[CV] END gb__l2_regularization=0.3974313630683448, gb__learning_rate=0.0010319982330247674, gb__max_depth=4, gb__max_leaf_nodes=96, gb__min_samples_leaf=145; total time=   3.0s\n",
      "[CV] END gb__l2_regularization=0.330533878126005, gb__learning_rate=0.0010932847127976988, gb__max_depth=10, gb__max_leaf_nodes=103, gb__min_samples_leaf=138; total time=   6.5s\n",
      "[CV] END gb__l2_regularization=0.3974313630683448, gb__learning_rate=0.0010319982330247674, gb__max_depth=4, gb__max_leaf_nodes=96, gb__min_samples_leaf=145; total time=   2.8s\n",
      "[CV] END gb__l2_regularization=0.3974313630683448, gb__learning_rate=0.0010319982330247674, gb__max_depth=4, gb__max_leaf_nodes=96, gb__min_samples_leaf=145; total time=   3.0s\n",
      "[CV] END gb__l2_regularization=0.3974313630683448, gb__learning_rate=0.0010319982330247674, gb__max_depth=4, gb__max_leaf_nodes=96, gb__min_samples_leaf=145; total time=   3.1s\n",
      "[CV] END gb__l2_regularization=0.3974313630683448, gb__learning_rate=0.0010319982330247674, gb__max_depth=4, gb__max_leaf_nodes=96, gb__min_samples_leaf=145; total time=   3.0s\n",
      "[CV] END gb__l2_regularization=1.4580143360819746, gb__learning_rate=0.08138233922650512, gb__max_depth=6, gb__max_leaf_nodes=249, gb__min_samples_leaf=50; total time=   2.1s\n",
      "[CV] END gb__l2_regularization=1.4580143360819746, gb__learning_rate=0.08138233922650512, gb__max_depth=6, gb__max_leaf_nodes=249, gb__min_samples_leaf=50; total time=   1.6s\n",
      "[CV] END gb__l2_regularization=1.4580143360819746, gb__learning_rate=0.08138233922650512, gb__max_depth=6, gb__max_leaf_nodes=249, gb__min_samples_leaf=50; total time=   1.8s\n",
      "[CV] END gb__l2_regularization=1.4580143360819746, gb__learning_rate=0.08138233922650512, gb__max_depth=6, gb__max_leaf_nodes=249, gb__min_samples_leaf=50; total time=   1.5s\n",
      "[CV] END gb__l2_regularization=1.4580143360819746, gb__learning_rate=0.08138233922650512, gb__max_depth=6, gb__max_leaf_nodes=249, gb__min_samples_leaf=50; total time=   1.9s\n",
      "[CV] END gb__l2_regularization=1.8299193510875615, gb__learning_rate=0.12754065069696732, gb__max_depth=3, gb__max_leaf_nodes=48, gb__min_samples_leaf=57; total time=   2.3s\n",
      "[CV] END gb__l2_regularization=1.8299193510875615, gb__learning_rate=0.12754065069696732, gb__max_depth=3, gb__max_leaf_nodes=48, gb__min_samples_leaf=57; total time=   2.2s\n",
      "[CV] END gb__l2_regularization=1.8299193510875615, gb__learning_rate=0.12754065069696732, gb__max_depth=3, gb__max_leaf_nodes=48, gb__min_samples_leaf=57; total time=   2.2s\n",
      "[CV] END gb__l2_regularization=1.8299193510875615, gb__learning_rate=0.12754065069696732, gb__max_depth=3, gb__max_leaf_nodes=48, gb__min_samples_leaf=57; total time=   2.1s\n",
      "[CV] END gb__l2_regularization=1.8299193510875615, gb__learning_rate=0.12754065069696732, gb__max_depth=3, gb__max_leaf_nodes=48, gb__min_samples_leaf=57; total time=   2.2s\n",
      "[CV] END gb__l2_regularization=0.7416365043965327, gb__learning_rate=0.04537335394667876, gb__max_depth=6, gb__max_leaf_nodes=114, gb__min_samples_leaf=181; total time=   3.2s\n",
      "[CV] END gb__l2_regularization=0.7416365043965327, gb__learning_rate=0.04537335394667876, gb__max_depth=6, gb__max_leaf_nodes=114, gb__min_samples_leaf=181; total time=   3.3s\n",
      "[CV] END gb__l2_regularization=0.7416365043965327, gb__learning_rate=0.04537335394667876, gb__max_depth=6, gb__max_leaf_nodes=114, gb__min_samples_leaf=181; total time=   3.0s\n",
      "[CV] END gb__l2_regularization=0.7416365043965327, gb__learning_rate=0.04537335394667876, gb__max_depth=6, gb__max_leaf_nodes=114, gb__min_samples_leaf=181; total time=   3.1s\n",
      "[CV] END gb__l2_regularization=0.7416365043965327, gb__learning_rate=0.04537335394667876, gb__max_depth=6, gb__max_leaf_nodes=114, gb__min_samples_leaf=181; total time=   3.0s\n",
      "[CV] END gb__l2_regularization=1.2751149427104262, gb__learning_rate=0.1576643635794309, gb__max_depth=2, gb__max_leaf_nodes=242, gb__min_samples_leaf=110; total time=   2.0s\n",
      "[CV] END gb__l2_regularization=1.2751149427104262, gb__learning_rate=0.1576643635794309, gb__max_depth=2, gb__max_leaf_nodes=242, gb__min_samples_leaf=110; total time=   2.1s\n",
      "[CV] END gb__l2_regularization=1.2751149427104262, gb__learning_rate=0.1576643635794309, gb__max_depth=2, gb__max_leaf_nodes=242, gb__min_samples_leaf=110; total time=   2.1s\n",
      "[CV] END gb__l2_regularization=1.2751149427104262, gb__learning_rate=0.1576643635794309, gb__max_depth=2, gb__max_leaf_nodes=242, gb__min_samples_leaf=110; total time=   2.0s\n",
      "[CV] END gb__l2_regularization=1.2751149427104262, gb__learning_rate=0.1576643635794309, gb__max_depth=2, gb__max_leaf_nodes=242, gb__min_samples_leaf=110; total time=   2.1s\n",
      "[CV] END gb__l2_regularization=1.9434241907782075, gb__learning_rate=0.1267250518284891, gb__max_depth=6, gb__max_leaf_nodes=233, gb__min_samples_leaf=151; total time=   1.9s\n",
      "[CV] END gb__l2_regularization=1.9434241907782075, gb__learning_rate=0.1267250518284891, gb__max_depth=6, gb__max_leaf_nodes=233, gb__min_samples_leaf=151; total time=   1.6s\n",
      "[CV] END gb__l2_regularization=1.9434241907782075, gb__learning_rate=0.1267250518284891, gb__max_depth=6, gb__max_leaf_nodes=233, gb__min_samples_leaf=151; total time=   1.4s\n",
      "[CV] END gb__l2_regularization=1.9434241907782075, gb__learning_rate=0.1267250518284891, gb__max_depth=6, gb__max_leaf_nodes=233, gb__min_samples_leaf=151; total time=   2.0s\n",
      "[CV] END gb__l2_regularization=1.9434241907782075, gb__learning_rate=0.1267250518284891, gb__max_depth=6, gb__max_leaf_nodes=233, gb__min_samples_leaf=151; total time=   1.5s\n",
      "[CV] END gb__l2_regularization=0.9875911927287815, gb__learning_rate=0.019718442220616167, gb__max_depth=4, gb__max_leaf_nodes=78, gb__min_samples_leaf=105; total time=   2.7s\n",
      "[CV] END gb__l2_regularization=0.9875911927287815, gb__learning_rate=0.019718442220616167, gb__max_depth=4, gb__max_leaf_nodes=78, gb__min_samples_leaf=105; total time=   2.8s\n",
      "[CV] END gb__l2_regularization=0.9875911927287815, gb__learning_rate=0.019718442220616167, gb__max_depth=4, gb__max_leaf_nodes=78, gb__min_samples_leaf=105; total time=   2.9s\n",
      "[CV] END gb__l2_regularization=0.9875911927287815, gb__learning_rate=0.019718442220616167, gb__max_depth=4, gb__max_leaf_nodes=78, gb__min_samples_leaf=105; total time=   2.7s\n",
      "[CV] END gb__l2_regularization=0.9875911927287815, gb__learning_rate=0.019718442220616167, gb__max_depth=4, gb__max_leaf_nodes=78, gb__min_samples_leaf=105; total time=   3.0s\n",
      "[CV] END gb__l2_regularization=1.2728208225275608, gb__learning_rate=0.00600755675334899, gb__max_depth=5, gb__max_leaf_nodes=237, gb__min_samples_leaf=160; total time=   3.5s\n",
      "[CV] END gb__l2_regularization=1.2728208225275608, gb__learning_rate=0.00600755675334899, gb__max_depth=5, gb__max_leaf_nodes=237, gb__min_samples_leaf=160; total time=   3.3s\n",
      "[CV] END gb__l2_regularization=1.2728208225275608, gb__learning_rate=0.00600755675334899, gb__max_depth=5, gb__max_leaf_nodes=237, gb__min_samples_leaf=160; total time=   3.4s\n",
      "[CV] END gb__l2_regularization=1.2728208225275608, gb__learning_rate=0.00600755675334899, gb__max_depth=5, gb__max_leaf_nodes=237, gb__min_samples_leaf=160; total time=   3.5s\n",
      "[CV] END gb__l2_regularization=1.2728208225275608, gb__learning_rate=0.00600755675334899, gb__max_depth=5, gb__max_leaf_nodes=237, gb__min_samples_leaf=160; total time=   3.4s\n",
      "[CV] END gb__l2_regularization=1.2088347585556345, gb__learning_rate=0.021739614639581923, gb__max_depth=5, gb__max_leaf_nodes=28, gb__min_samples_leaf=169; total time=   3.0s\n",
      "[CV] END gb__l2_regularization=1.2088347585556345, gb__learning_rate=0.021739614639581923, gb__max_depth=5, gb__max_leaf_nodes=28, gb__min_samples_leaf=169; total time=   3.2s\n",
      "[CV] END gb__l2_regularization=1.2088347585556345, gb__learning_rate=0.021739614639581923, gb__max_depth=5, gb__max_leaf_nodes=28, gb__min_samples_leaf=169; total time=   3.3s\n",
      "[CV] END gb__l2_regularization=1.2088347585556345, gb__learning_rate=0.021739614639581923, gb__max_depth=5, gb__max_leaf_nodes=28, gb__min_samples_leaf=169; total time=   3.2s\n",
      "[CV] END gb__l2_regularization=1.2088347585556345, gb__learning_rate=0.021739614639581923, gb__max_depth=5, gb__max_leaf_nodes=28, gb__min_samples_leaf=169; total time=   2.9s\n",
      "[CV] END gb__l2_regularization=1.197730932977072, gb__learning_rate=0.05260978477210602, gb__max_depth=3, gb__max_leaf_nodes=185, gb__min_samples_leaf=54; total time=   2.3s\n",
      "[CV] END gb__l2_regularization=1.197730932977072, gb__learning_rate=0.05260978477210602, gb__max_depth=3, gb__max_leaf_nodes=185, gb__min_samples_leaf=54; total time=   2.3s\n",
      "[CV] END gb__l2_regularization=1.197730932977072, gb__learning_rate=0.05260978477210602, gb__max_depth=3, gb__max_leaf_nodes=185, gb__min_samples_leaf=54; total time=   2.4s\n",
      "[CV] END gb__l2_regularization=1.197730932977072, gb__learning_rate=0.05260978477210602, gb__max_depth=3, gb__max_leaf_nodes=185, gb__min_samples_leaf=54; total time=   2.6s\n",
      "[CV] END gb__l2_regularization=1.197730932977072, gb__learning_rate=0.05260978477210602, gb__max_depth=3, gb__max_leaf_nodes=185, gb__min_samples_leaf=54; total time=   2.3s\n",
      "[CV] END gb__l2_regularization=0.591267371675428, gb__learning_rate=0.001825248807094868, gb__max_depth=5, gb__max_leaf_nodes=45, gb__min_samples_leaf=199; total time=   3.5s\n",
      "[CV] END gb__l2_regularization=0.591267371675428, gb__learning_rate=0.001825248807094868, gb__max_depth=5, gb__max_leaf_nodes=45, gb__min_samples_leaf=199; total time=   3.5s\n",
      "[CV] END gb__l2_regularization=0.591267371675428, gb__learning_rate=0.001825248807094868, gb__max_depth=5, gb__max_leaf_nodes=45, gb__min_samples_leaf=199; total time=   3.6s\n",
      "[CV] END gb__l2_regularization=0.591267371675428, gb__learning_rate=0.001825248807094868, gb__max_depth=5, gb__max_leaf_nodes=45, gb__min_samples_leaf=199; total time=   3.7s\n",
      "[CV] END gb__l2_regularization=1.0786844838313014, gb__learning_rate=0.10002928632464418, gb__max_depth=10, gb__max_leaf_nodes=246, gb__min_samples_leaf=199; total time=   2.3s\n",
      "[CV] END gb__l2_regularization=0.591267371675428, gb__learning_rate=0.001825248807094868, gb__max_depth=5, gb__max_leaf_nodes=45, gb__min_samples_leaf=199; total time=   3.5s\n",
      "[CV] END gb__l2_regularization=1.0786844838313014, gb__learning_rate=0.10002928632464418, gb__max_depth=10, gb__max_leaf_nodes=246, gb__min_samples_leaf=199; total time=   1.6s\n",
      "[CV] END gb__l2_regularization=1.0786844838313014, gb__learning_rate=0.10002928632464418, gb__max_depth=10, gb__max_leaf_nodes=246, gb__min_samples_leaf=199; total time=   1.6s\n",
      "[CV] END gb__l2_regularization=1.0786844838313014, gb__learning_rate=0.10002928632464418, gb__max_depth=10, gb__max_leaf_nodes=246, gb__min_samples_leaf=199; total time=   1.8s\n",
      "[CV] END gb__l2_regularization=1.0786844838313014, gb__learning_rate=0.10002928632464418, gb__max_depth=10, gb__max_leaf_nodes=246, gb__min_samples_leaf=199; total time=   2.2s\n",
      "[CV] END gb__l2_regularization=0.22010384905535352, gb__learning_rate=0.0036696364068833334, gb__max_depth=10, gb__max_leaf_nodes=131, gb__min_samples_leaf=12; total time=   9.2s\n",
      "[CV] END gb__l2_regularization=0.22010384905535352, gb__learning_rate=0.0036696364068833334, gb__max_depth=10, gb__max_leaf_nodes=131, gb__min_samples_leaf=12; total time=   9.2s\n",
      "[CV] END gb__l2_regularization=0.22010384905535352, gb__learning_rate=0.0036696364068833334, gb__max_depth=10, gb__max_leaf_nodes=131, gb__min_samples_leaf=12; total time=   9.3s\n",
      "[CV] END gb__l2_regularization=0.22010384905535352, gb__learning_rate=0.0036696364068833334, gb__max_depth=10, gb__max_leaf_nodes=131, gb__min_samples_leaf=12; total time=   9.3s\n",
      "[CV] END gb__l2_regularization=0.013904261062381407, gb__learning_rate=0.018415478124479582, gb__max_depth=10, gb__max_leaf_nodes=77, gb__min_samples_leaf=174; total time=   5.1s\n",
      "[CV] END gb__l2_regularization=0.22010384905535352, gb__learning_rate=0.0036696364068833334, gb__max_depth=10, gb__max_leaf_nodes=131, gb__min_samples_leaf=12; total time=   8.9s\n",
      "[CV] END gb__l2_regularization=0.013904261062381407, gb__learning_rate=0.018415478124479582, gb__max_depth=10, gb__max_leaf_nodes=77, gb__min_samples_leaf=174; total time=   4.7s\n",
      "[CV] END gb__l2_regularization=0.013904261062381407, gb__learning_rate=0.018415478124479582, gb__max_depth=10, gb__max_leaf_nodes=77, gb__min_samples_leaf=174; total time=   4.8s\n",
      "[CV] END gb__l2_regularization=0.013904261062381407, gb__learning_rate=0.018415478124479582, gb__max_depth=10, gb__max_leaf_nodes=77, gb__min_samples_leaf=174; total time=   5.0s\n",
      "[CV] END gb__l2_regularization=0.013904261062381407, gb__learning_rate=0.018415478124479582, gb__max_depth=10, gb__max_leaf_nodes=77, gb__min_samples_leaf=174; total time=   4.7s\n",
      "[CV] END gb__l2_regularization=1.3848720657805407, gb__learning_rate=0.004649079987978043, gb__max_depth=9, gb__max_leaf_nodes=222, gb__min_samples_leaf=68; total time=   6.6s\n",
      "[CV] END gb__l2_regularization=1.3848720657805407, gb__learning_rate=0.004649079987978043, gb__max_depth=9, gb__max_leaf_nodes=222, gb__min_samples_leaf=68; total time=   6.5s\n",
      "[CV] END gb__l2_regularization=1.3848720657805407, gb__learning_rate=0.004649079987978043, gb__max_depth=9, gb__max_leaf_nodes=222, gb__min_samples_leaf=68; total time=   6.8s\n",
      "[CV] END gb__l2_regularization=1.3848720657805407, gb__learning_rate=0.004649079987978043, gb__max_depth=9, gb__max_leaf_nodes=222, gb__min_samples_leaf=68; total time=   6.4s\n",
      "[CV] END gb__l2_regularization=1.3848720657805407, gb__learning_rate=0.004649079987978043, gb__max_depth=9, gb__max_leaf_nodes=222, gb__min_samples_leaf=68; total time=   6.5s\n",
      "[CV] END gb__l2_regularization=0.6464058640415105, gb__learning_rate=0.019280010934335175, gb__max_depth=10, gb__max_leaf_nodes=195, gb__min_samples_leaf=122; total time=   4.8s\n",
      "[CV] END gb__l2_regularization=0.6464058640415105, gb__learning_rate=0.019280010934335175, gb__max_depth=10, gb__max_leaf_nodes=195, gb__min_samples_leaf=122; total time=   4.9s\n",
      "[CV] END gb__l2_regularization=0.6464058640415105, gb__learning_rate=0.019280010934335175, gb__max_depth=10, gb__max_leaf_nodes=195, gb__min_samples_leaf=122; total time=   4.9s\n",
      "[CV] END gb__l2_regularization=0.6464058640415105, gb__learning_rate=0.019280010934335175, gb__max_depth=10, gb__max_leaf_nodes=195, gb__min_samples_leaf=122; total time=   5.0s\n",
      "[CV] END gb__l2_regularization=0.6464058640415105, gb__learning_rate=0.019280010934335175, gb__max_depth=10, gb__max_leaf_nodes=195, gb__min_samples_leaf=122; total time=   5.1s\n",
      "[CV] END gb__l2_regularization=0.12978449421796312, gb__learning_rate=0.004255780974870929, gb__max_depth=8, gb__max_leaf_nodes=145, gb__min_samples_leaf=140; total time=   5.5s\n",
      "[CV] END gb__l2_regularization=0.12978449421796312, gb__learning_rate=0.004255780974870929, gb__max_depth=8, gb__max_leaf_nodes=145, gb__min_samples_leaf=140; total time=   5.7s\n",
      "[CV] END gb__l2_regularization=0.12978449421796312, gb__learning_rate=0.004255780974870929, gb__max_depth=8, gb__max_leaf_nodes=145, gb__min_samples_leaf=140; total time=   5.5s\n",
      "[CV] END gb__l2_regularization=0.12978449421796312, gb__learning_rate=0.004255780974870929, gb__max_depth=8, gb__max_leaf_nodes=145, gb__min_samples_leaf=140; total time=   5.4s\n",
      "[CV] END gb__l2_regularization=0.6017566196335393, gb__learning_rate=0.005076734398297609, gb__max_depth=2, gb__max_leaf_nodes=202, gb__min_samples_leaf=122; total time=   2.2s\n",
      "[CV] END gb__l2_regularization=0.12978449421796312, gb__learning_rate=0.004255780974870929, gb__max_depth=8, gb__max_leaf_nodes=145, gb__min_samples_leaf=140; total time=   5.5s\n",
      "[CV] END gb__l2_regularization=0.6017566196335393, gb__learning_rate=0.005076734398297609, gb__max_depth=2, gb__max_leaf_nodes=202, gb__min_samples_leaf=122; total time=   2.0s\n",
      "[CV] END gb__l2_regularization=0.6017566196335393, gb__learning_rate=0.005076734398297609, gb__max_depth=2, gb__max_leaf_nodes=202, gb__min_samples_leaf=122; total time=   2.2s\n",
      "[CV] END gb__l2_regularization=0.6017566196335393, gb__learning_rate=0.005076734398297609, gb__max_depth=2, gb__max_leaf_nodes=202, gb__min_samples_leaf=122; total time=   2.2s\n",
      "[CV] END gb__l2_regularization=0.6017566196335393, gb__learning_rate=0.005076734398297609, gb__max_depth=2, gb__max_leaf_nodes=202, gb__min_samples_leaf=122; total time=   2.2s\n",
      "[CV] END gb__l2_regularization=1.9532299116653058, gb__learning_rate=0.010427699854447888, gb__max_depth=8, gb__max_leaf_nodes=244, gb__min_samples_leaf=138; total time=   4.8s\n",
      "[CV] END gb__l2_regularization=1.9532299116653058, gb__learning_rate=0.010427699854447888, gb__max_depth=8, gb__max_leaf_nodes=244, gb__min_samples_leaf=138; total time=   4.4s\n",
      "[CV] END gb__l2_regularization=1.9532299116653058, gb__learning_rate=0.010427699854447888, gb__max_depth=8, gb__max_leaf_nodes=244, gb__min_samples_leaf=138; total time=   4.7s\n",
      "[CV] END gb__l2_regularization=1.9532299116653058, gb__learning_rate=0.010427699854447888, gb__max_depth=8, gb__max_leaf_nodes=244, gb__min_samples_leaf=138; total time=   4.6s\n",
      "[CV] END gb__l2_regularization=1.9532299116653058, gb__learning_rate=0.010427699854447888, gb__max_depth=8, gb__max_leaf_nodes=244, gb__min_samples_leaf=138; total time=   4.6s\n",
      "[CV] END gb__l2_regularization=0.47912378133394484, gb__learning_rate=0.0022851892235553474, gb__max_depth=7, gb__max_leaf_nodes=175, gb__min_samples_leaf=77; total time=   4.7s\n",
      "[CV] END gb__l2_regularization=0.47912378133394484, gb__learning_rate=0.0022851892235553474, gb__max_depth=7, gb__max_leaf_nodes=175, gb__min_samples_leaf=77; total time=   5.2s\n",
      "[CV] END gb__l2_regularization=0.47912378133394484, gb__learning_rate=0.0022851892235553474, gb__max_depth=7, gb__max_leaf_nodes=175, gb__min_samples_leaf=77; total time=   4.9s\n",
      "[CV] END gb__l2_regularization=0.47912378133394484, gb__learning_rate=0.0022851892235553474, gb__max_depth=7, gb__max_leaf_nodes=175, gb__min_samples_leaf=77; total time=   5.2s\n",
      "[CV] END gb__l2_regularization=0.47912378133394484, gb__learning_rate=0.0022851892235553474, gb__max_depth=7, gb__max_leaf_nodes=175, gb__min_samples_leaf=77; total time=   5.5s\n",
      "[CV] END gb__l2_regularization=0.1617066526654305, gb__learning_rate=0.008235290243835798, gb__max_depth=2, gb__max_leaf_nodes=53, gb__min_samples_leaf=33; total time=   2.0s\n",
      "[CV] END gb__l2_regularization=0.1617066526654305, gb__learning_rate=0.008235290243835798, gb__max_depth=2, gb__max_leaf_nodes=53, gb__min_samples_leaf=33; total time=   2.1s\n",
      "[CV] END gb__l2_regularization=0.1617066526654305, gb__learning_rate=0.008235290243835798, gb__max_depth=2, gb__max_leaf_nodes=53, gb__min_samples_leaf=33; total time=   2.2s\n",
      "[CV] END gb__l2_regularization=0.1617066526654305, gb__learning_rate=0.008235290243835798, gb__max_depth=2, gb__max_leaf_nodes=53, gb__min_samples_leaf=33; total time=   2.1s\n",
      "[CV] END gb__l2_regularization=0.1617066526654305, gb__learning_rate=0.008235290243835798, gb__max_depth=2, gb__max_leaf_nodes=53, gb__min_samples_leaf=33; total time=   2.2s\n",
      "[CV] END gb__l2_regularization=0.9406012688920768, gb__learning_rate=0.27293445538868294, gb__max_depth=7, gb__max_leaf_nodes=154, gb__min_samples_leaf=153; total time=   1.0s\n",
      "[CV] END gb__l2_regularization=0.9406012688920768, gb__learning_rate=0.27293445538868294, gb__max_depth=7, gb__max_leaf_nodes=154, gb__min_samples_leaf=153; total time=   0.8s\n",
      "[CV] END gb__l2_regularization=0.9406012688920768, gb__learning_rate=0.27293445538868294, gb__max_depth=7, gb__max_leaf_nodes=154, gb__min_samples_leaf=153; total time=   0.9s\n",
      "[CV] END gb__l2_regularization=0.9406012688920768, gb__learning_rate=0.27293445538868294, gb__max_depth=7, gb__max_leaf_nodes=154, gb__min_samples_leaf=153; total time=   0.7s\n",
      "[CV] END gb__l2_regularization=0.9406012688920768, gb__learning_rate=0.27293445538868294, gb__max_depth=7, gb__max_leaf_nodes=154, gb__min_samples_leaf=153; total time=   0.7s\n",
      "[CV] END gb__l2_regularization=1.670604991178476, gb__learning_rate=0.006231765707605582, gb__max_depth=7, gb__max_leaf_nodes=223, gb__min_samples_leaf=102; total time=   4.7s\n",
      "[CV] END gb__l2_regularization=1.670604991178476, gb__learning_rate=0.006231765707605582, gb__max_depth=7, gb__max_leaf_nodes=223, gb__min_samples_leaf=102; total time=   4.5s\n",
      "[CV] END gb__l2_regularization=1.670604991178476, gb__learning_rate=0.006231765707605582, gb__max_depth=7, gb__max_leaf_nodes=223, gb__min_samples_leaf=102; total time=   4.7s\n",
      "[CV] END gb__l2_regularization=1.670604991178476, gb__learning_rate=0.006231765707605582, gb__max_depth=7, gb__max_leaf_nodes=223, gb__min_samples_leaf=102; total time=   4.7s\n",
      "[CV] END gb__l2_regularization=1.7167176096274397, gb__learning_rate=0.006418591434788316, gb__max_depth=5, gb__max_leaf_nodes=162, gb__min_samples_leaf=99; total time=   3.6s\n",
      "[CV] END gb__l2_regularization=1.670604991178476, gb__learning_rate=0.006231765707605582, gb__max_depth=7, gb__max_leaf_nodes=223, gb__min_samples_leaf=102; total time=   4.7s\n",
      "[CV] END gb__l2_regularization=1.7167176096274397, gb__learning_rate=0.006418591434788316, gb__max_depth=5, gb__max_leaf_nodes=162, gb__min_samples_leaf=99; total time=   3.6s\n",
      "[CV] END gb__l2_regularization=1.7167176096274397, gb__learning_rate=0.006418591434788316, gb__max_depth=5, gb__max_leaf_nodes=162, gb__min_samples_leaf=99; total time=   3.4s\n",
      "[CV] END gb__l2_regularization=1.7167176096274397, gb__learning_rate=0.006418591434788316, gb__max_depth=5, gb__max_leaf_nodes=162, gb__min_samples_leaf=99; total time=   3.7s\n",
      "[CV] END gb__l2_regularization=1.7167176096274397, gb__learning_rate=0.006418591434788316, gb__max_depth=5, gb__max_leaf_nodes=162, gb__min_samples_leaf=99; total time=   3.6s\n",
      "[CV] END gb__l2_regularization=1.024186116598562, gb__learning_rate=0.0036396322020758602, gb__max_depth=8, gb__max_leaf_nodes=67, gb__min_samples_leaf=170; total time=   5.2s\n",
      "[CV] END gb__l2_regularization=1.024186116598562, gb__learning_rate=0.0036396322020758602, gb__max_depth=8, gb__max_leaf_nodes=67, gb__min_samples_leaf=170; total time=   5.3s\n",
      "[CV] END gb__l2_regularization=1.024186116598562, gb__learning_rate=0.0036396322020758602, gb__max_depth=8, gb__max_leaf_nodes=67, gb__min_samples_leaf=170; total time=   5.5s\n",
      "[CV] END gb__l2_regularization=1.024186116598562, gb__learning_rate=0.0036396322020758602, gb__max_depth=8, gb__max_leaf_nodes=67, gb__min_samples_leaf=170; total time=   5.4s\n",
      "[CV] END gb__l2_regularization=1.024186116598562, gb__learning_rate=0.0036396322020758602, gb__max_depth=8, gb__max_leaf_nodes=67, gb__min_samples_leaf=170; total time=   5.7s\n",
      "[CV] END gb__l2_regularization=0.7951440421750446, gb__learning_rate=0.01916606139735684, gb__max_depth=9, gb__max_leaf_nodes=144, gb__min_samples_leaf=20; total time=   6.1s\n",
      "[CV] END gb__l2_regularization=0.7951440421750446, gb__learning_rate=0.01916606139735684, gb__max_depth=9, gb__max_leaf_nodes=144, gb__min_samples_leaf=20; total time=   5.8s\n",
      "[CV] END gb__l2_regularization=0.7951440421750446, gb__learning_rate=0.01916606139735684, gb__max_depth=9, gb__max_leaf_nodes=144, gb__min_samples_leaf=20; total time=   5.4s\n",
      "[CV] END gb__l2_regularization=0.7951440421750446, gb__learning_rate=0.01916606139735684, gb__max_depth=9, gb__max_leaf_nodes=144, gb__min_samples_leaf=20; total time=   5.1s\n",
      "[CV] END gb__l2_regularization=0.7951440421750446, gb__learning_rate=0.01916606139735684, gb__max_depth=9, gb__max_leaf_nodes=144, gb__min_samples_leaf=20; total time=   5.5s\n",
      "[CV] END gb__l2_regularization=0.682132702100517, gb__learning_rate=0.0019102388408183122, gb__max_depth=8, gb__max_leaf_nodes=174, gb__min_samples_leaf=51; total time=   6.2s\n",
      "[CV] END gb__l2_regularization=0.682132702100517, gb__learning_rate=0.0019102388408183122, gb__max_depth=8, gb__max_leaf_nodes=174, gb__min_samples_leaf=51; total time=   6.6s\n",
      "[CV] END gb__l2_regularization=0.682132702100517, gb__learning_rate=0.0019102388408183122, gb__max_depth=8, gb__max_leaf_nodes=174, gb__min_samples_leaf=51; total time=   6.3s\n",
      "[CV] END gb__l2_regularization=0.682132702100517, gb__learning_rate=0.0019102388408183122, gb__max_depth=8, gb__max_leaf_nodes=174, gb__min_samples_leaf=51; total time=   6.6s\n",
      "[CV] END gb__l2_regularization=0.5158832554303112, gb__learning_rate=0.04313804987283086, gb__max_depth=10, gb__max_leaf_nodes=75, gb__min_samples_leaf=122; total time=   3.9s\n",
      "[CV] END gb__l2_regularization=0.682132702100517, gb__learning_rate=0.0019102388408183122, gb__max_depth=8, gb__max_leaf_nodes=174, gb__min_samples_leaf=51; total time=   6.0s\n",
      "[CV] END gb__l2_regularization=0.5158832554303112, gb__learning_rate=0.04313804987283086, gb__max_depth=10, gb__max_leaf_nodes=75, gb__min_samples_leaf=122; total time=   2.8s\n",
      "[CV] END gb__l2_regularization=0.5158832554303112, gb__learning_rate=0.04313804987283086, gb__max_depth=10, gb__max_leaf_nodes=75, gb__min_samples_leaf=122; total time=   3.0s\n",
      "[CV] END gb__l2_regularization=0.5158832554303112, gb__learning_rate=0.04313804987283086, gb__max_depth=10, gb__max_leaf_nodes=75, gb__min_samples_leaf=122; total time=   2.8s\n",
      "[CV] END gb__l2_regularization=0.5158832554303112, gb__learning_rate=0.04313804987283086, gb__max_depth=10, gb__max_leaf_nodes=75, gb__min_samples_leaf=122; total time=   2.9s\n",
      "[CV] END gb__l2_regularization=0.48370458180090337, gb__learning_rate=0.0017006966059793958, gb__max_depth=6, gb__max_leaf_nodes=52, gb__min_samples_leaf=169; total time=   4.1s\n",
      "[CV] END gb__l2_regularization=0.48370458180090337, gb__learning_rate=0.0017006966059793958, gb__max_depth=6, gb__max_leaf_nodes=52, gb__min_samples_leaf=169; total time=   4.1s\n",
      "[CV] END gb__l2_regularization=0.48370458180090337, gb__learning_rate=0.0017006966059793958, gb__max_depth=6, gb__max_leaf_nodes=52, gb__min_samples_leaf=169; total time=   4.2s\n",
      "[CV] END gb__l2_regularization=0.48370458180090337, gb__learning_rate=0.0017006966059793958, gb__max_depth=6, gb__max_leaf_nodes=52, gb__min_samples_leaf=169; total time=   4.1s\n",
      "[CV] END gb__l2_regularization=1.2662029145465359, gb__learning_rate=0.006915409486982814, gb__max_depth=4, gb__max_leaf_nodes=162, gb__min_samples_leaf=57; total time=   3.1s\n",
      "[CV] END gb__l2_regularization=0.48370458180090337, gb__learning_rate=0.0017006966059793958, gb__max_depth=6, gb__max_leaf_nodes=52, gb__min_samples_leaf=169; total time=   4.0s\n",
      "[CV] END gb__l2_regularization=1.2662029145465359, gb__learning_rate=0.006915409486982814, gb__max_depth=4, gb__max_leaf_nodes=162, gb__min_samples_leaf=57; total time=   2.9s\n",
      "[CV] END gb__l2_regularization=1.2662029145465359, gb__learning_rate=0.006915409486982814, gb__max_depth=4, gb__max_leaf_nodes=162, gb__min_samples_leaf=57; total time=   2.9s\n",
      "[CV] END gb__l2_regularization=1.2662029145465359, gb__learning_rate=0.006915409486982814, gb__max_depth=4, gb__max_leaf_nodes=162, gb__min_samples_leaf=57; total time=   3.1s\n",
      "[CV] END gb__l2_regularization=1.2662029145465359, gb__learning_rate=0.006915409486982814, gb__max_depth=4, gb__max_leaf_nodes=162, gb__min_samples_leaf=57; total time=   3.0s\n",
      "[CV] END gb__l2_regularization=1.6933222844766118, gb__learning_rate=0.1321962404466185, gb__max_depth=7, gb__max_leaf_nodes=135, gb__min_samples_leaf=170; total time=   1.1s\n",
      "[CV] END gb__l2_regularization=1.6933222844766118, gb__learning_rate=0.1321962404466185, gb__max_depth=7, gb__max_leaf_nodes=135, gb__min_samples_leaf=170; total time=   1.9s\n",
      "[CV] END gb__l2_regularization=1.6933222844766118, gb__learning_rate=0.1321962404466185, gb__max_depth=7, gb__max_leaf_nodes=135, gb__min_samples_leaf=170; total time=   1.2s\n",
      "[CV] END gb__l2_regularization=1.6933222844766118, gb__learning_rate=0.1321962404466185, gb__max_depth=7, gb__max_leaf_nodes=135, gb__min_samples_leaf=170; total time=   1.8s\n",
      "[CV] END gb__l2_regularization=1.6933222844766118, gb__learning_rate=0.1321962404466185, gb__max_depth=7, gb__max_leaf_nodes=135, gb__min_samples_leaf=170; total time=   1.4s\n",
      "[CV] END gb__l2_regularization=1.2840632923085755, gb__learning_rate=0.0016159387509761451, gb__max_depth=9, gb__max_leaf_nodes=179, gb__min_samples_leaf=175; total time=   5.6s\n",
      "[CV] END gb__l2_regularization=1.2840632923085755, gb__learning_rate=0.0016159387509761451, gb__max_depth=9, gb__max_leaf_nodes=179, gb__min_samples_leaf=175; total time=   5.7s\n",
      "[CV] END gb__l2_regularization=1.2840632923085755, gb__learning_rate=0.0016159387509761451, gb__max_depth=9, gb__max_leaf_nodes=179, gb__min_samples_leaf=175; total time=   5.9s\n",
      "[CV] END gb__l2_regularization=1.2840632923085755, gb__learning_rate=0.0016159387509761451, gb__max_depth=9, gb__max_leaf_nodes=179, gb__min_samples_leaf=175; total time=   5.8s\n",
      "[CV] END gb__l2_regularization=1.3379765094284573, gb__learning_rate=0.02744297388220333, gb__max_depth=10, gb__max_leaf_nodes=114, gb__min_samples_leaf=162; total time=   4.6s\n",
      "[CV] END gb__l2_regularization=1.2840632923085755, gb__learning_rate=0.0016159387509761451, gb__max_depth=9, gb__max_leaf_nodes=179, gb__min_samples_leaf=175; total time=   5.4s\n",
      "[CV] END gb__l2_regularization=1.3379765094284573, gb__learning_rate=0.02744297388220333, gb__max_depth=10, gb__max_leaf_nodes=114, gb__min_samples_leaf=162; total time=   4.5s\n",
      "[CV] END gb__l2_regularization=1.3379765094284573, gb__learning_rate=0.02744297388220333, gb__max_depth=10, gb__max_leaf_nodes=114, gb__min_samples_leaf=162; total time=   4.6s\n",
      "[CV] END gb__l2_regularization=1.3379765094284573, gb__learning_rate=0.02744297388220333, gb__max_depth=10, gb__max_leaf_nodes=114, gb__min_samples_leaf=162; total time=   4.2s\n",
      "[CV] END gb__l2_regularization=1.3379765094284573, gb__learning_rate=0.02744297388220333, gb__max_depth=10, gb__max_leaf_nodes=114, gb__min_samples_leaf=162; total time=   4.5s\n",
      "[CV] END gb__l2_regularization=0.010123167692437374, gb__learning_rate=0.002502309600155433, gb__max_depth=3, gb__max_leaf_nodes=209, gb__min_samples_leaf=63; total time=   2.5s\n",
      "[CV] END gb__l2_regularization=0.010123167692437374, gb__learning_rate=0.002502309600155433, gb__max_depth=3, gb__max_leaf_nodes=209, gb__min_samples_leaf=63; total time=   2.6s\n",
      "[CV] END gb__l2_regularization=0.010123167692437374, gb__learning_rate=0.002502309600155433, gb__max_depth=3, gb__max_leaf_nodes=209, gb__min_samples_leaf=63; total time=   2.6s\n",
      "[CV] END gb__l2_regularization=0.010123167692437374, gb__learning_rate=0.002502309600155433, gb__max_depth=3, gb__max_leaf_nodes=209, gb__min_samples_leaf=63; total time=   2.6s\n",
      "[CV] END gb__l2_regularization=0.8968482859724947, gb__learning_rate=0.29066431570307705, gb__max_depth=5, gb__max_leaf_nodes=176, gb__min_samples_leaf=77; total time=   1.0s\n",
      "[CV] END gb__l2_regularization=0.010123167692437374, gb__learning_rate=0.002502309600155433, gb__max_depth=3, gb__max_leaf_nodes=209, gb__min_samples_leaf=63; total time=   2.6s\n",
      "[CV] END gb__l2_regularization=0.8968482859724947, gb__learning_rate=0.29066431570307705, gb__max_depth=5, gb__max_leaf_nodes=176, gb__min_samples_leaf=77; total time=   0.8s\n",
      "[CV] END gb__l2_regularization=0.8968482859724947, gb__learning_rate=0.29066431570307705, gb__max_depth=5, gb__max_leaf_nodes=176, gb__min_samples_leaf=77; total time=   0.8s\n",
      "[CV] END gb__l2_regularization=0.8968482859724947, gb__learning_rate=0.29066431570307705, gb__max_depth=5, gb__max_leaf_nodes=176, gb__min_samples_leaf=77; total time=   0.9s\n",
      "[CV] END gb__l2_regularization=0.8968482859724947, gb__learning_rate=0.29066431570307705, gb__max_depth=5, gb__max_leaf_nodes=176, gb__min_samples_leaf=77; total time=   0.7s\n",
      "[CV] END gb__l2_regularization=0.47449817499360014, gb__learning_rate=0.006398151340670027, gb__max_depth=5, gb__max_leaf_nodes=143, gb__min_samples_leaf=145; total time=   3.5s\n",
      "[CV] END gb__l2_regularization=0.47449817499360014, gb__learning_rate=0.006398151340670027, gb__max_depth=5, gb__max_leaf_nodes=143, gb__min_samples_leaf=145; total time=   3.4s\n",
      "[CV] END gb__l2_regularization=0.47449817499360014, gb__learning_rate=0.006398151340670027, gb__max_depth=5, gb__max_leaf_nodes=143, gb__min_samples_leaf=145; total time=   3.5s\n",
      "[CV] END gb__l2_regularization=0.47449817499360014, gb__learning_rate=0.006398151340670027, gb__max_depth=5, gb__max_leaf_nodes=143, gb__min_samples_leaf=145; total time=   3.6s\n",
      "[CV] END gb__l2_regularization=1.6984468209883559, gb__learning_rate=0.04255855490727933, gb__max_depth=2, gb__max_leaf_nodes=191, gb__min_samples_leaf=196; total time=   2.2s\n",
      "[CV] END gb__l2_regularization=0.47449817499360014, gb__learning_rate=0.006398151340670027, gb__max_depth=5, gb__max_leaf_nodes=143, gb__min_samples_leaf=145; total time=   3.4s\n",
      "[CV] END gb__l2_regularization=1.6984468209883559, gb__learning_rate=0.04255855490727933, gb__max_depth=2, gb__max_leaf_nodes=191, gb__min_samples_leaf=196; total time=   2.1s\n",
      "[CV] END gb__l2_regularization=1.6984468209883559, gb__learning_rate=0.04255855490727933, gb__max_depth=2, gb__max_leaf_nodes=191, gb__min_samples_leaf=196; total time=   2.2s\n",
      "[CV] END gb__l2_regularization=1.6984468209883559, gb__learning_rate=0.04255855490727933, gb__max_depth=2, gb__max_leaf_nodes=191, gb__min_samples_leaf=196; total time=   2.1s\n",
      "[CV] END gb__l2_regularization=1.6984468209883559, gb__learning_rate=0.04255855490727933, gb__max_depth=2, gb__max_leaf_nodes=191, gb__min_samples_leaf=196; total time=   2.0s\n",
      "[CV] END gb__l2_regularization=0.735431606118867, gb__learning_rate=0.004538772572503257, gb__max_depth=7, gb__max_leaf_nodes=245, gb__min_samples_leaf=118; total time=   4.7s\n",
      "[CV] END gb__l2_regularization=0.735431606118867, gb__learning_rate=0.004538772572503257, gb__max_depth=7, gb__max_leaf_nodes=245, gb__min_samples_leaf=118; total time=   4.7s\n",
      "[CV] END gb__l2_regularization=0.735431606118867, gb__learning_rate=0.004538772572503257, gb__max_depth=7, gb__max_leaf_nodes=245, gb__min_samples_leaf=118; total time=   4.8s\n",
      "[CV] END gb__l2_regularization=0.735431606118867, gb__learning_rate=0.004538772572503257, gb__max_depth=7, gb__max_leaf_nodes=245, gb__min_samples_leaf=118; total time=   4.8s\n",
      "[CV] END gb__l2_regularization=0.9734843059189102, gb__learning_rate=0.17559678733876366, gb__max_depth=3, gb__max_leaf_nodes=36, gb__min_samples_leaf=39; total time=   1.3s\n",
      "[CV] END gb__l2_regularization=0.9734843059189102, gb__learning_rate=0.17559678733876366, gb__max_depth=3, gb__max_leaf_nodes=36, gb__min_samples_leaf=39; total time=   1.8s\n",
      "[CV] END gb__l2_regularization=0.735431606118867, gb__learning_rate=0.004538772572503257, gb__max_depth=7, gb__max_leaf_nodes=245, gb__min_samples_leaf=118; total time=   4.9s\n",
      "[CV] END gb__l2_regularization=0.9734843059189102, gb__learning_rate=0.17559678733876366, gb__max_depth=3, gb__max_leaf_nodes=36, gb__min_samples_leaf=39; total time=   1.5s\n",
      "[CV] END gb__l2_regularization=0.9734843059189102, gb__learning_rate=0.17559678733876366, gb__max_depth=3, gb__max_leaf_nodes=36, gb__min_samples_leaf=39; total time=   1.2s\n",
      "[CV] END gb__l2_regularization=0.9734843059189102, gb__learning_rate=0.17559678733876366, gb__max_depth=3, gb__max_leaf_nodes=36, gb__min_samples_leaf=39; total time=   1.6s\n",
      "[CV] END gb__l2_regularization=1.2902067240611297, gb__learning_rate=0.045394789438438554, gb__max_depth=2, gb__max_leaf_nodes=212, gb__min_samples_leaf=70; total time=   2.2s\n",
      "[CV] END gb__l2_regularization=1.2902067240611297, gb__learning_rate=0.045394789438438554, gb__max_depth=2, gb__max_leaf_nodes=212, gb__min_samples_leaf=70; total time=   2.0s\n",
      "[CV] END gb__l2_regularization=1.2902067240611297, gb__learning_rate=0.045394789438438554, gb__max_depth=2, gb__max_leaf_nodes=212, gb__min_samples_leaf=70; total time=   2.1s\n",
      "[CV] END gb__l2_regularization=1.2902067240611297, gb__learning_rate=0.045394789438438554, gb__max_depth=2, gb__max_leaf_nodes=212, gb__min_samples_leaf=70; total time=   2.4s\n",
      "[CV] END gb__l2_regularization=1.2902067240611297, gb__learning_rate=0.045394789438438554, gb__max_depth=2, gb__max_leaf_nodes=212, gb__min_samples_leaf=70; total time=   2.2s\n",
      "[CV] END gb__l2_regularization=0.9983867597695046, gb__learning_rate=0.026117028299998492, gb__max_depth=2, gb__max_leaf_nodes=32, gb__min_samples_leaf=181; total time=   2.0s\n",
      "[CV] END gb__l2_regularization=0.9983867597695046, gb__learning_rate=0.026117028299998492, gb__max_depth=2, gb__max_leaf_nodes=32, gb__min_samples_leaf=181; total time=   2.1s\n",
      "[CV] END gb__l2_regularization=0.9983867597695046, gb__learning_rate=0.026117028299998492, gb__max_depth=2, gb__max_leaf_nodes=32, gb__min_samples_leaf=181; total time=   2.1s\n",
      "[CV] END gb__l2_regularization=0.9983867597695046, gb__learning_rate=0.026117028299998492, gb__max_depth=2, gb__max_leaf_nodes=32, gb__min_samples_leaf=181; total time=   2.2s\n",
      "[CV] END gb__l2_regularization=1.8809171687058286, gb__learning_rate=0.23067299454713366, gb__max_depth=6, gb__max_leaf_nodes=21, gb__min_samples_leaf=108; total time=   1.3s\n",
      "[CV] END gb__l2_regularization=0.9983867597695046, gb__learning_rate=0.026117028299998492, gb__max_depth=2, gb__max_leaf_nodes=32, gb__min_samples_leaf=181; total time=   2.2s\n",
      "[CV] END gb__l2_regularization=1.8809171687058286, gb__learning_rate=0.23067299454713366, gb__max_depth=6, gb__max_leaf_nodes=21, gb__min_samples_leaf=108; total time=   1.0s\n",
      "[CV] END gb__l2_regularization=1.8809171687058286, gb__learning_rate=0.23067299454713366, gb__max_depth=6, gb__max_leaf_nodes=21, gb__min_samples_leaf=108; total time=   1.1s\n",
      "[CV] END gb__l2_regularization=1.8809171687058286, gb__learning_rate=0.23067299454713366, gb__max_depth=6, gb__max_leaf_nodes=21, gb__min_samples_leaf=108; total time=   0.9s\n",
      "[CV] END gb__l2_regularization=1.8809171687058286, gb__learning_rate=0.23067299454713366, gb__max_depth=6, gb__max_leaf_nodes=21, gb__min_samples_leaf=108; total time=   1.0s\n",
      "[CV] END gb__l2_regularization=1.4954375477948278, gb__learning_rate=0.2295485371853974, gb__max_depth=2, gb__max_leaf_nodes=61, gb__min_samples_leaf=190; total time=   2.1s\n",
      "[CV] END gb__l2_regularization=1.4954375477948278, gb__learning_rate=0.2295485371853974, gb__max_depth=2, gb__max_leaf_nodes=61, gb__min_samples_leaf=190; total time=   2.1s\n",
      "[CV] END gb__l2_regularization=1.4954375477948278, gb__learning_rate=0.2295485371853974, gb__max_depth=2, gb__max_leaf_nodes=61, gb__min_samples_leaf=190; total time=   1.6s\n",
      "[CV] END gb__l2_regularization=1.4954375477948278, gb__learning_rate=0.2295485371853974, gb__max_depth=2, gb__max_leaf_nodes=61, gb__min_samples_leaf=190; total time=   1.9s\n",
      "[CV] END gb__l2_regularization=1.1445849383416766, gb__learning_rate=0.2681638318347544, gb__max_depth=5, gb__max_leaf_nodes=206, gb__min_samples_leaf=169; total time=   1.3s\n",
      "[CV] END gb__l2_regularization=1.4954375477948278, gb__learning_rate=0.2295485371853974, gb__max_depth=2, gb__max_leaf_nodes=61, gb__min_samples_leaf=190; total time=   2.0s\n",
      "[CV] END gb__l2_regularization=1.1445849383416766, gb__learning_rate=0.2681638318347544, gb__max_depth=5, gb__max_leaf_nodes=206, gb__min_samples_leaf=169; total time=   0.8s\n",
      "[CV] END gb__l2_regularization=1.1445849383416766, gb__learning_rate=0.2681638318347544, gb__max_depth=5, gb__max_leaf_nodes=206, gb__min_samples_leaf=169; total time=   0.8s\n",
      "[CV] END gb__l2_regularization=1.1445849383416766, gb__learning_rate=0.2681638318347544, gb__max_depth=5, gb__max_leaf_nodes=206, gb__min_samples_leaf=169; total time=   0.7s\n",
      "[CV] END gb__l2_regularization=1.1445849383416766, gb__learning_rate=0.2681638318347544, gb__max_depth=5, gb__max_leaf_nodes=206, gb__min_samples_leaf=169; total time=   1.1s\n",
      "[CV] END gb__l2_regularization=1.7022733430337138, gb__learning_rate=0.006096130214748381, gb__max_depth=3, gb__max_leaf_nodes=40, gb__min_samples_leaf=63; total time=   2.5s\n",
      "[CV] END gb__l2_regularization=1.7022733430337138, gb__learning_rate=0.006096130214748381, gb__max_depth=3, gb__max_leaf_nodes=40, gb__min_samples_leaf=63; total time=   2.6s\n",
      "[CV] END gb__l2_regularization=1.7022733430337138, gb__learning_rate=0.006096130214748381, gb__max_depth=3, gb__max_leaf_nodes=40, gb__min_samples_leaf=63; total time=   2.7s\n",
      "[CV] END gb__l2_regularization=1.7022733430337138, gb__learning_rate=0.006096130214748381, gb__max_depth=3, gb__max_leaf_nodes=40, gb__min_samples_leaf=63; total time=   2.8s\n",
      "[CV] END gb__l2_regularization=1.7022733430337138, gb__learning_rate=0.006096130214748381, gb__max_depth=3, gb__max_leaf_nodes=40, gb__min_samples_leaf=63; total time=   2.8s\n",
      "[CV] END gb__l2_regularization=1.392059593349946, gb__learning_rate=0.025829181313817826, gb__max_depth=9, gb__max_leaf_nodes=129, gb__min_samples_leaf=41; total time=   5.1s\n",
      "[CV] END gb__l2_regularization=1.392059593349946, gb__learning_rate=0.025829181313817826, gb__max_depth=9, gb__max_leaf_nodes=129, gb__min_samples_leaf=41; total time=   3.6s\n",
      "[CV] END gb__l2_regularization=1.392059593349946, gb__learning_rate=0.025829181313817826, gb__max_depth=9, gb__max_leaf_nodes=129, gb__min_samples_leaf=41; total time=   4.0s\n",
      "[CV] END gb__l2_regularization=1.392059593349946, gb__learning_rate=0.025829181313817826, gb__max_depth=9, gb__max_leaf_nodes=129, gb__min_samples_leaf=41; total time=   3.9s\n",
      "[CV] END gb__l2_regularization=1.3422870336481012, gb__learning_rate=0.007734131730970359, gb__max_depth=3, gb__max_leaf_nodes=233, gb__min_samples_leaf=26; total time=   2.5s\n",
      "[CV] END gb__l2_regularization=1.392059593349946, gb__learning_rate=0.025829181313817826, gb__max_depth=9, gb__max_leaf_nodes=129, gb__min_samples_leaf=41; total time=   4.4s\n",
      "[CV] END gb__l2_regularization=1.3422870336481012, gb__learning_rate=0.007734131730970359, gb__max_depth=3, gb__max_leaf_nodes=233, gb__min_samples_leaf=26; total time=   2.6s\n",
      "[CV] END gb__l2_regularization=1.3422870336481012, gb__learning_rate=0.007734131730970359, gb__max_depth=3, gb__max_leaf_nodes=233, gb__min_samples_leaf=26; total time=   2.6s\n",
      "[CV] END gb__l2_regularization=1.3422870336481012, gb__learning_rate=0.007734131730970359, gb__max_depth=3, gb__max_leaf_nodes=233, gb__min_samples_leaf=26; total time=   2.5s\n",
      "[CV] END gb__l2_regularization=1.3422870336481012, gb__learning_rate=0.007734131730970359, gb__max_depth=3, gb__max_leaf_nodes=233, gb__min_samples_leaf=26; total time=   2.6s\n",
      "[CV] END gb__l2_regularization=1.6973395898493489, gb__learning_rate=0.0021798549893532583, gb__max_depth=7, gb__max_leaf_nodes=191, gb__min_samples_leaf=48; total time=   5.3s\n",
      "[CV] END gb__l2_regularization=1.6973395898493489, gb__learning_rate=0.0021798549893532583, gb__max_depth=7, gb__max_leaf_nodes=191, gb__min_samples_leaf=48; total time=   5.6s\n",
      "[CV] END gb__l2_regularization=1.6973395898493489, gb__learning_rate=0.0021798549893532583, gb__max_depth=7, gb__max_leaf_nodes=191, gb__min_samples_leaf=48; total time=   5.0s\n",
      "[CV] END gb__l2_regularization=1.6973395898493489, gb__learning_rate=0.0021798549893532583, gb__max_depth=7, gb__max_leaf_nodes=191, gb__min_samples_leaf=48; total time=   5.2s\n",
      "[CV] END gb__l2_regularization=0.5871836885289867, gb__learning_rate=0.10113133051262838, gb__max_depth=4, gb__max_leaf_nodes=65, gb__min_samples_leaf=162; total time=   2.7s\n",
      "[CV] END gb__l2_regularization=1.6973395898493489, gb__learning_rate=0.0021798549893532583, gb__max_depth=7, gb__max_leaf_nodes=191, gb__min_samples_leaf=48; total time=   5.3s\n",
      "[CV] END gb__l2_regularization=0.5871836885289867, gb__learning_rate=0.10113133051262838, gb__max_depth=4, gb__max_leaf_nodes=65, gb__min_samples_leaf=162; total time=   2.1s\n",
      "[CV] END gb__l2_regularization=0.5871836885289867, gb__learning_rate=0.10113133051262838, gb__max_depth=4, gb__max_leaf_nodes=65, gb__min_samples_leaf=162; total time=   2.3s\n",
      "[CV] END gb__l2_regularization=0.5871836885289867, gb__learning_rate=0.10113133051262838, gb__max_depth=4, gb__max_leaf_nodes=65, gb__min_samples_leaf=162; total time=   2.7s\n",
      "[CV] END gb__l2_regularization=0.5871836885289867, gb__learning_rate=0.10113133051262838, gb__max_depth=4, gb__max_leaf_nodes=65, gb__min_samples_leaf=162; total time=   2.0s\n",
      "[CV] END gb__l2_regularization=1.223027421731361, gb__learning_rate=0.0015926438852703654, gb__max_depth=8, gb__max_leaf_nodes=72, gb__min_samples_leaf=45; total time=   6.2s\n",
      "[CV] END gb__l2_regularization=1.223027421731361, gb__learning_rate=0.0015926438852703654, gb__max_depth=8, gb__max_leaf_nodes=72, gb__min_samples_leaf=45; total time=   6.0s\n",
      "[CV] END gb__l2_regularization=1.223027421731361, gb__learning_rate=0.0015926438852703654, gb__max_depth=8, gb__max_leaf_nodes=72, gb__min_samples_leaf=45; total time=   6.4s\n",
      "[CV] END gb__l2_regularization=1.223027421731361, gb__learning_rate=0.0015926438852703654, gb__max_depth=8, gb__max_leaf_nodes=72, gb__min_samples_leaf=45; total time=   6.2s\n",
      "[CV] END gb__l2_regularization=1.5965903579335503, gb__learning_rate=0.04074173013132515, gb__max_depth=4, gb__max_leaf_nodes=230, gb__min_samples_leaf=152; total time=   2.9s\n",
      "[CV] END gb__l2_regularization=1.5965903579335503, gb__learning_rate=0.04074173013132515, gb__max_depth=4, gb__max_leaf_nodes=230, gb__min_samples_leaf=152; total time=   2.6s\n",
      "[CV] END gb__l2_regularization=1.223027421731361, gb__learning_rate=0.0015926438852703654, gb__max_depth=8, gb__max_leaf_nodes=72, gb__min_samples_leaf=45; total time=   6.1s\n",
      "[CV] END gb__l2_regularization=1.5965903579335503, gb__learning_rate=0.04074173013132515, gb__max_depth=4, gb__max_leaf_nodes=230, gb__min_samples_leaf=152; total time=   2.6s\n",
      "[CV] END gb__l2_regularization=1.5965903579335503, gb__learning_rate=0.04074173013132515, gb__max_depth=4, gb__max_leaf_nodes=230, gb__min_samples_leaf=152; total time=   2.6s\n",
      "[CV] END gb__l2_regularization=1.5965903579335503, gb__learning_rate=0.04074173013132515, gb__max_depth=4, gb__max_leaf_nodes=230, gb__min_samples_leaf=152; total time=   2.8s\n",
      "[CV] END gb__l2_regularization=0.751165905279888, gb__learning_rate=0.0017092463483395972, gb__max_depth=8, gb__max_leaf_nodes=206, gb__min_samples_leaf=95; total time=   5.9s\n",
      "[CV] END gb__l2_regularization=0.751165905279888, gb__learning_rate=0.0017092463483395972, gb__max_depth=8, gb__max_leaf_nodes=206, gb__min_samples_leaf=95; total time=   5.7s\n",
      "[CV] END gb__l2_regularization=0.751165905279888, gb__learning_rate=0.0017092463483395972, gb__max_depth=8, gb__max_leaf_nodes=206, gb__min_samples_leaf=95; total time=   6.0s\n",
      "[CV] END gb__l2_regularization=0.751165905279888, gb__learning_rate=0.0017092463483395972, gb__max_depth=8, gb__max_leaf_nodes=206, gb__min_samples_leaf=95; total time=   5.8s\n",
      "[CV] END gb__l2_regularization=0.751165905279888, gb__learning_rate=0.0017092463483395972, gb__max_depth=8, gb__max_leaf_nodes=206, gb__min_samples_leaf=95; total time=   5.8s\n",
      "[CV] END gb__l2_regularization=0.6563053349494639, gb__learning_rate=0.002421346175400709, gb__max_depth=7, gb__max_leaf_nodes=73, gb__min_samples_leaf=67; total time=   5.2s\n",
      "[CV] END gb__l2_regularization=0.6563053349494639, gb__learning_rate=0.002421346175400709, gb__max_depth=7, gb__max_leaf_nodes=73, gb__min_samples_leaf=67; total time=   5.0s\n",
      "[CV] END gb__l2_regularization=0.6563053349494639, gb__learning_rate=0.002421346175400709, gb__max_depth=7, gb__max_leaf_nodes=73, gb__min_samples_leaf=67; total time=   5.1s\n",
      "[CV] END gb__l2_regularization=0.6563053349494639, gb__learning_rate=0.002421346175400709, gb__max_depth=7, gb__max_leaf_nodes=73, gb__min_samples_leaf=67; total time=   5.3s\n",
      "[CV] END gb__l2_regularization=0.6563053349494639, gb__learning_rate=0.002421346175400709, gb__max_depth=7, gb__max_leaf_nodes=73, gb__min_samples_leaf=67; total time=   5.0s\n",
      "[CV] END gb__l2_regularization=0.06100049987809886, gb__learning_rate=0.0012374167549216975, gb__max_depth=7, gb__max_leaf_nodes=30, gb__min_samples_leaf=63; total time=   4.2s\n",
      "[CV] END gb__l2_regularization=0.06100049987809886, gb__learning_rate=0.0012374167549216975, gb__max_depth=7, gb__max_leaf_nodes=30, gb__min_samples_leaf=63; total time=   4.3s\n",
      "[CV] END gb__l2_regularization=0.06100049987809886, gb__learning_rate=0.0012374167549216975, gb__max_depth=7, gb__max_leaf_nodes=30, gb__min_samples_leaf=63; total time=   4.3s\n",
      "[CV] END gb__l2_regularization=0.06100049987809886, gb__learning_rate=0.0012374167549216975, gb__max_depth=7, gb__max_leaf_nodes=30, gb__min_samples_leaf=63; total time=   4.2s\n",
      "[CV] END gb__l2_regularization=0.06100049987809886, gb__learning_rate=0.0012374167549216975, gb__max_depth=7, gb__max_leaf_nodes=30, gb__min_samples_leaf=63; total time=   4.3s\n",
      "[CV] END gb__l2_regularization=1.0741648543933109, gb__learning_rate=0.006443988162165167, gb__max_depth=9, gb__max_leaf_nodes=68, gb__min_samples_leaf=69; total time=   5.7s\n",
      "[CV] END gb__l2_regularization=1.0741648543933109, gb__learning_rate=0.006443988162165167, gb__max_depth=9, gb__max_leaf_nodes=68, gb__min_samples_leaf=69; total time=   5.6s\n",
      "[CV] END gb__l2_regularization=1.0741648543933109, gb__learning_rate=0.006443988162165167, gb__max_depth=9, gb__max_leaf_nodes=68, gb__min_samples_leaf=69; total time=   5.9s\n",
      "[CV] END gb__l2_regularization=1.0741648543933109, gb__learning_rate=0.006443988162165167, gb__max_depth=9, gb__max_leaf_nodes=68, gb__min_samples_leaf=69; total time=   5.6s\n",
      "[CV] END gb__l2_regularization=0.43164205499368635, gb__learning_rate=0.03491204084552832, gb__max_depth=5, gb__max_leaf_nodes=21, gb__min_samples_leaf=118; total time=   3.3s\n",
      "[CV] END gb__l2_regularization=1.0741648543933109, gb__learning_rate=0.006443988162165167, gb__max_depth=9, gb__max_leaf_nodes=68, gb__min_samples_leaf=69; total time=   5.9s\n",
      "[CV] END gb__l2_regularization=0.43164205499368635, gb__learning_rate=0.03491204084552832, gb__max_depth=5, gb__max_leaf_nodes=21, gb__min_samples_leaf=118; total time=   3.1s\n",
      "[CV] END gb__l2_regularization=0.43164205499368635, gb__learning_rate=0.03491204084552832, gb__max_depth=5, gb__max_leaf_nodes=21, gb__min_samples_leaf=118; total time=   3.1s\n",
      "[CV] END gb__l2_regularization=0.43164205499368635, gb__learning_rate=0.03491204084552832, gb__max_depth=5, gb__max_leaf_nodes=21, gb__min_samples_leaf=118; total time=   4.2s\n",
      "[CV] END gb__l2_regularization=0.43164205499368635, gb__learning_rate=0.03491204084552832, gb__max_depth=5, gb__max_leaf_nodes=21, gb__min_samples_leaf=118; total time=   4.3s\n",
      "[CV] END gb__l2_regularization=0.38876006798974605, gb__learning_rate=0.01044656477334282, gb__max_depth=4, gb__max_leaf_nodes=70, gb__min_samples_leaf=177; total time=   3.0s\n",
      "[CV] END gb__l2_regularization=0.38876006798974605, gb__learning_rate=0.01044656477334282, gb__max_depth=4, gb__max_leaf_nodes=70, gb__min_samples_leaf=177; total time=   2.9s\n",
      "[CV] END gb__l2_regularization=0.38876006798974605, gb__learning_rate=0.01044656477334282, gb__max_depth=4, gb__max_leaf_nodes=70, gb__min_samples_leaf=177; total time=   2.9s\n",
      "[CV] END gb__l2_regularization=0.38876006798974605, gb__learning_rate=0.01044656477334282, gb__max_depth=4, gb__max_leaf_nodes=70, gb__min_samples_leaf=177; total time=   2.9s\n",
      "[CV] END gb__l2_regularization=1.452182667445323, gb__learning_rate=0.2613990034157314, gb__max_depth=4, gb__max_leaf_nodes=160, gb__min_samples_leaf=129; total time=   1.0s\n",
      "[CV] END gb__l2_regularization=1.452182667445323, gb__learning_rate=0.2613990034157314, gb__max_depth=4, gb__max_leaf_nodes=160, gb__min_samples_leaf=129; total time=   1.0s\n",
      "[CV] END gb__l2_regularization=0.38876006798974605, gb__learning_rate=0.01044656477334282, gb__max_depth=4, gb__max_leaf_nodes=70, gb__min_samples_leaf=177; total time=   2.8s\n",
      "[CV] END gb__l2_regularization=1.452182667445323, gb__learning_rate=0.2613990034157314, gb__max_depth=4, gb__max_leaf_nodes=160, gb__min_samples_leaf=129; total time=   1.2s\n",
      "[CV] END gb__l2_regularization=1.452182667445323, gb__learning_rate=0.2613990034157314, gb__max_depth=4, gb__max_leaf_nodes=160, gb__min_samples_leaf=129; total time=   0.9s\n",
      "[CV] END gb__l2_regularization=1.452182667445323, gb__learning_rate=0.2613990034157314, gb__max_depth=4, gb__max_leaf_nodes=160, gb__min_samples_leaf=129; total time=   1.0s\n",
      "[CV] END gb__l2_regularization=0.5416645025241484, gb__learning_rate=0.012228844889430076, gb__max_depth=8, gb__max_leaf_nodes=105, gb__min_samples_leaf=126; total time=   4.8s\n",
      "[CV] END gb__l2_regularization=0.5416645025241484, gb__learning_rate=0.012228844889430076, gb__max_depth=8, gb__max_leaf_nodes=105, gb__min_samples_leaf=126; total time=   4.7s\n",
      "[CV] END gb__l2_regularization=0.5416645025241484, gb__learning_rate=0.012228844889430076, gb__max_depth=8, gb__max_leaf_nodes=105, gb__min_samples_leaf=126; total time=   4.7s\n",
      "[CV] END gb__l2_regularization=0.5416645025241484, gb__learning_rate=0.012228844889430076, gb__max_depth=8, gb__max_leaf_nodes=105, gb__min_samples_leaf=126; total time=   4.7s\n",
      "[CV] END gb__l2_regularization=0.5416645025241484, gb__learning_rate=0.012228844889430076, gb__max_depth=8, gb__max_leaf_nodes=105, gb__min_samples_leaf=126; total time=   4.8s\n",
      "[CV] END gb__l2_regularization=0.16174593323439534, gb__learning_rate=0.011507656492657838, gb__max_depth=6, gb__max_leaf_nodes=144, gb__min_samples_leaf=67; total time=   4.0s\n",
      "[CV] END gb__l2_regularization=0.16174593323439534, gb__learning_rate=0.011507656492657838, gb__max_depth=6, gb__max_leaf_nodes=144, gb__min_samples_leaf=67; total time=   4.1s\n",
      "[CV] END gb__l2_regularization=0.16174593323439534, gb__learning_rate=0.011507656492657838, gb__max_depth=6, gb__max_leaf_nodes=144, gb__min_samples_leaf=67; total time=   4.1s\n",
      "[CV] END gb__l2_regularization=0.16174593323439534, gb__learning_rate=0.011507656492657838, gb__max_depth=6, gb__max_leaf_nodes=144, gb__min_samples_leaf=67; total time=   4.2s\n",
      "[CV] END gb__l2_regularization=0.16174593323439534, gb__learning_rate=0.011507656492657838, gb__max_depth=6, gb__max_leaf_nodes=144, gb__min_samples_leaf=67; total time=   4.2s\n",
      "[CV] END gb__l2_regularization=1.830427455252961, gb__learning_rate=0.01246694691815194, gb__max_depth=7, gb__max_leaf_nodes=63, gb__min_samples_leaf=98; total time=   4.5s\n",
      "[CV] END gb__l2_regularization=1.830427455252961, gb__learning_rate=0.01246694691815194, gb__max_depth=7, gb__max_leaf_nodes=63, gb__min_samples_leaf=98; total time=   4.5s\n",
      "[CV] END gb__l2_regularization=1.830427455252961, gb__learning_rate=0.01246694691815194, gb__max_depth=7, gb__max_leaf_nodes=63, gb__min_samples_leaf=98; total time=   4.4s\n",
      "[CV] END gb__l2_regularization=1.830427455252961, gb__learning_rate=0.01246694691815194, gb__max_depth=7, gb__max_leaf_nodes=63, gb__min_samples_leaf=98; total time=   4.4s\n",
      "[CV] END gb__l2_regularization=1.830427455252961, gb__learning_rate=0.01246694691815194, gb__max_depth=7, gb__max_leaf_nodes=63, gb__min_samples_leaf=98; total time=   4.4s\n",
      "[CV] END gb__l2_regularization=1.3203947534354625, gb__learning_rate=0.00493662577075327, gb__max_depth=8, gb__max_leaf_nodes=207, gb__min_samples_leaf=200; total time=   5.0s\n",
      "[CV] END gb__l2_regularization=1.3203947534354625, gb__learning_rate=0.00493662577075327, gb__max_depth=8, gb__max_leaf_nodes=207, gb__min_samples_leaf=200; total time=   4.9s\n",
      "[CV] END gb__l2_regularization=1.3203947534354625, gb__learning_rate=0.00493662577075327, gb__max_depth=8, gb__max_leaf_nodes=207, gb__min_samples_leaf=200; total time=   5.0s\n",
      "[CV] END gb__l2_regularization=1.3203947534354625, gb__learning_rate=0.00493662577075327, gb__max_depth=8, gb__max_leaf_nodes=207, gb__min_samples_leaf=200; total time=   5.0s\n",
      "[CV] END gb__l2_regularization=1.3203947534354625, gb__learning_rate=0.00493662577075327, gb__max_depth=8, gb__max_leaf_nodes=207, gb__min_samples_leaf=200; total time=   4.9s\n",
      "[CV] END gb__l2_regularization=0.8713457973557821, gb__learning_rate=0.06432738659488216, gb__max_depth=4, gb__max_leaf_nodes=91, gb__min_samples_leaf=163; total time=   2.7s\n",
      "[CV] END gb__l2_regularization=0.8713457973557821, gb__learning_rate=0.06432738659488216, gb__max_depth=4, gb__max_leaf_nodes=91, gb__min_samples_leaf=163; total time=   2.7s\n",
      "[CV] END gb__l2_regularization=0.8713457973557821, gb__learning_rate=0.06432738659488216, gb__max_depth=4, gb__max_leaf_nodes=91, gb__min_samples_leaf=163; total time=   2.6s\n",
      "[CV] END gb__l2_regularization=0.8713457973557821, gb__learning_rate=0.06432738659488216, gb__max_depth=4, gb__max_leaf_nodes=91, gb__min_samples_leaf=163; total time=   2.6s\n",
      "[CV] END gb__l2_regularization=0.8713457973557821, gb__learning_rate=0.06432738659488216, gb__max_depth=4, gb__max_leaf_nodes=91, gb__min_samples_leaf=163; total time=   2.7s\n",
      "[CV] END gb__l2_regularization=0.7119453573025232, gb__learning_rate=0.07538357125084306, gb__max_depth=10, gb__max_leaf_nodes=44, gb__min_samples_leaf=78; total time=   2.3s\n",
      "[CV] END gb__l2_regularization=0.7119453573025232, gb__learning_rate=0.07538357125084306, gb__max_depth=10, gb__max_leaf_nodes=44, gb__min_samples_leaf=78; total time=   2.0s\n",
      "[CV] END gb__l2_regularization=0.7119453573025232, gb__learning_rate=0.07538357125084306, gb__max_depth=10, gb__max_leaf_nodes=44, gb__min_samples_leaf=78; total time=   2.0s\n",
      "[CV] END gb__l2_regularization=0.7119453573025232, gb__learning_rate=0.07538357125084306, gb__max_depth=10, gb__max_leaf_nodes=44, gb__min_samples_leaf=78; total time=   1.5s\n",
      "[CV] END gb__l2_regularization=0.7119453573025232, gb__learning_rate=0.07538357125084306, gb__max_depth=10, gb__max_leaf_nodes=44, gb__min_samples_leaf=78; total time=   1.8s\n",
      "[CV] END gb__l2_regularization=0.18831397653712023, gb__learning_rate=0.005907565256979222, gb__max_depth=5, gb__max_leaf_nodes=212, gb__min_samples_leaf=153; total time=   3.5s\n",
      "[CV] END gb__l2_regularization=0.18831397653712023, gb__learning_rate=0.005907565256979222, gb__max_depth=5, gb__max_leaf_nodes=212, gb__min_samples_leaf=153; total time=   3.6s\n",
      "[CV] END gb__l2_regularization=0.18831397653712023, gb__learning_rate=0.005907565256979222, gb__max_depth=5, gb__max_leaf_nodes=212, gb__min_samples_leaf=153; total time=   3.6s\n",
      "[CV] END gb__l2_regularization=0.18831397653712023, gb__learning_rate=0.005907565256979222, gb__max_depth=5, gb__max_leaf_nodes=212, gb__min_samples_leaf=153; total time=   3.8s\n",
      "[CV] END gb__l2_regularization=0.18831397653712023, gb__learning_rate=0.005907565256979222, gb__max_depth=5, gb__max_leaf_nodes=212, gb__min_samples_leaf=153; total time=   3.5s\n",
      "[CV] END gb__l2_regularization=0.19566832130200296, gb__learning_rate=0.016511713080981927, gb__max_depth=8, gb__max_leaf_nodes=115, gb__min_samples_leaf=42; total time=   5.3s\n",
      "[CV] END gb__l2_regularization=0.19566832130200296, gb__learning_rate=0.016511713080981927, gb__max_depth=8, gb__max_leaf_nodes=115, gb__min_samples_leaf=42; total time=   5.2s\n",
      "[CV] END gb__l2_regularization=0.19566832130200296, gb__learning_rate=0.016511713080981927, gb__max_depth=8, gb__max_leaf_nodes=115, gb__min_samples_leaf=42; total time=   5.1s\n",
      "[CV] END gb__l2_regularization=0.19566832130200296, gb__learning_rate=0.016511713080981927, gb__max_depth=8, gb__max_leaf_nodes=115, gb__min_samples_leaf=42; total time=   5.2s\n",
      "[CV] END gb__l2_regularization=0.19566832130200296, gb__learning_rate=0.016511713080981927, gb__max_depth=8, gb__max_leaf_nodes=115, gb__min_samples_leaf=42; total time=   5.1s\n",
      "[CV] END gb__l2_regularization=0.9293476258792228, gb__learning_rate=0.040697543873967026, gb__max_depth=7, gb__max_leaf_nodes=84, gb__min_samples_leaf=109; total time=   3.5s\n",
      "[CV] END gb__l2_regularization=0.9293476258792228, gb__learning_rate=0.040697543873967026, gb__max_depth=7, gb__max_leaf_nodes=84, gb__min_samples_leaf=109; total time=   3.5s\n",
      "[CV] END gb__l2_regularization=0.9293476258792228, gb__learning_rate=0.040697543873967026, gb__max_depth=7, gb__max_leaf_nodes=84, gb__min_samples_leaf=109; total time=   3.6s\n",
      "[CV] END gb__l2_regularization=0.9293476258792228, gb__learning_rate=0.040697543873967026, gb__max_depth=7, gb__max_leaf_nodes=84, gb__min_samples_leaf=109; total time=   3.3s\n",
      "[CV] END gb__l2_regularization=0.9293476258792228, gb__learning_rate=0.040697543873967026, gb__max_depth=7, gb__max_leaf_nodes=84, gb__min_samples_leaf=109; total time=   3.4s\n",
      "[CV] END gb__l2_regularization=0.09060801954408904, gb__learning_rate=0.008471510822141294, gb__max_depth=4, gb__max_leaf_nodes=201, gb__min_samples_leaf=105; total time=   2.8s\n",
      "[CV] END gb__l2_regularization=0.09060801954408904, gb__learning_rate=0.008471510822141294, gb__max_depth=4, gb__max_leaf_nodes=201, gb__min_samples_leaf=105; total time=   3.1s\n",
      "[CV] END gb__l2_regularization=0.09060801954408904, gb__learning_rate=0.008471510822141294, gb__max_depth=4, gb__max_leaf_nodes=201, gb__min_samples_leaf=105; total time=   2.9s\n",
      "[CV] END gb__l2_regularization=0.09060801954408904, gb__learning_rate=0.008471510822141294, gb__max_depth=4, gb__max_leaf_nodes=201, gb__min_samples_leaf=105; total time=   2.9s\n",
      "[CV] END gb__l2_regularization=0.09060801954408904, gb__learning_rate=0.008471510822141294, gb__max_depth=4, gb__max_leaf_nodes=201, gb__min_samples_leaf=105; total time=   2.9s\n",
      "[CV] END gb__l2_regularization=1.7129796823766446, gb__learning_rate=0.04282170893894739, gb__max_depth=5, gb__max_leaf_nodes=31, gb__min_samples_leaf=33; total time=   2.9s\n",
      "[CV] END gb__l2_regularization=1.7129796823766446, gb__learning_rate=0.04282170893894739, gb__max_depth=5, gb__max_leaf_nodes=31, gb__min_samples_leaf=33; total time=   3.3s\n",
      "[CV] END gb__l2_regularization=1.7129796823766446, gb__learning_rate=0.04282170893894739, gb__max_depth=5, gb__max_leaf_nodes=31, gb__min_samples_leaf=33; total time=   2.4s\n",
      "[CV] END gb__l2_regularization=1.7129796823766446, gb__learning_rate=0.04282170893894739, gb__max_depth=5, gb__max_leaf_nodes=31, gb__min_samples_leaf=33; total time=   2.4s\n",
      "[CV] END gb__l2_regularization=1.8877832091215143, gb__learning_rate=0.21828590870797615, gb__max_depth=5, gb__max_leaf_nodes=167, gb__min_samples_leaf=149; total time=   1.2s\n",
      "[CV] END gb__l2_regularization=1.7129796823766446, gb__learning_rate=0.04282170893894739, gb__max_depth=5, gb__max_leaf_nodes=31, gb__min_samples_leaf=33; total time=   2.9s\n",
      "[CV] END gb__l2_regularization=1.8877832091215143, gb__learning_rate=0.21828590870797615, gb__max_depth=5, gb__max_leaf_nodes=167, gb__min_samples_leaf=149; total time=   1.0s\n",
      "[CV] END gb__l2_regularization=1.8877832091215143, gb__learning_rate=0.21828590870797615, gb__max_depth=5, gb__max_leaf_nodes=167, gb__min_samples_leaf=149; total time=   1.3s\n",
      "[CV] END gb__l2_regularization=1.8877832091215143, gb__learning_rate=0.21828590870797615, gb__max_depth=5, gb__max_leaf_nodes=167, gb__min_samples_leaf=149; total time=   1.0s\n",
      "[CV] END gb__l2_regularization=1.8877832091215143, gb__learning_rate=0.21828590870797615, gb__max_depth=5, gb__max_leaf_nodes=167, gb__min_samples_leaf=149; total time=   1.3s\n",
      "[CV] END gb__l2_regularization=0.7763398524130438, gb__learning_rate=0.03921957822003797, gb__max_depth=2, gb__max_leaf_nodes=204, gb__min_samples_leaf=188; total time=   2.1s\n",
      "[CV] END gb__l2_regularization=0.7763398524130438, gb__learning_rate=0.03921957822003797, gb__max_depth=2, gb__max_leaf_nodes=204, gb__min_samples_leaf=188; total time=   2.1s\n",
      "[CV] END gb__l2_regularization=0.7763398524130438, gb__learning_rate=0.03921957822003797, gb__max_depth=2, gb__max_leaf_nodes=204, gb__min_samples_leaf=188; total time=   2.1s\n",
      "[CV] END gb__l2_regularization=0.7763398524130438, gb__learning_rate=0.03921957822003797, gb__max_depth=2, gb__max_leaf_nodes=204, gb__min_samples_leaf=188; total time=   2.4s\n",
      "[CV] END gb__l2_regularization=0.7763398524130438, gb__learning_rate=0.03921957822003797, gb__max_depth=2, gb__max_leaf_nodes=204, gb__min_samples_leaf=188; total time=   2.0s\n",
      "[CV] END gb__l2_regularization=1.6412789514879107, gb__learning_rate=0.03552453983111037, gb__max_depth=2, gb__max_leaf_nodes=176, gb__min_samples_leaf=177; total time=   2.3s\n",
      "[CV] END gb__l2_regularization=1.6412789514879107, gb__learning_rate=0.03552453983111037, gb__max_depth=2, gb__max_leaf_nodes=176, gb__min_samples_leaf=177; total time=   2.2s\n",
      "[CV] END gb__l2_regularization=1.6412789514879107, gb__learning_rate=0.03552453983111037, gb__max_depth=2, gb__max_leaf_nodes=176, gb__min_samples_leaf=177; total time=   2.3s\n",
      "[CV] END gb__l2_regularization=1.6412789514879107, gb__learning_rate=0.03552453983111037, gb__max_depth=2, gb__max_leaf_nodes=176, gb__min_samples_leaf=177; total time=   2.1s\n",
      "[CV] END gb__l2_regularization=1.6412789514879107, gb__learning_rate=0.03552453983111037, gb__max_depth=2, gb__max_leaf_nodes=176, gb__min_samples_leaf=177; total time=   2.1s\n",
      "[CV] END gb__l2_regularization=1.8107012839121275, gb__learning_rate=0.0030549097281632213, gb__max_depth=3, gb__max_leaf_nodes=50, gb__min_samples_leaf=90; total time=   2.5s\n",
      "[CV] END gb__l2_regularization=1.8107012839121275, gb__learning_rate=0.0030549097281632213, gb__max_depth=3, gb__max_leaf_nodes=50, gb__min_samples_leaf=90; total time=   2.5s\n",
      "[CV] END gb__l2_regularization=1.8107012839121275, gb__learning_rate=0.0030549097281632213, gb__max_depth=3, gb__max_leaf_nodes=50, gb__min_samples_leaf=90; total time=   2.6s\n",
      "[CV] END gb__l2_regularization=1.8107012839121275, gb__learning_rate=0.0030549097281632213, gb__max_depth=3, gb__max_leaf_nodes=50, gb__min_samples_leaf=90; total time=   2.5s\n",
      "[CV] END gb__l2_regularization=1.8107012839121275, gb__learning_rate=0.0030549097281632213, gb__max_depth=3, gb__max_leaf_nodes=50, gb__min_samples_leaf=90; total time=   2.6s\n",
      "[CV] END gb__l2_regularization=1.3114452707614843, gb__learning_rate=0.009008949682945841, gb__max_depth=3, gb__max_leaf_nodes=130, gb__min_samples_leaf=114; total time=   2.6s\n",
      "[CV] END gb__l2_regularization=1.3114452707614843, gb__learning_rate=0.009008949682945841, gb__max_depth=3, gb__max_leaf_nodes=130, gb__min_samples_leaf=114; total time=   2.7s\n",
      "[CV] END gb__l2_regularization=1.3114452707614843, gb__learning_rate=0.009008949682945841, gb__max_depth=3, gb__max_leaf_nodes=130, gb__min_samples_leaf=114; total time=   2.6s\n",
      "[CV] END gb__l2_regularization=1.3114452707614843, gb__learning_rate=0.009008949682945841, gb__max_depth=3, gb__max_leaf_nodes=130, gb__min_samples_leaf=114; total time=   2.5s\n",
      "[CV] END gb__l2_regularization=1.3114452707614843, gb__learning_rate=0.009008949682945841, gb__max_depth=3, gb__max_leaf_nodes=130, gb__min_samples_leaf=114; total time=   2.5s\n",
      "[CV] END gb__l2_regularization=0.9920749085868124, gb__learning_rate=0.052044331527794765, gb__max_depth=3, gb__max_leaf_nodes=252, gb__min_samples_leaf=84; total time=   2.4s\n",
      "[CV] END gb__l2_regularization=0.9920749085868124, gb__learning_rate=0.052044331527794765, gb__max_depth=3, gb__max_leaf_nodes=252, gb__min_samples_leaf=84; total time=   2.4s\n",
      "[CV] END gb__l2_regularization=0.9920749085868124, gb__learning_rate=0.052044331527794765, gb__max_depth=3, gb__max_leaf_nodes=252, gb__min_samples_leaf=84; total time=   2.6s\n",
      "[CV] END gb__l2_regularization=0.9920749085868124, gb__learning_rate=0.052044331527794765, gb__max_depth=3, gb__max_leaf_nodes=252, gb__min_samples_leaf=84; total time=   2.7s\n",
      "[CV] END gb__l2_regularization=0.9920749085868124, gb__learning_rate=0.052044331527794765, gb__max_depth=3, gb__max_leaf_nodes=252, gb__min_samples_leaf=84; total time=   2.3s\n",
      "[CV] END gb__l2_regularization=1.754944027054106, gb__learning_rate=0.06620032268162324, gb__max_depth=6, gb__max_leaf_nodes=179, gb__min_samples_leaf=147; total time=   3.2s\n",
      "[CV] END gb__l2_regularization=1.754944027054106, gb__learning_rate=0.06620032268162324, gb__max_depth=6, gb__max_leaf_nodes=179, gb__min_samples_leaf=147; total time=   2.2s\n",
      "[CV] END gb__l2_regularization=1.754944027054106, gb__learning_rate=0.06620032268162324, gb__max_depth=6, gb__max_leaf_nodes=179, gb__min_samples_leaf=147; total time=   2.2s\n",
      "[CV] END gb__l2_regularization=1.754944027054106, gb__learning_rate=0.06620032268162324, gb__max_depth=6, gb__max_leaf_nodes=179, gb__min_samples_leaf=147; total time=   3.0s\n",
      "[CV] END gb__l2_regularization=1.754944027054106, gb__learning_rate=0.06620032268162324, gb__max_depth=6, gb__max_leaf_nodes=179, gb__min_samples_leaf=147; total time=   2.4s\n",
      "[CV] END gb__l2_regularization=0.8469418846162371, gb__learning_rate=0.02560316638982875, gb__max_depth=4, gb__max_leaf_nodes=192, gb__min_samples_leaf=108; total time=   2.8s\n",
      "[CV] END gb__l2_regularization=0.8469418846162371, gb__learning_rate=0.02560316638982875, gb__max_depth=4, gb__max_leaf_nodes=192, gb__min_samples_leaf=108; total time=   3.1s\n",
      "[CV] END gb__l2_regularization=0.8469418846162371, gb__learning_rate=0.02560316638982875, gb__max_depth=4, gb__max_leaf_nodes=192, gb__min_samples_leaf=108; total time=   2.7s\n",
      "[CV] END gb__l2_regularization=0.8469418846162371, gb__learning_rate=0.02560316638982875, gb__max_depth=4, gb__max_leaf_nodes=192, gb__min_samples_leaf=108; total time=   3.0s\n",
      "[CV] END gb__l2_regularization=0.8469418846162371, gb__learning_rate=0.02560316638982875, gb__max_depth=4, gb__max_leaf_nodes=192, gb__min_samples_leaf=108; total time=   2.7s\n",
      "[CV] END gb__l2_regularization=0.825235353822853, gb__learning_rate=0.008347067152982127, gb__max_depth=8, gb__max_leaf_nodes=111, gb__min_samples_leaf=161; total time=   4.9s\n",
      "[CV] END gb__l2_regularization=0.825235353822853, gb__learning_rate=0.008347067152982127, gb__max_depth=8, gb__max_leaf_nodes=111, gb__min_samples_leaf=161; total time=   4.6s\n",
      "[CV] END gb__l2_regularization=0.825235353822853, gb__learning_rate=0.008347067152982127, gb__max_depth=8, gb__max_leaf_nodes=111, gb__min_samples_leaf=161; total time=   4.8s\n",
      "[CV] END gb__l2_regularization=0.825235353822853, gb__learning_rate=0.008347067152982127, gb__max_depth=8, gb__max_leaf_nodes=111, gb__min_samples_leaf=161; total time=   4.7s\n",
      "[CV] END gb__l2_regularization=1.7342332144194441, gb__learning_rate=0.024649716311043752, gb__max_depth=2, gb__max_leaf_nodes=198, gb__min_samples_leaf=22; total time=   2.1s\n",
      "[CV] END gb__l2_regularization=0.825235353822853, gb__learning_rate=0.008347067152982127, gb__max_depth=8, gb__max_leaf_nodes=111, gb__min_samples_leaf=161; total time=   4.7s\n",
      "[CV] END gb__l2_regularization=1.7342332144194441, gb__learning_rate=0.024649716311043752, gb__max_depth=2, gb__max_leaf_nodes=198, gb__min_samples_leaf=22; total time=   2.0s\n",
      "[CV] END gb__l2_regularization=1.7342332144194441, gb__learning_rate=0.024649716311043752, gb__max_depth=2, gb__max_leaf_nodes=198, gb__min_samples_leaf=22; total time=   2.2s\n",
      "[CV] END gb__l2_regularization=1.7342332144194441, gb__learning_rate=0.024649716311043752, gb__max_depth=2, gb__max_leaf_nodes=198, gb__min_samples_leaf=22; total time=   2.1s\n",
      "[CV] END gb__l2_regularization=1.7342332144194441, gb__learning_rate=0.024649716311043752, gb__max_depth=2, gb__max_leaf_nodes=198, gb__min_samples_leaf=22; total time=   2.1s\n",
      "[CV] END gb__l2_regularization=1.479817520894749, gb__learning_rate=0.003891704322710823, gb__max_depth=2, gb__max_leaf_nodes=128, gb__min_samples_leaf=71; total time=   2.2s\n",
      "[CV] END gb__l2_regularization=1.479817520894749, gb__learning_rate=0.003891704322710823, gb__max_depth=2, gb__max_leaf_nodes=128, gb__min_samples_leaf=71; total time=   2.4s\n",
      "[CV] END gb__l2_regularization=1.479817520894749, gb__learning_rate=0.003891704322710823, gb__max_depth=2, gb__max_leaf_nodes=128, gb__min_samples_leaf=71; total time=   2.3s\n",
      "[CV] END gb__l2_regularization=1.479817520894749, gb__learning_rate=0.003891704322710823, gb__max_depth=2, gb__max_leaf_nodes=128, gb__min_samples_leaf=71; total time=   2.2s\n",
      "[CV] END gb__l2_regularization=1.479817520894749, gb__learning_rate=0.003891704322710823, gb__max_depth=2, gb__max_leaf_nodes=128, gb__min_samples_leaf=71; total time=   2.3s\n",
      "[CV] END gb__l2_regularization=0.9931223813661554, gb__learning_rate=0.009228502678304636, gb__max_depth=4, gb__max_leaf_nodes=192, gb__min_samples_leaf=109; total time=   2.8s\n",
      "[CV] END gb__l2_regularization=0.9931223813661554, gb__learning_rate=0.009228502678304636, gb__max_depth=4, gb__max_leaf_nodes=192, gb__min_samples_leaf=109; total time=   2.9s\n",
      "[CV] END gb__l2_regularization=0.9931223813661554, gb__learning_rate=0.009228502678304636, gb__max_depth=4, gb__max_leaf_nodes=192, gb__min_samples_leaf=109; total time=   3.1s\n",
      "[CV] END gb__l2_regularization=0.9931223813661554, gb__learning_rate=0.009228502678304636, gb__max_depth=4, gb__max_leaf_nodes=192, gb__min_samples_leaf=109; total time=   2.8s\n",
      "[CV] END gb__l2_regularization=0.02167530296059672, gb__learning_rate=0.17488031925099976, gb__max_depth=10, gb__max_leaf_nodes=214, gb__min_samples_leaf=37; total time=   1.1s\n",
      "[CV] END gb__l2_regularization=0.9931223813661554, gb__learning_rate=0.009228502678304636, gb__max_depth=4, gb__max_leaf_nodes=192, gb__min_samples_leaf=109; total time=   3.0s\n",
      "[CV] END gb__l2_regularization=0.02167530296059672, gb__learning_rate=0.17488031925099976, gb__max_depth=10, gb__max_leaf_nodes=214, gb__min_samples_leaf=37; total time=   0.9s\n",
      "[CV] END gb__l2_regularization=0.02167530296059672, gb__learning_rate=0.17488031925099976, gb__max_depth=10, gb__max_leaf_nodes=214, gb__min_samples_leaf=37; total time=   0.9s\n",
      "[CV] END gb__l2_regularization=0.02167530296059672, gb__learning_rate=0.17488031925099976, gb__max_depth=10, gb__max_leaf_nodes=214, gb__min_samples_leaf=37; total time=   0.8s\n",
      "[CV] END gb__l2_regularization=0.02167530296059672, gb__learning_rate=0.17488031925099976, gb__max_depth=10, gb__max_leaf_nodes=214, gb__min_samples_leaf=37; total time=   1.0s\n",
      "[CV] END gb__l2_regularization=1.9001239341016098, gb__learning_rate=0.22634409485528373, gb__max_depth=4, gb__max_leaf_nodes=126, gb__min_samples_leaf=153; total time=   1.6s\n",
      "[CV] END gb__l2_regularization=1.9001239341016098, gb__learning_rate=0.22634409485528373, gb__max_depth=4, gb__max_leaf_nodes=126, gb__min_samples_leaf=153; total time=   1.3s\n",
      "[CV] END gb__l2_regularization=1.9001239341016098, gb__learning_rate=0.22634409485528373, gb__max_depth=4, gb__max_leaf_nodes=126, gb__min_samples_leaf=153; total time=   1.0s\n",
      "[CV] END gb__l2_regularization=1.9001239341016098, gb__learning_rate=0.22634409485528373, gb__max_depth=4, gb__max_leaf_nodes=126, gb__min_samples_leaf=153; total time=   1.0s\n",
      "[CV] END gb__l2_regularization=1.9001239341016098, gb__learning_rate=0.22634409485528373, gb__max_depth=4, gb__max_leaf_nodes=126, gb__min_samples_leaf=153; total time=   0.8s\n"
     ]
    },
    {
     "data": {
      "text/html": [
       "<div>\n",
       "<style scoped>\n",
       "    .dataframe tbody tr th:only-of-type {\n",
       "        vertical-align: middle;\n",
       "    }\n",
       "\n",
       "    .dataframe tbody tr th {\n",
       "        vertical-align: top;\n",
       "    }\n",
       "\n",
       "    .dataframe thead th {\n",
       "        text-align: right;\n",
       "    }\n",
       "</style>\n",
       "<table border=\"1\" class=\"dataframe\">\n",
       "  <thead>\n",
       "    <tr style=\"text-align: right;\">\n",
       "      <th></th>\n",
       "      <th>mean_test_score</th>\n",
       "      <th>std_test_score</th>\n",
       "      <th>param_gb__learning_rate</th>\n",
       "      <th>param_gb__max_leaf_nodes</th>\n",
       "      <th>param_gb__max_depth</th>\n",
       "      <th>param_gb__min_samples_leaf</th>\n",
       "      <th>param_gb__l2_regularization</th>\n",
       "    </tr>\n",
       "  </thead>\n",
       "  <tbody>\n",
       "    <tr>\n",
       "      <th>19</th>\n",
       "      <td>0.712000</td>\n",
       "      <td>0.003063</td>\n",
       "      <td>0.127541</td>\n",
       "      <td>48</td>\n",
       "      <td>3</td>\n",
       "      <td>57</td>\n",
       "      <td>1.829919</td>\n",
       "    </tr>\n",
       "    <tr>\n",
       "      <th>60</th>\n",
       "      <td>0.711962</td>\n",
       "      <td>0.004237</td>\n",
       "      <td>0.268164</td>\n",
       "      <td>206</td>\n",
       "      <td>5</td>\n",
       "      <td>169</td>\n",
       "      <td>1.144585</td>\n",
       "    </tr>\n",
       "    <tr>\n",
       "      <th>21</th>\n",
       "      <td>0.711405</td>\n",
       "      <td>0.003213</td>\n",
       "      <td>0.157664</td>\n",
       "      <td>242</td>\n",
       "      <td>2</td>\n",
       "      <td>110</td>\n",
       "      <td>1.275115</td>\n",
       "    </tr>\n",
       "    <tr>\n",
       "      <th>59</th>\n",
       "      <td>0.711045</td>\n",
       "      <td>0.003477</td>\n",
       "      <td>0.229549</td>\n",
       "      <td>61</td>\n",
       "      <td>2</td>\n",
       "      <td>190</td>\n",
       "      <td>1.495438</td>\n",
       "    </tr>\n",
       "    <tr>\n",
       "      <th>14</th>\n",
       "      <td>0.711026</td>\n",
       "      <td>0.002790</td>\n",
       "      <td>0.070991</td>\n",
       "      <td>39</td>\n",
       "      <td>6</td>\n",
       "      <td>163</td>\n",
       "      <td>1.689068</td>\n",
       "    </tr>\n",
       "  </tbody>\n",
       "</table>\n",
       "</div>"
      ],
      "text/plain": [
       "    mean_test_score  std_test_score  param_gb__learning_rate  \\\n",
       "19         0.712000        0.003063                 0.127541   \n",
       "60         0.711962        0.004237                 0.268164   \n",
       "21         0.711405        0.003213                 0.157664   \n",
       "59         0.711045        0.003477                 0.229549   \n",
       "14         0.711026        0.002790                 0.070991   \n",
       "\n",
       "    param_gb__max_leaf_nodes  param_gb__max_depth  param_gb__min_samples_leaf  \\\n",
       "19                        48                    3                          57   \n",
       "60                       206                    5                         169   \n",
       "21                       242                    2                         110   \n",
       "59                        61                    2                         190   \n",
       "14                        39                    6                         163   \n",
       "\n",
       "    param_gb__l2_regularization  \n",
       "19                     1.829919  \n",
       "60                     1.144585  \n",
       "21                     1.275115  \n",
       "59                     1.495438  \n",
       "14                     1.689068  "
      ]
     },
     "metadata": {},
     "output_type": "display_data"
    },
    {
     "name": "stdout",
     "output_type": "stream",
     "text": [
      "a2 = 0.7120\n"
     ]
    }
   ],
   "source": [
    "# Your code here\n",
    "from scipy.stats import loguniform, randint, uniform\n",
    "\n",
    "param_distributions = {\n",
    "    \"gb__learning_rate\": loguniform(1e-3, 0.3),\n",
    "    \"gb__max_leaf_nodes\": randint(16, 257),\n",
    "    \"gb__max_depth\": randint(2, 11),\n",
    "    \"gb__min_samples_leaf\": randint(10, 201),\n",
    "    \"gb__l2_regularization\": uniform(0.0, 2.0)\n",
    "}\n",
    "\n",
    "skf = StratifiedKFold(n_splits=5, shuffle=True, random_state=random_seed)\n",
    "\n",
    "random_search = RandomizedSearchCV(\n",
    "    estimator=pipelined_model,\n",
    "    param_distributions=param_distributions,\n",
    "    n_iter=100,\n",
    "    scoring=\"f1\",\n",
    "    n_jobs=-1,\n",
    "    cv=skf,\n",
    "    verbose=2,\n",
    "    random_state=random_seed,\n",
    "    return_train_score=True\n",
    ")\n",
    "\n",
    "random_search.fit(X_train, y_train)\n",
    "\n",
    "results_df = pd.DataFrame(random_search.cv_results_)\n",
    "results_df = results_df.sort_values(by=\"mean_test_score\", ascending=False)\n",
    "\n",
    "display(\n",
    "    results_df[[\n",
    "        \"mean_test_score\",\n",
    "        \"std_test_score\",\n",
    "        \"param_gb__learning_rate\",\n",
    "        \"param_gb__max_leaf_nodes\",\n",
    "        \"param_gb__max_depth\",\n",
    "        \"param_gb__min_samples_leaf\",\n",
    "        \"param_gb__l2_regularization\"\n",
    "    ]].head(5)\n",
    ")\n",
    "\n",
    "a2 = random_search.best_score_\n",
    "print(f\"a2 = {a2:.4f}\")\n"
   ]
  },
  {
   "cell_type": "markdown",
   "metadata": {},
   "source": [
    "### Problem 2 Graded Answer\n",
    "\n",
    "Set `a2` to the mean F1 score of the best model found. "
   ]
  },
  {
   "cell_type": "code",
   "execution_count": 18,
   "metadata": {},
   "outputs": [],
   "source": [
    " # Your answer here\n",
    "\n",
    "a2 = random_search.best_score_                     # replace 0 with your answer, may copy from the displayed results"
   ]
  },
  {
   "cell_type": "code",
   "execution_count": 19,
   "metadata": {},
   "outputs": [
    {
     "name": "stdout",
     "output_type": "stream",
     "text": [
      "a2 = 0.7120\n"
     ]
    }
   ],
   "source": [
    "# DO NOT change this cell in any way\n",
    "\n",
    "print(f'a2 = {a2:.4f}')"
   ]
  },
  {
   "cell_type": "markdown",
   "metadata": {},
   "source": [
    "## Problem 3: Hyperparameter Optimization with Optuna for F1\n",
    "\n",
    "In this problem, you will explore **Optuna**, a powerful hyperparameter optimization framework, to identify the best combination of hyperparameters that maximize the F1 score of your `pipelined_model`.\n",
    "\n",
    "**Background:**\n",
    "Optuna uses a smarter sampling strategy than grid search or randomized search, allowing you to explore the hyperparameter space more efficiently. It also supports *pruning*, which can stop unpromising trials early to save time. This makes it a popular SOTA optimization tool.\n",
    "\n",
    "**Before you start** browse the [Optuna documentation](https://optuna.org) and view the [tutorial video](https://optuna.readthedocs.io/en/stable/tutorial/index.html). \n",
    "\n",
    "As before, we focus on the **F1 score** because it balances precision and recall, making it more robust on an imbalanced dataset.\n",
    "\n",
    "**Instructions:**\n",
    "\n",
    "1. Define an Optuna objective function to optimize F1 score, sampling the exact same hyperparameter ranges you did in Problem 2 and using the same CV settings.  \n",
    "3. Set up an Optuna study with a reasonable number of trials (e.g., 100–500 depending on runtime resources--on my machine Optuna runs about 10x faster than randomized search for the same number of trials, but YMMV).\n",
    "4. After running the optimization, `display` a clean table with the top 5 trials showing their F1 scores and corresponding hyperparameter settings.\n",
    "5. Answer the graded question. \n",
    "\n",
    "**Note:**  There are many resources on Optuna you can find on the web, but for this problem, you have my permission to let ChatGPT write the code for you. "
   ]
  },
  {
   "cell_type": "code",
   "execution_count": 21,
   "metadata": {},
   "outputs": [
    {
     "name": "stderr",
     "output_type": "stream",
     "text": [
      "[I 2025-07-04 14:39:07,570] A new study created in memory with name: no-name-6879583a-46fd-4c62-8a27-2ca2025f09ea\n",
      "  0%|          | 0/100 [00:00<?, ?it/s]/tmp/ipykernel_6084/3548152492.py:7: FutureWarning: suggest_loguniform has been deprecated in v3.0.0. This feature will be removed in v6.0.0. See https://github.com/optuna/optuna/releases/tag/v3.0.0. Use suggest_float(..., log=True) instead.\n",
      "  \"gb__learning_rate\": trial.suggest_loguniform(\"gb__learning_rate\", 1e-3, 0.3),\n",
      "/tmp/ipykernel_6084/3548152492.py:11: FutureWarning: suggest_uniform has been deprecated in v3.0.0. This feature will be removed in v6.0.0. See https://github.com/optuna/optuna/releases/tag/v3.0.0. Use suggest_float instead.\n",
      "  \"gb__l2_regularization\": trial.suggest_uniform(\"gb__l2_regularization\", 0.0, 2.0),\n",
      "Best trial: 0. Best value: 0.693294:   1%|          | 1/100 [00:13<22:52, 13.86s/it]/tmp/ipykernel_6084/3548152492.py:7: FutureWarning: suggest_loguniform has been deprecated in v3.0.0. This feature will be removed in v6.0.0. See https://github.com/optuna/optuna/releases/tag/v3.0.0. Use suggest_float(..., log=True) instead.\n",
      "  \"gb__learning_rate\": trial.suggest_loguniform(\"gb__learning_rate\", 1e-3, 0.3),\n",
      "/tmp/ipykernel_6084/3548152492.py:11: FutureWarning: suggest_uniform has been deprecated in v3.0.0. This feature will be removed in v6.0.0. See https://github.com/optuna/optuna/releases/tag/v3.0.0. Use suggest_float instead.\n",
      "  \"gb__l2_regularization\": trial.suggest_uniform(\"gb__l2_regularization\", 0.0, 2.0),\n"
     ]
    },
    {
     "name": "stdout",
     "output_type": "stream",
     "text": [
      "[I 2025-07-04 14:39:21,433] Trial 0 finished with value: 0.6932940220816347 and parameters: {'gb__learning_rate': 0.008468008575248327, 'gb__max_leaf_nodes': 245, 'gb__max_depth': 8, 'gb__min_samples_leaf': 124, 'gb__l2_regularization': 0.31203728088487304}. Best is trial 0 with value: 0.6932940220816347.\n"
     ]
    },
    {
     "name": "stderr",
     "output_type": "stream",
     "text": [
      "Best trial: 0. Best value: 0.693294:   2%|▏         | 2/100 [00:26<21:08, 12.94s/it]/tmp/ipykernel_6084/3548152492.py:7: FutureWarning: suggest_loguniform has been deprecated in v3.0.0. This feature will be removed in v6.0.0. See https://github.com/optuna/optuna/releases/tag/v3.0.0. Use suggest_float(..., log=True) instead.\n",
      "  \"gb__learning_rate\": trial.suggest_loguniform(\"gb__learning_rate\", 1e-3, 0.3),\n",
      "/tmp/ipykernel_6084/3548152492.py:11: FutureWarning: suggest_uniform has been deprecated in v3.0.0. This feature will be removed in v6.0.0. See https://github.com/optuna/optuna/releases/tag/v3.0.0. Use suggest_float instead.\n",
      "  \"gb__l2_regularization\": trial.suggest_uniform(\"gb__l2_regularization\", 0.0, 2.0),\n"
     ]
    },
    {
     "name": "stdout",
     "output_type": "stream",
     "text": [
      "[I 2025-07-04 14:39:33,725] Trial 1 finished with value: 0.6757628077310386 and parameters: {'gb__learning_rate': 0.0024345423962016913, 'gb__max_leaf_nodes': 29, 'gb__max_depth': 9, 'gb__min_samples_leaf': 124, 'gb__l2_regularization': 1.416145155592091}. Best is trial 0 with value: 0.6932940220816347.\n"
     ]
    },
    {
     "name": "stderr",
     "output_type": "stream",
     "text": [
      "Best trial: 0. Best value: 0.693294:   3%|▎         | 3/100 [00:46<26:27, 16.36s/it]/tmp/ipykernel_6084/3548152492.py:7: FutureWarning: suggest_loguniform has been deprecated in v3.0.0. This feature will be removed in v6.0.0. See https://github.com/optuna/optuna/releases/tag/v3.0.0. Use suggest_float(..., log=True) instead.\n",
      "  \"gb__learning_rate\": trial.suggest_loguniform(\"gb__learning_rate\", 1e-3, 0.3),\n",
      "/tmp/ipykernel_6084/3548152492.py:11: FutureWarning: suggest_uniform has been deprecated in v3.0.0. This feature will be removed in v6.0.0. See https://github.com/optuna/optuna/releases/tag/v3.0.0. Use suggest_float instead.\n",
      "  \"gb__l2_regularization\": trial.suggest_uniform(\"gb__l2_regularization\", 0.0, 2.0),\n"
     ]
    },
    {
     "name": "stdout",
     "output_type": "stream",
     "text": [
      "[I 2025-07-04 14:39:54,163] Trial 2 finished with value: 0.6737028554087643 and parameters: {'gb__learning_rate': 0.001124579825911934, 'gb__max_leaf_nodes': 249, 'gb__max_depth': 9, 'gb__min_samples_leaf': 50, 'gb__l2_regularization': 0.36364993441420124}. Best is trial 0 with value: 0.6932940220816347.\n"
     ]
    },
    {
     "name": "stderr",
     "output_type": "stream",
     "text": [
      "Best trial: 0. Best value: 0.693294:   4%|▍         | 4/100 [00:58<23:04, 14.42s/it]/tmp/ipykernel_6084/3548152492.py:7: FutureWarning: suggest_loguniform has been deprecated in v3.0.0. This feature will be removed in v6.0.0. See https://github.com/optuna/optuna/releases/tag/v3.0.0. Use suggest_float(..., log=True) instead.\n",
      "  \"gb__learning_rate\": trial.suggest_loguniform(\"gb__learning_rate\", 1e-3, 0.3),\n",
      "/tmp/ipykernel_6084/3548152492.py:11: FutureWarning: suggest_uniform has been deprecated in v3.0.0. This feature will be removed in v6.0.0. See https://github.com/optuna/optuna/releases/tag/v3.0.0. Use suggest_float instead.\n",
      "  \"gb__l2_regularization\": trial.suggest_uniform(\"gb__l2_regularization\", 0.0, 2.0),\n"
     ]
    },
    {
     "name": "stdout",
     "output_type": "stream",
     "text": [
      "[I 2025-07-04 14:40:05,608] Trial 3 finished with value: 0.6702328589793822 and parameters: {'gb__learning_rate': 0.002846526357761094, 'gb__max_leaf_nodes': 89, 'gb__max_depth': 6, 'gb__min_samples_leaf': 92, 'gb__l2_regularization': 0.5824582803960838}. Best is trial 0 with value: 0.6932940220816347.\n"
     ]
    },
    {
     "name": "stderr",
     "output_type": "stream",
     "text": [
      "Best trial: 4. Best value: 0.70723:   5%|▌         | 5/100 [01:05<18:54, 11.94s/it] /tmp/ipykernel_6084/3548152492.py:7: FutureWarning: suggest_loguniform has been deprecated in v3.0.0. This feature will be removed in v6.0.0. See https://github.com/optuna/optuna/releases/tag/v3.0.0. Use suggest_float(..., log=True) instead.\n",
      "  \"gb__learning_rate\": trial.suggest_loguniform(\"gb__learning_rate\", 1e-3, 0.3),\n",
      "/tmp/ipykernel_6084/3548152492.py:11: FutureWarning: suggest_uniform has been deprecated in v3.0.0. This feature will be removed in v6.0.0. See https://github.com/optuna/optuna/releases/tag/v3.0.0. Use suggest_float instead.\n",
      "  \"gb__l2_regularization\": trial.suggest_uniform(\"gb__l2_regularization\", 0.0, 2.0),\n"
     ]
    },
    {
     "name": "stdout",
     "output_type": "stream",
     "text": [
      "[I 2025-07-04 14:40:13,157] Trial 4 finished with value: 0.7072303165616105 and parameters: {'gb__learning_rate': 0.032781876533976156, 'gb__max_leaf_nodes': 49, 'gb__max_depth': 4, 'gb__min_samples_leaf': 79, 'gb__l2_regularization': 0.9121399684340719}. Best is trial 4 with value: 0.7072303165616105.\n"
     ]
    },
    {
     "name": "stderr",
     "output_type": "stream",
     "text": [
      "Best trial: 5. Best value: 0.710693:   6%|▌         | 6/100 [01:11<15:15,  9.74s/it]/tmp/ipykernel_6084/3548152492.py:7: FutureWarning: suggest_loguniform has been deprecated in v3.0.0. This feature will be removed in v6.0.0. See https://github.com/optuna/optuna/releases/tag/v3.0.0. Use suggest_float(..., log=True) instead.\n",
      "  \"gb__learning_rate\": trial.suggest_loguniform(\"gb__learning_rate\", 1e-3, 0.3),\n",
      "/tmp/ipykernel_6084/3548152492.py:11: FutureWarning: suggest_uniform has been deprecated in v3.0.0. This feature will be removed in v6.0.0. See https://github.com/optuna/optuna/releases/tag/v3.0.0. Use suggest_float instead.\n",
      "  \"gb__l2_regularization\": trial.suggest_uniform(\"gb__l2_regularization\", 0.0, 2.0),\n"
     ]
    },
    {
     "name": "stdout",
     "output_type": "stream",
     "text": [
      "[I 2025-07-04 14:40:18,611] Trial 5 finished with value: 0.7106934565679892 and parameters: {'gb__learning_rate': 0.08810003129071789, 'gb__max_leaf_nodes': 64, 'gb__max_depth': 6, 'gb__min_samples_leaf': 123, 'gb__l2_regularization': 0.09290082543999545}. Best is trial 5 with value: 0.7106934565679892.\n"
     ]
    },
    {
     "name": "stderr",
     "output_type": "stream",
     "text": [
      "Best trial: 5. Best value: 0.710693:   7%|▋         | 7/100 [01:16<13:05,  8.45s/it]/tmp/ipykernel_6084/3548152492.py:7: FutureWarning: suggest_loguniform has been deprecated in v3.0.0. This feature will be removed in v6.0.0. See https://github.com/optuna/optuna/releases/tag/v3.0.0. Use suggest_float(..., log=True) instead.\n",
      "  \"gb__learning_rate\": trial.suggest_loguniform(\"gb__learning_rate\", 1e-3, 0.3),\n",
      "/tmp/ipykernel_6084/3548152492.py:11: FutureWarning: suggest_uniform has been deprecated in v3.0.0. This feature will be removed in v6.0.0. See https://github.com/optuna/optuna/releases/tag/v3.0.0. Use suggest_float instead.\n",
      "  \"gb__l2_regularization\": trial.suggest_uniform(\"gb__l2_regularization\", 0.0, 2.0),\n"
     ]
    },
    {
     "name": "stdout",
     "output_type": "stream",
     "text": [
      "[I 2025-07-04 14:40:24,408] Trial 6 finished with value: 0.6924582687003562 and parameters: {'gb__learning_rate': 0.03198617182203562, 'gb__max_leaf_nodes': 57, 'gb__max_depth': 2, 'gb__min_samples_leaf': 191, 'gb__l2_regularization': 1.9312640661491187}. Best is trial 5 with value: 0.7106934565679892.\n"
     ]
    },
    {
     "name": "stderr",
     "output_type": "stream",
     "text": [
      "Best trial: 5. Best value: 0.710693:   8%|▊         | 8/100 [01:22<11:31,  7.52s/it]/tmp/ipykernel_6084/3548152492.py:7: FutureWarning: suggest_loguniform has been deprecated in v3.0.0. This feature will be removed in v6.0.0. See https://github.com/optuna/optuna/releases/tag/v3.0.0. Use suggest_float(..., log=True) instead.\n",
      "  \"gb__learning_rate\": trial.suggest_loguniform(\"gb__learning_rate\", 1e-3, 0.3),\n",
      "/tmp/ipykernel_6084/3548152492.py:11: FutureWarning: suggest_uniform has been deprecated in v3.0.0. This feature will be removed in v6.0.0. See https://github.com/optuna/optuna/releases/tag/v3.0.0. Use suggest_float instead.\n",
      "  \"gb__l2_regularization\": trial.suggest_uniform(\"gb__l2_regularization\", 0.0, 2.0),\n"
     ]
    },
    {
     "name": "stdout",
     "output_type": "stream",
     "text": [
      "[I 2025-07-04 14:40:29,936] Trial 7 finished with value: 0.7077598934727538 and parameters: {'gb__learning_rate': 0.10057690178153984, 'gb__max_leaf_nodes': 89, 'gb__max_depth': 2, 'gb__min_samples_leaf': 140, 'gb__l2_regularization': 0.8803049874792026}. Best is trial 5 with value: 0.7106934565679892.\n"
     ]
    },
    {
     "name": "stderr",
     "output_type": "stream",
     "text": [
      "Best trial: 5. Best value: 0.710693:   9%|▉         | 9/100 [01:28<10:44,  7.08s/it]/tmp/ipykernel_6084/3548152492.py:7: FutureWarning: suggest_loguniform has been deprecated in v3.0.0. This feature will be removed in v6.0.0. See https://github.com/optuna/optuna/releases/tag/v3.0.0. Use suggest_float(..., log=True) instead.\n",
      "  \"gb__learning_rate\": trial.suggest_loguniform(\"gb__learning_rate\", 1e-3, 0.3),\n",
      "/tmp/ipykernel_6084/3548152492.py:11: FutureWarning: suggest_uniform has been deprecated in v3.0.0. This feature will be removed in v6.0.0. See https://github.com/optuna/optuna/releases/tag/v3.0.0. Use suggest_float instead.\n",
      "  \"gb__l2_regularization\": trial.suggest_uniform(\"gb__l2_regularization\", 0.0, 2.0),\n"
     ]
    },
    {
     "name": "stdout",
     "output_type": "stream",
     "text": [
      "[I 2025-07-04 14:40:36,057] Trial 8 finished with value: 0.6158150355713565 and parameters: {'gb__learning_rate': 0.002005873336344495, 'gb__max_leaf_nodes': 135, 'gb__max_depth': 2, 'gb__min_samples_leaf': 183, 'gb__l2_regularization': 0.5175599632000338}. Best is trial 5 with value: 0.7106934565679892.\n"
     ]
    },
    {
     "name": "stderr",
     "output_type": "stream",
     "text": [
      "Best trial: 5. Best value: 0.710693:  10%|█         | 10/100 [01:36<11:12,  7.47s/it]/tmp/ipykernel_6084/3548152492.py:7: FutureWarning: suggest_loguniform has been deprecated in v3.0.0. This feature will be removed in v6.0.0. See https://github.com/optuna/optuna/releases/tag/v3.0.0. Use suggest_float(..., log=True) instead.\n",
      "  \"gb__learning_rate\": trial.suggest_loguniform(\"gb__learning_rate\", 1e-3, 0.3),\n",
      "/tmp/ipykernel_6084/3548152492.py:11: FutureWarning: suggest_uniform has been deprecated in v3.0.0. This feature will be removed in v6.0.0. See https://github.com/optuna/optuna/releases/tag/v3.0.0. Use suggest_float instead.\n",
      "  \"gb__l2_regularization\": trial.suggest_uniform(\"gb__l2_regularization\", 0.0, 2.0),\n"
     ]
    },
    {
     "name": "stdout",
     "output_type": "stream",
     "text": [
      "[I 2025-07-04 14:40:44,386] Trial 9 finished with value: 0.7086410872976341 and parameters: {'gb__learning_rate': 0.043767126303409544, 'gb__max_leaf_nodes': 91, 'gb__max_depth': 6, 'gb__min_samples_leaf': 114, 'gb__l2_regularization': 0.3697089110510541}. Best is trial 5 with value: 0.7106934565679892.\n"
     ]
    },
    {
     "name": "stderr",
     "output_type": "stream",
     "text": [
      "Best trial: 5. Best value: 0.710693:  11%|█         | 11/100 [01:38<08:39,  5.84s/it]/tmp/ipykernel_6084/3548152492.py:7: FutureWarning: suggest_loguniform has been deprecated in v3.0.0. This feature will be removed in v6.0.0. See https://github.com/optuna/optuna/releases/tag/v3.0.0. Use suggest_float(..., log=True) instead.\n",
      "  \"gb__learning_rate\": trial.suggest_loguniform(\"gb__learning_rate\", 1e-3, 0.3),\n",
      "/tmp/ipykernel_6084/3548152492.py:11: FutureWarning: suggest_uniform has been deprecated in v3.0.0. This feature will be removed in v6.0.0. See https://github.com/optuna/optuna/releases/tag/v3.0.0. Use suggest_float instead.\n",
      "  \"gb__l2_regularization\": trial.suggest_uniform(\"gb__l2_regularization\", 0.0, 2.0),\n"
     ]
    },
    {
     "name": "stdout",
     "output_type": "stream",
     "text": [
      "[I 2025-07-04 14:40:46,523] Trial 10 finished with value: 0.7104676818474536 and parameters: {'gb__learning_rate': 0.2597765579460734, 'gb__max_leaf_nodes': 184, 'gb__max_depth': 4, 'gb__min_samples_leaf': 13, 'gb__l2_regularization': 0.029026933760103082}. Best is trial 5 with value: 0.7106934565679892.\n"
     ]
    },
    {
     "name": "stderr",
     "output_type": "stream",
     "text": [
      "Best trial: 11. Best value: 0.710754:  12%|█▏        | 12/100 [01:41<07:05,  4.83s/it]/tmp/ipykernel_6084/3548152492.py:7: FutureWarning: suggest_loguniform has been deprecated in v3.0.0. This feature will be removed in v6.0.0. See https://github.com/optuna/optuna/releases/tag/v3.0.0. Use suggest_float(..., log=True) instead.\n",
      "  \"gb__learning_rate\": trial.suggest_loguniform(\"gb__learning_rate\", 1e-3, 0.3),\n",
      "/tmp/ipykernel_6084/3548152492.py:11: FutureWarning: suggest_uniform has been deprecated in v3.0.0. This feature will be removed in v6.0.0. See https://github.com/optuna/optuna/releases/tag/v3.0.0. Use suggest_float instead.\n",
      "  \"gb__l2_regularization\": trial.suggest_uniform(\"gb__l2_regularization\", 0.0, 2.0),\n"
     ]
    },
    {
     "name": "stdout",
     "output_type": "stream",
     "text": [
      "[I 2025-07-04 14:40:49,061] Trial 11 finished with value: 0.7107539429091101 and parameters: {'gb__learning_rate': 0.20737688966099269, 'gb__max_leaf_nodes': 190, 'gb__max_depth': 4, 'gb__min_samples_leaf': 26, 'gb__l2_regularization': 0.007453247542965356}. Best is trial 11 with value: 0.7107539429091101.\n"
     ]
    },
    {
     "name": "stderr",
     "output_type": "stream",
     "text": [
      "Best trial: 11. Best value: 0.710754:  13%|█▎        | 13/100 [01:43<05:44,  3.96s/it]/tmp/ipykernel_6084/3548152492.py:7: FutureWarning: suggest_loguniform has been deprecated in v3.0.0. This feature will be removed in v6.0.0. See https://github.com/optuna/optuna/releases/tag/v3.0.0. Use suggest_float(..., log=True) instead.\n",
      "  \"gb__learning_rate\": trial.suggest_loguniform(\"gb__learning_rate\", 1e-3, 0.3),\n",
      "/tmp/ipykernel_6084/3548152492.py:11: FutureWarning: suggest_uniform has been deprecated in v3.0.0. This feature will be removed in v6.0.0. See https://github.com/optuna/optuna/releases/tag/v3.0.0. Use suggest_float instead.\n",
      "  \"gb__l2_regularization\": trial.suggest_uniform(\"gb__l2_regularization\", 0.0, 2.0),\n"
     ]
    },
    {
     "name": "stdout",
     "output_type": "stream",
     "text": [
      "[I 2025-07-04 14:40:51,025] Trial 12 finished with value: 0.7106322231626644 and parameters: {'gb__learning_rate': 0.29164518997919253, 'gb__max_leaf_nodes': 184, 'gb__max_depth': 4, 'gb__min_samples_leaf': 19, 'gb__l2_regularization': 0.03287085363744247}. Best is trial 11 with value: 0.7107539429091101.\n"
     ]
    },
    {
     "name": "stderr",
     "output_type": "stream",
     "text": [
      "Best trial: 11. Best value: 0.710754:  14%|█▍        | 14/100 [01:48<05:59,  4.19s/it]/tmp/ipykernel_6084/3548152492.py:7: FutureWarning: suggest_loguniform has been deprecated in v3.0.0. This feature will be removed in v6.0.0. See https://github.com/optuna/optuna/releases/tag/v3.0.0. Use suggest_float(..., log=True) instead.\n",
      "  \"gb__learning_rate\": trial.suggest_loguniform(\"gb__learning_rate\", 1e-3, 0.3),\n",
      "/tmp/ipykernel_6084/3548152492.py:11: FutureWarning: suggest_uniform has been deprecated in v3.0.0. This feature will be removed in v6.0.0. See https://github.com/optuna/optuna/releases/tag/v3.0.0. Use suggest_float instead.\n",
      "  \"gb__l2_regularization\": trial.suggest_uniform(\"gb__l2_regularization\", 0.0, 2.0),\n"
     ]
    },
    {
     "name": "stdout",
     "output_type": "stream",
     "text": [
      "[I 2025-07-04 14:40:55,726] Trial 13 finished with value: 0.7089081479717275 and parameters: {'gb__learning_rate': 0.10698574322618068, 'gb__max_leaf_nodes': 179, 'gb__max_depth': 7, 'gb__min_samples_leaf': 159, 'gb__l2_regularization': 1.291712881406482}. Best is trial 11 with value: 0.7107539429091101.\n"
     ]
    },
    {
     "name": "stderr",
     "output_type": "stream",
     "text": [
      "Best trial: 14. Best value: 0.711461:  15%|█▌        | 15/100 [01:52<06:03,  4.27s/it]/tmp/ipykernel_6084/3548152492.py:7: FutureWarning: suggest_loguniform has been deprecated in v3.0.0. This feature will be removed in v6.0.0. See https://github.com/optuna/optuna/releases/tag/v3.0.0. Use suggest_float(..., log=True) instead.\n",
      "  \"gb__learning_rate\": trial.suggest_loguniform(\"gb__learning_rate\", 1e-3, 0.3),\n",
      "/tmp/ipykernel_6084/3548152492.py:11: FutureWarning: suggest_uniform has been deprecated in v3.0.0. This feature will be removed in v6.0.0. See https://github.com/optuna/optuna/releases/tag/v3.0.0. Use suggest_float instead.\n",
      "  \"gb__l2_regularization\": trial.suggest_uniform(\"gb__l2_regularization\", 0.0, 2.0),\n"
     ]
    },
    {
     "name": "stdout",
     "output_type": "stream",
     "text": [
      "[I 2025-07-04 14:41:00,197] Trial 14 finished with value: 0.7114610518441437 and parameters: {'gb__learning_rate': 0.10324708464927795, 'gb__max_leaf_nodes': 143, 'gb__max_depth': 5, 'gb__min_samples_leaf': 62, 'gb__l2_regularization': 0.029010502180317324}. Best is trial 14 with value: 0.7114610518441437.\n"
     ]
    },
    {
     "name": "stderr",
     "output_type": "stream",
     "text": [
      "Best trial: 14. Best value: 0.711461:  16%|█▌        | 16/100 [02:02<08:09,  5.83s/it]/tmp/ipykernel_6084/3548152492.py:7: FutureWarning: suggest_loguniform has been deprecated in v3.0.0. This feature will be removed in v6.0.0. See https://github.com/optuna/optuna/releases/tag/v3.0.0. Use suggest_float(..., log=True) instead.\n",
      "  \"gb__learning_rate\": trial.suggest_loguniform(\"gb__learning_rate\", 1e-3, 0.3),\n",
      "/tmp/ipykernel_6084/3548152492.py:11: FutureWarning: suggest_uniform has been deprecated in v3.0.0. This feature will be removed in v6.0.0. See https://github.com/optuna/optuna/releases/tag/v3.0.0. Use suggest_float instead.\n",
      "  \"gb__l2_regularization\": trial.suggest_uniform(\"gb__l2_regularization\", 0.0, 2.0),\n"
     ]
    },
    {
     "name": "stdout",
     "output_type": "stream",
     "text": [
      "[I 2025-07-04 14:41:09,637] Trial 15 finished with value: 0.6939877223673048 and parameters: {'gb__learning_rate': 0.011156032326330684, 'gb__max_leaf_nodes': 142, 'gb__max_depth': 5, 'gb__min_samples_leaf': 55, 'gb__l2_regularization': 0.618111707403946}. Best is trial 14 with value: 0.7114610518441437.\n"
     ]
    },
    {
     "name": "stderr",
     "output_type": "stream",
     "text": [
      "Best trial: 16. Best value: 0.711841:  17%|█▋        | 17/100 [02:07<07:43,  5.58s/it]/tmp/ipykernel_6084/3548152492.py:7: FutureWarning: suggest_loguniform has been deprecated in v3.0.0. This feature will be removed in v6.0.0. See https://github.com/optuna/optuna/releases/tag/v3.0.0. Use suggest_float(..., log=True) instead.\n",
      "  \"gb__learning_rate\": trial.suggest_loguniform(\"gb__learning_rate\", 1e-3, 0.3),\n",
      "/tmp/ipykernel_6084/3548152492.py:11: FutureWarning: suggest_uniform has been deprecated in v3.0.0. This feature will be removed in v6.0.0. See https://github.com/optuna/optuna/releases/tag/v3.0.0. Use suggest_float instead.\n",
      "  \"gb__l2_regularization\": trial.suggest_uniform(\"gb__l2_regularization\", 0.0, 2.0),\n"
     ]
    },
    {
     "name": "stdout",
     "output_type": "stream",
     "text": [
      "[I 2025-07-04 14:41:14,638] Trial 16 finished with value: 0.7118406276851876 and parameters: {'gb__learning_rate': 0.1443159321907246, 'gb__max_leaf_nodes': 148, 'gb__max_depth': 3, 'gb__min_samples_leaf': 46, 'gb__l2_regularization': 1.9315698226294058}. Best is trial 16 with value: 0.7118406276851876.\n"
     ]
    },
    {
     "name": "stderr",
     "output_type": "stream",
     "text": [
      "Best trial: 16. Best value: 0.711841:  18%|█▊        | 18/100 [02:13<07:57,  5.82s/it]/tmp/ipykernel_6084/3548152492.py:7: FutureWarning: suggest_loguniform has been deprecated in v3.0.0. This feature will be removed in v6.0.0. See https://github.com/optuna/optuna/releases/tag/v3.0.0. Use suggest_float(..., log=True) instead.\n",
      "  \"gb__learning_rate\": trial.suggest_loguniform(\"gb__learning_rate\", 1e-3, 0.3),\n",
      "/tmp/ipykernel_6084/3548152492.py:11: FutureWarning: suggest_uniform has been deprecated in v3.0.0. This feature will be removed in v6.0.0. See https://github.com/optuna/optuna/releases/tag/v3.0.0. Use suggest_float instead.\n",
      "  \"gb__l2_regularization\": trial.suggest_uniform(\"gb__l2_regularization\", 0.0, 2.0),\n"
     ]
    },
    {
     "name": "stdout",
     "output_type": "stream",
     "text": [
      "[I 2025-07-04 14:41:21,027] Trial 17 finished with value: 0.7086126653502429 and parameters: {'gb__learning_rate': 0.05752354583381458, 'gb__max_leaf_nodes': 139, 'gb__max_depth': 3, 'gb__min_samples_leaf': 48, 'gb__l2_regularization': 1.9920339787224264}. Best is trial 16 with value: 0.7118406276851876.\n"
     ]
    },
    {
     "name": "stderr",
     "output_type": "stream",
     "text": [
      "Best trial: 16. Best value: 0.711841:  19%|█▉        | 19/100 [02:22<09:09,  6.79s/it]/tmp/ipykernel_6084/3548152492.py:7: FutureWarning: suggest_loguniform has been deprecated in v3.0.0. This feature will be removed in v6.0.0. See https://github.com/optuna/optuna/releases/tag/v3.0.0. Use suggest_float(..., log=True) instead.\n",
      "  \"gb__learning_rate\": trial.suggest_loguniform(\"gb__learning_rate\", 1e-3, 0.3),\n",
      "/tmp/ipykernel_6084/3548152492.py:11: FutureWarning: suggest_uniform has been deprecated in v3.0.0. This feature will be removed in v6.0.0. See https://github.com/optuna/optuna/releases/tag/v3.0.0. Use suggest_float instead.\n",
      "  \"gb__l2_regularization\": trial.suggest_uniform(\"gb__l2_regularization\", 0.0, 2.0),\n"
     ]
    },
    {
     "name": "stdout",
     "output_type": "stream",
     "text": [
      "[I 2025-07-04 14:41:30,071] Trial 18 finished with value: 0.7002153544414533 and parameters: {'gb__learning_rate': 0.016077326614463906, 'gb__max_leaf_nodes': 217, 'gb__max_depth': 5, 'gb__min_samples_leaf': 73, 'gb__l2_regularization': 1.640944506373384}. Best is trial 16 with value: 0.7118406276851876.\n"
     ]
    },
    {
     "name": "stderr",
     "output_type": "stream",
     "text": [
      "Best trial: 16. Best value: 0.711841:  20%|██        | 20/100 [02:27<08:18,  6.23s/it]/tmp/ipykernel_6084/3548152492.py:7: FutureWarning: suggest_loguniform has been deprecated in v3.0.0. This feature will be removed in v6.0.0. See https://github.com/optuna/optuna/releases/tag/v3.0.0. Use suggest_float(..., log=True) instead.\n",
      "  \"gb__learning_rate\": trial.suggest_loguniform(\"gb__learning_rate\", 1e-3, 0.3),\n",
      "/tmp/ipykernel_6084/3548152492.py:11: FutureWarning: suggest_uniform has been deprecated in v3.0.0. This feature will be removed in v6.0.0. See https://github.com/optuna/optuna/releases/tag/v3.0.0. Use suggest_float instead.\n",
      "  \"gb__l2_regularization\": trial.suggest_uniform(\"gb__l2_regularization\", 0.0, 2.0),\n"
     ]
    },
    {
     "name": "stdout",
     "output_type": "stream",
     "text": [
      "[I 2025-07-04 14:41:34,988] Trial 19 finished with value: 0.7113532831368609 and parameters: {'gb__learning_rate': 0.13300310865214482, 'gb__max_leaf_nodes': 156, 'gb__max_depth': 3, 'gb__min_samples_leaf': 34, 'gb__l2_regularization': 1.1692992893084941}. Best is trial 16 with value: 0.7118406276851876.\n"
     ]
    },
    {
     "name": "stderr",
     "output_type": "stream",
     "text": [
      "Best trial: 16. Best value: 0.711841:  21%|██        | 21/100 [02:46<13:11, 10.02s/it]/tmp/ipykernel_6084/3548152492.py:7: FutureWarning: suggest_loguniform has been deprecated in v3.0.0. This feature will be removed in v6.0.0. See https://github.com/optuna/optuna/releases/tag/v3.0.0. Use suggest_float(..., log=True) instead.\n",
      "  \"gb__learning_rate\": trial.suggest_loguniform(\"gb__learning_rate\", 1e-3, 0.3),\n",
      "/tmp/ipykernel_6084/3548152492.py:11: FutureWarning: suggest_uniform has been deprecated in v3.0.0. This feature will be removed in v6.0.0. See https://github.com/optuna/optuna/releases/tag/v3.0.0. Use suggest_float instead.\n",
      "  \"gb__l2_regularization\": trial.suggest_uniform(\"gb__l2_regularization\", 0.0, 2.0),\n"
     ]
    },
    {
     "name": "stdout",
     "output_type": "stream",
     "text": [
      "[I 2025-07-04 14:41:53,843] Trial 20 finished with value: 0.6901945521572845 and parameters: {'gb__learning_rate': 0.006220974659612621, 'gb__max_leaf_nodes': 114, 'gb__max_depth': 10, 'gb__min_samples_leaf': 70, 'gb__l2_regularization': 1.67173145423823}. Best is trial 16 with value: 0.7118406276851876.\n"
     ]
    },
    {
     "name": "stderr",
     "output_type": "stream",
     "text": [
      "Best trial: 16. Best value: 0.711841:  22%|██▏       | 22/100 [02:50<10:55,  8.41s/it]/tmp/ipykernel_6084/3548152492.py:7: FutureWarning: suggest_loguniform has been deprecated in v3.0.0. This feature will be removed in v6.0.0. See https://github.com/optuna/optuna/releases/tag/v3.0.0. Use suggest_float(..., log=True) instead.\n",
      "  \"gb__learning_rate\": trial.suggest_loguniform(\"gb__learning_rate\", 1e-3, 0.3),\n",
      "/tmp/ipykernel_6084/3548152492.py:11: FutureWarning: suggest_uniform has been deprecated in v3.0.0. This feature will be removed in v6.0.0. See https://github.com/optuna/optuna/releases/tag/v3.0.0. Use suggest_float instead.\n",
      "  \"gb__l2_regularization\": trial.suggest_uniform(\"gb__l2_regularization\", 0.0, 2.0),\n"
     ]
    },
    {
     "name": "stdout",
     "output_type": "stream",
     "text": [
      "[I 2025-07-04 14:41:58,502] Trial 21 finished with value: 0.7114411883753958 and parameters: {'gb__learning_rate': 0.15606235943857025, 'gb__max_leaf_nodes': 161, 'gb__max_depth': 3, 'gb__min_samples_leaf': 36, 'gb__l2_regularization': 1.1538983477793558}. Best is trial 16 with value: 0.7118406276851876.\n"
     ]
    },
    {
     "name": "stderr",
     "output_type": "stream",
     "text": [
      "Best trial: 16. Best value: 0.711841:  23%|██▎       | 23/100 [02:54<09:04,  7.07s/it]/tmp/ipykernel_6084/3548152492.py:7: FutureWarning: suggest_loguniform has been deprecated in v3.0.0. This feature will be removed in v6.0.0. See https://github.com/optuna/optuna/releases/tag/v3.0.0. Use suggest_float(..., log=True) instead.\n",
      "  \"gb__learning_rate\": trial.suggest_loguniform(\"gb__learning_rate\", 1e-3, 0.3),\n",
      "/tmp/ipykernel_6084/3548152492.py:11: FutureWarning: suggest_uniform has been deprecated in v3.0.0. This feature will be removed in v6.0.0. See https://github.com/optuna/optuna/releases/tag/v3.0.0. Use suggest_float instead.\n",
      "  \"gb__l2_regularization\": trial.suggest_uniform(\"gb__l2_regularization\", 0.0, 2.0),\n"
     ]
    },
    {
     "name": "stdout",
     "output_type": "stream",
     "text": [
      "[I 2025-07-04 14:42:02,452] Trial 22 finished with value: 0.7116244083152793 and parameters: {'gb__learning_rate': 0.16567939757554365, 'gb__max_leaf_nodes': 113, 'gb__max_depth': 3, 'gb__min_samples_leaf': 38, 'gb__l2_regularization': 1.0578824535113296}. Best is trial 16 with value: 0.7118406276851876.\n"
     ]
    },
    {
     "name": "stderr",
     "output_type": "stream",
     "text": [
      "Best trial: 16. Best value: 0.711841:  24%|██▍       | 24/100 [03:02<08:59,  7.10s/it]/tmp/ipykernel_6084/3548152492.py:7: FutureWarning: suggest_loguniform has been deprecated in v3.0.0. This feature will be removed in v6.0.0. See https://github.com/optuna/optuna/releases/tag/v3.0.0. Use suggest_float(..., log=True) instead.\n",
      "  \"gb__learning_rate\": trial.suggest_loguniform(\"gb__learning_rate\", 1e-3, 0.3),\n",
      "/tmp/ipykernel_6084/3548152492.py:11: FutureWarning: suggest_uniform has been deprecated in v3.0.0. This feature will be removed in v6.0.0. See https://github.com/optuna/optuna/releases/tag/v3.0.0. Use suggest_float instead.\n",
      "  \"gb__l2_regularization\": trial.suggest_uniform(\"gb__l2_regularization\", 0.0, 2.0),\n"
     ]
    },
    {
     "name": "stdout",
     "output_type": "stream",
     "text": [
      "[I 2025-07-04 14:42:09,604] Trial 23 finished with value: 0.7101719162991575 and parameters: {'gb__learning_rate': 0.06453845960005229, 'gb__max_leaf_nodes': 112, 'gb__max_depth': 5, 'gb__min_samples_leaf': 93, 'gb__l2_regularization': 0.7825009551521904}. Best is trial 16 with value: 0.7118406276851876.\n"
     ]
    },
    {
     "name": "stderr",
     "output_type": "stream",
     "text": [
      "Best trial: 16. Best value: 0.711841:  25%|██▌       | 25/100 [03:06<07:57,  6.37s/it]/tmp/ipykernel_6084/3548152492.py:7: FutureWarning: suggest_loguniform has been deprecated in v3.0.0. This feature will be removed in v6.0.0. See https://github.com/optuna/optuna/releases/tag/v3.0.0. Use suggest_float(..., log=True) instead.\n",
      "  \"gb__learning_rate\": trial.suggest_loguniform(\"gb__learning_rate\", 1e-3, 0.3),\n",
      "/tmp/ipykernel_6084/3548152492.py:11: FutureWarning: suggest_uniform has been deprecated in v3.0.0. This feature will be removed in v6.0.0. See https://github.com/optuna/optuna/releases/tag/v3.0.0. Use suggest_float instead.\n",
      "  \"gb__l2_regularization\": trial.suggest_uniform(\"gb__l2_regularization\", 0.0, 2.0),\n"
     ]
    },
    {
     "name": "stdout",
     "output_type": "stream",
     "text": [
      "[I 2025-07-04 14:42:14,283] Trial 24 finished with value: 0.7115548789398175 and parameters: {'gb__learning_rate': 0.16810660615611409, 'gb__max_leaf_nodes': 117, 'gb__max_depth': 3, 'gb__min_samples_leaf': 60, 'gb__l2_regularization': 1.6091769660597557}. Best is trial 16 with value: 0.7118406276851876.\n"
     ]
    },
    {
     "name": "stderr",
     "output_type": "stream",
     "text": [
      "Best trial: 16. Best value: 0.711841:  26%|██▌       | 26/100 [03:11<07:07,  5.78s/it]/tmp/ipykernel_6084/3548152492.py:7: FutureWarning: suggest_loguniform has been deprecated in v3.0.0. This feature will be removed in v6.0.0. See https://github.com/optuna/optuna/releases/tag/v3.0.0. Use suggest_float(..., log=True) instead.\n",
      "  \"gb__learning_rate\": trial.suggest_loguniform(\"gb__learning_rate\", 1e-3, 0.3),\n",
      "/tmp/ipykernel_6084/3548152492.py:11: FutureWarning: suggest_uniform has been deprecated in v3.0.0. This feature will be removed in v6.0.0. See https://github.com/optuna/optuna/releases/tag/v3.0.0. Use suggest_float instead.\n",
      "  \"gb__l2_regularization\": trial.suggest_uniform(\"gb__l2_regularization\", 0.0, 2.0),\n"
     ]
    },
    {
     "name": "stdout",
     "output_type": "stream",
     "text": [
      "[I 2025-07-04 14:42:18,688] Trial 25 finished with value: 0.7118167436301123 and parameters: {'gb__learning_rate': 0.18211757993030314, 'gb__max_leaf_nodes': 126, 'gb__max_depth': 3, 'gb__min_samples_leaf': 39, 'gb__l2_regularization': 1.7481650941980054}. Best is trial 16 with value: 0.7118406276851876.\n"
     ]
    },
    {
     "name": "stderr",
     "output_type": "stream",
     "text": [
      "Best trial: 16. Best value: 0.711841:  27%|██▋       | 27/100 [03:16<07:01,  5.77s/it]/tmp/ipykernel_6084/3548152492.py:7: FutureWarning: suggest_loguniform has been deprecated in v3.0.0. This feature will be removed in v6.0.0. See https://github.com/optuna/optuna/releases/tag/v3.0.0. Use suggest_float(..., log=True) instead.\n",
      "  \"gb__learning_rate\": trial.suggest_loguniform(\"gb__learning_rate\", 1e-3, 0.3),\n",
      "/tmp/ipykernel_6084/3548152492.py:11: FutureWarning: suggest_uniform has been deprecated in v3.0.0. This feature will be removed in v6.0.0. See https://github.com/optuna/optuna/releases/tag/v3.0.0. Use suggest_float instead.\n",
      "  \"gb__l2_regularization\": trial.suggest_uniform(\"gb__l2_regularization\", 0.0, 2.0),\n"
     ]
    },
    {
     "name": "stdout",
     "output_type": "stream",
     "text": [
      "[I 2025-07-04 14:42:24,437] Trial 26 finished with value: 0.6897688332416869 and parameters: {'gb__learning_rate': 0.02693090140192227, 'gb__max_leaf_nodes': 210, 'gb__max_depth': 2, 'gb__min_samples_leaf': 39, 'gb__l2_regularization': 1.7693534276101113}. Best is trial 16 with value: 0.7118406276851876.\n"
     ]
    },
    {
     "name": "stderr",
     "output_type": "stream",
     "text": [
      "Best trial: 16. Best value: 0.711841:  28%|██▊       | 28/100 [03:23<07:13,  6.02s/it]/tmp/ipykernel_6084/3548152492.py:7: FutureWarning: suggest_loguniform has been deprecated in v3.0.0. This feature will be removed in v6.0.0. See https://github.com/optuna/optuna/releases/tag/v3.0.0. Use suggest_float(..., log=True) instead.\n",
      "  \"gb__learning_rate\": trial.suggest_loguniform(\"gb__learning_rate\", 1e-3, 0.3),\n",
      "/tmp/ipykernel_6084/3548152492.py:11: FutureWarning: suggest_uniform has been deprecated in v3.0.0. This feature will be removed in v6.0.0. See https://github.com/optuna/optuna/releases/tag/v3.0.0. Use suggest_float instead.\n",
      "  \"gb__l2_regularization\": trial.suggest_uniform(\"gb__l2_regularization\", 0.0, 2.0),\n"
     ]
    },
    {
     "name": "stdout",
     "output_type": "stream",
     "text": [
      "[I 2025-07-04 14:42:31,043] Trial 27 finished with value: 0.7115765653425364 and parameters: {'gb__learning_rate': 0.06835598916046864, 'gb__max_leaf_nodes': 103, 'gb__max_depth': 3, 'gb__min_samples_leaf': 15, 'gb__l2_regularization': 1.420334623084874}. Best is trial 16 with value: 0.7118406276851876.\n"
     ]
    },
    {
     "name": "stderr",
     "output_type": "stream",
     "text": [
      "Best trial: 16. Best value: 0.711841:  29%|██▉       | 29/100 [03:26<06:10,  5.22s/it]/tmp/ipykernel_6084/3548152492.py:7: FutureWarning: suggest_loguniform has been deprecated in v3.0.0. This feature will be removed in v6.0.0. See https://github.com/optuna/optuna/releases/tag/v3.0.0. Use suggest_float(..., log=True) instead.\n",
      "  \"gb__learning_rate\": trial.suggest_loguniform(\"gb__learning_rate\", 1e-3, 0.3),\n",
      "/tmp/ipykernel_6084/3548152492.py:11: FutureWarning: suggest_uniform has been deprecated in v3.0.0. This feature will be removed in v6.0.0. See https://github.com/optuna/optuna/releases/tag/v3.0.0. Use suggest_float instead.\n",
      "  \"gb__l2_regularization\": trial.suggest_uniform(\"gb__l2_regularization\", 0.0, 2.0),\n"
     ]
    },
    {
     "name": "stdout",
     "output_type": "stream",
     "text": [
      "[I 2025-07-04 14:42:34,392] Trial 28 finished with value: 0.7105941821597398 and parameters: {'gb__learning_rate': 0.20141062854092695, 'gb__max_leaf_nodes': 162, 'gb__max_depth': 4, 'gb__min_samples_leaf': 90, 'gb__l2_regularization': 1.8057429681665527}. Best is trial 16 with value: 0.7118406276851876.\n"
     ]
    },
    {
     "name": "stderr",
     "output_type": "stream",
     "text": [
      "Best trial: 16. Best value: 0.711841:  30%|███       | 30/100 [03:32<06:22,  5.46s/it]/tmp/ipykernel_6084/3548152492.py:7: FutureWarning: suggest_loguniform has been deprecated in v3.0.0. This feature will be removed in v6.0.0. See https://github.com/optuna/optuna/releases/tag/v3.0.0. Use suggest_float(..., log=True) instead.\n",
      "  \"gb__learning_rate\": trial.suggest_loguniform(\"gb__learning_rate\", 1e-3, 0.3),\n",
      "/tmp/ipykernel_6084/3548152492.py:11: FutureWarning: suggest_uniform has been deprecated in v3.0.0. This feature will be removed in v6.0.0. See https://github.com/optuna/optuna/releases/tag/v3.0.0. Use suggest_float instead.\n",
      "  \"gb__l2_regularization\": trial.suggest_uniform(\"gb__l2_regularization\", 0.0, 2.0),\n"
     ]
    },
    {
     "name": "stdout",
     "output_type": "stream",
     "text": [
      "[I 2025-07-04 14:42:40,403] Trial 29 finished with value: 0.6543190705271632 and parameters: {'gb__learning_rate': 0.006159763801939537, 'gb__max_leaf_nodes': 124, 'gb__max_depth': 2, 'gb__min_samples_leaf': 29, 'gb__l2_regularization': 1.4244263182182964}. Best is trial 16 with value: 0.7118406276851876.\n"
     ]
    },
    {
     "name": "stderr",
     "output_type": "stream",
     "text": [
      "Best trial: 16. Best value: 0.711841:  31%|███       | 31/100 [03:40<07:08,  6.21s/it]/tmp/ipykernel_6084/3548152492.py:7: FutureWarning: suggest_loguniform has been deprecated in v3.0.0. This feature will be removed in v6.0.0. See https://github.com/optuna/optuna/releases/tag/v3.0.0. Use suggest_float(..., log=True) instead.\n",
      "  \"gb__learning_rate\": trial.suggest_loguniform(\"gb__learning_rate\", 1e-3, 0.3),\n",
      "/tmp/ipykernel_6084/3548152492.py:11: FutureWarning: suggest_uniform has been deprecated in v3.0.0. This feature will be removed in v6.0.0. See https://github.com/optuna/optuna/releases/tag/v3.0.0. Use suggest_float instead.\n",
      "  \"gb__l2_regularization\": trial.suggest_uniform(\"gb__l2_regularization\", 0.0, 2.0),\n"
     ]
    },
    {
     "name": "stdout",
     "output_type": "stream",
     "text": [
      "[I 2025-07-04 14:42:48,375] Trial 30 finished with value: 0.7102961768070055 and parameters: {'gb__learning_rate': 0.044633083858332624, 'gb__max_leaf_nodes': 72, 'gb__max_depth': 7, 'gb__min_samples_leaf': 48, 'gb__l2_regularization': 1.8438772085310369}. Best is trial 16 with value: 0.7118406276851876.\n"
     ]
    },
    {
     "name": "stderr",
     "output_type": "stream",
     "text": [
      "Best trial: 16. Best value: 0.711841:  32%|███▏      | 32/100 [03:47<07:06,  6.28s/it]/tmp/ipykernel_6084/3548152492.py:7: FutureWarning: suggest_loguniform has been deprecated in v3.0.0. This feature will be removed in v6.0.0. See https://github.com/optuna/optuna/releases/tag/v3.0.0. Use suggest_float(..., log=True) instead.\n",
      "  \"gb__learning_rate\": trial.suggest_loguniform(\"gb__learning_rate\", 1e-3, 0.3),\n",
      "/tmp/ipykernel_6084/3548152492.py:11: FutureWarning: suggest_uniform has been deprecated in v3.0.0. This feature will be removed in v6.0.0. See https://github.com/optuna/optuna/releases/tag/v3.0.0. Use suggest_float instead.\n",
      "  \"gb__l2_regularization\": trial.suggest_uniform(\"gb__l2_regularization\", 0.0, 2.0),\n"
     ]
    },
    {
     "name": "stdout",
     "output_type": "stream",
     "text": [
      "[I 2025-07-04 14:42:54,803] Trial 31 finished with value: 0.7113445639695437 and parameters: {'gb__learning_rate': 0.06839333098533876, 'gb__max_leaf_nodes': 103, 'gb__max_depth': 3, 'gb__min_samples_leaf': 12, 'gb__l2_regularization': 1.4968460061148146}. Best is trial 16 with value: 0.7118406276851876.\n"
     ]
    },
    {
     "name": "stderr",
     "output_type": "stream",
     "text": [
      "Best trial: 16. Best value: 0.711841:  33%|███▎      | 33/100 [03:51<06:19,  5.66s/it]/tmp/ipykernel_6084/3548152492.py:7: FutureWarning: suggest_loguniform has been deprecated in v3.0.0. This feature will be removed in v6.0.0. See https://github.com/optuna/optuna/releases/tag/v3.0.0. Use suggest_float(..., log=True) instead.\n",
      "  \"gb__learning_rate\": trial.suggest_loguniform(\"gb__learning_rate\", 1e-3, 0.3),\n",
      "/tmp/ipykernel_6084/3548152492.py:11: FutureWarning: suggest_uniform has been deprecated in v3.0.0. This feature will be removed in v6.0.0. See https://github.com/optuna/optuna/releases/tag/v3.0.0. Use suggest_float instead.\n",
      "  \"gb__l2_regularization\": trial.suggest_uniform(\"gb__l2_regularization\", 0.0, 2.0),\n"
     ]
    },
    {
     "name": "stdout",
     "output_type": "stream",
     "text": [
      "[I 2025-07-04 14:42:59,018] Trial 32 finished with value: 0.7117003864375524 and parameters: {'gb__learning_rate': 0.1373719848655973, 'gb__max_leaf_nodes': 98, 'gb__max_depth': 3, 'gb__min_samples_leaf': 24, 'gb__l2_regularization': 1.1405908268238405}. Best is trial 16 with value: 0.7118406276851876.\n"
     ]
    },
    {
     "name": "stderr",
     "output_type": "stream",
     "text": [
      "Best trial: 16. Best value: 0.711841:  34%|███▍      | 34/100 [03:54<05:13,  4.74s/it]/tmp/ipykernel_6084/3548152492.py:7: FutureWarning: suggest_loguniform has been deprecated in v3.0.0. This feature will be removed in v6.0.0. See https://github.com/optuna/optuna/releases/tag/v3.0.0. Use suggest_float(..., log=True) instead.\n",
      "  \"gb__learning_rate\": trial.suggest_loguniform(\"gb__learning_rate\", 1e-3, 0.3),\n",
      "/tmp/ipykernel_6084/3548152492.py:11: FutureWarning: suggest_uniform has been deprecated in v3.0.0. This feature will be removed in v6.0.0. See https://github.com/optuna/optuna/releases/tag/v3.0.0. Use suggest_float instead.\n",
      "  \"gb__l2_regularization\": trial.suggest_uniform(\"gb__l2_regularization\", 0.0, 2.0),\n"
     ]
    },
    {
     "name": "stdout",
     "output_type": "stream",
     "text": [
      "[I 2025-07-04 14:43:01,625] Trial 33 finished with value: 0.7109372277085642 and parameters: {'gb__learning_rate': 0.2957016263041057, 'gb__max_leaf_nodes': 33, 'gb__max_depth': 3, 'gb__min_samples_leaf': 41, 'gb__l2_regularization': 1.1153848998104845}. Best is trial 16 with value: 0.7118406276851876.\n"
     ]
    },
    {
     "name": "stderr",
     "output_type": "stream",
     "text": [
      "Best trial: 16. Best value: 0.711841:  35%|███▌      | 35/100 [03:57<04:48,  4.43s/it]/tmp/ipykernel_6084/3548152492.py:7: FutureWarning: suggest_loguniform has been deprecated in v3.0.0. This feature will be removed in v6.0.0. See https://github.com/optuna/optuna/releases/tag/v3.0.0. Use suggest_float(..., log=True) instead.\n",
      "  \"gb__learning_rate\": trial.suggest_loguniform(\"gb__learning_rate\", 1e-3, 0.3),\n",
      "/tmp/ipykernel_6084/3548152492.py:11: FutureWarning: suggest_uniform has been deprecated in v3.0.0. This feature will be removed in v6.0.0. See https://github.com/optuna/optuna/releases/tag/v3.0.0. Use suggest_float instead.\n",
      "  \"gb__l2_regularization\": trial.suggest_uniform(\"gb__l2_regularization\", 0.0, 2.0),\n"
     ]
    },
    {
     "name": "stdout",
     "output_type": "stream",
     "text": [
      "[I 2025-07-04 14:43:05,332] Trial 34 finished with value: 0.7099483195562033 and parameters: {'gb__learning_rate': 0.14943535441443329, 'gb__max_leaf_nodes': 129, 'gb__max_depth': 4, 'gb__min_samples_leaf': 27, 'gb__l2_regularization': 1.0449580807027812}. Best is trial 16 with value: 0.7118406276851876.\n"
     ]
    },
    {
     "name": "stderr",
     "output_type": "stream",
     "text": [
      "Best trial: 16. Best value: 0.711841:  36%|███▌      | 36/100 [04:02<04:58,  4.66s/it]/tmp/ipykernel_6084/3548152492.py:7: FutureWarning: suggest_loguniform has been deprecated in v3.0.0. This feature will be removed in v6.0.0. See https://github.com/optuna/optuna/releases/tag/v3.0.0. Use suggest_float(..., log=True) instead.\n",
      "  \"gb__learning_rate\": trial.suggest_loguniform(\"gb__learning_rate\", 1e-3, 0.3),\n",
      "/tmp/ipykernel_6084/3548152492.py:11: FutureWarning: suggest_uniform has been deprecated in v3.0.0. This feature will be removed in v6.0.0. See https://github.com/optuna/optuna/releases/tag/v3.0.0. Use suggest_float instead.\n",
      "  \"gb__l2_regularization\": trial.suggest_uniform(\"gb__l2_regularization\", 0.0, 2.0),\n"
     ]
    },
    {
     "name": "stdout",
     "output_type": "stream",
     "text": [
      "[I 2025-07-04 14:43:10,513] Trial 35 finished with value: 0.7117252340608614 and parameters: {'gb__learning_rate': 0.189610388460128, 'gb__max_leaf_nodes': 80, 'gb__max_depth': 2, 'gb__min_samples_leaf': 46, 'gb__l2_regularization': 1.3345432032026956}. Best is trial 16 with value: 0.7118406276851876.\n"
     ]
    },
    {
     "name": "stderr",
     "output_type": "stream",
     "text": [
      "Best trial: 16. Best value: 0.711841:  37%|███▋      | 37/100 [04:07<04:51,  4.62s/it]/tmp/ipykernel_6084/3548152492.py:7: FutureWarning: suggest_loguniform has been deprecated in v3.0.0. This feature will be removed in v6.0.0. See https://github.com/optuna/optuna/releases/tag/v3.0.0. Use suggest_float(..., log=True) instead.\n",
      "  \"gb__learning_rate\": trial.suggest_loguniform(\"gb__learning_rate\", 1e-3, 0.3),\n",
      "/tmp/ipykernel_6084/3548152492.py:11: FutureWarning: suggest_uniform has been deprecated in v3.0.0. This feature will be removed in v6.0.0. See https://github.com/optuna/optuna/releases/tag/v3.0.0. Use suggest_float instead.\n",
      "  \"gb__l2_regularization\": trial.suggest_uniform(\"gb__l2_regularization\", 0.0, 2.0),\n"
     ]
    },
    {
     "name": "stdout",
     "output_type": "stream",
     "text": [
      "[I 2025-07-04 14:43:15,059] Trial 36 finished with value: 0.7106594247999432 and parameters: {'gb__learning_rate': 0.22242502941650996, 'gb__max_leaf_nodes': 75, 'gb__max_depth': 2, 'gb__min_samples_leaf': 63, 'gb__l2_regularization': 1.3043875972435837}. Best is trial 16 with value: 0.7118406276851876.\n"
     ]
    },
    {
     "name": "stderr",
     "output_type": "stream",
     "text": [
      "Best trial: 16. Best value: 0.711841:  38%|███▊      | 38/100 [04:13<05:06,  4.95s/it]/tmp/ipykernel_6084/3548152492.py:7: FutureWarning: suggest_loguniform has been deprecated in v3.0.0. This feature will be removed in v6.0.0. See https://github.com/optuna/optuna/releases/tag/v3.0.0. Use suggest_float(..., log=True) instead.\n",
      "  \"gb__learning_rate\": trial.suggest_loguniform(\"gb__learning_rate\", 1e-3, 0.3),\n",
      "/tmp/ipykernel_6084/3548152492.py:11: FutureWarning: suggest_uniform has been deprecated in v3.0.0. This feature will be removed in v6.0.0. See https://github.com/optuna/optuna/releases/tag/v3.0.0. Use suggest_float instead.\n",
      "  \"gb__l2_regularization\": trial.suggest_uniform(\"gb__l2_regularization\", 0.0, 2.0),\n"
     ]
    },
    {
     "name": "stdout",
     "output_type": "stream",
     "text": [
      "[I 2025-07-04 14:43:20,766] Trial 37 finished with value: 0.7094344943059524 and parameters: {'gb__learning_rate': 0.1309415993762615, 'gb__max_leaf_nodes': 18, 'gb__max_depth': 2, 'gb__min_samples_leaf': 83, 'gb__l2_regularization': 1.5342193682955556}. Best is trial 16 with value: 0.7118406276851876.\n"
     ]
    },
    {
     "name": "stderr",
     "output_type": "stream",
     "text": [
      "Best trial: 16. Best value: 0.711841:  39%|███▉      | 39/100 [04:19<05:20,  5.25s/it]/tmp/ipykernel_6084/3548152492.py:7: FutureWarning: suggest_loguniform has been deprecated in v3.0.0. This feature will be removed in v6.0.0. See https://github.com/optuna/optuna/releases/tag/v3.0.0. Use suggest_float(..., log=True) instead.\n",
      "  \"gb__learning_rate\": trial.suggest_loguniform(\"gb__learning_rate\", 1e-3, 0.3),\n",
      "/tmp/ipykernel_6084/3548152492.py:11: FutureWarning: suggest_uniform has been deprecated in v3.0.0. This feature will be removed in v6.0.0. See https://github.com/optuna/optuna/releases/tag/v3.0.0. Use suggest_float instead.\n",
      "  \"gb__l2_regularization\": trial.suggest_uniform(\"gb__l2_regularization\", 0.0, 2.0),\n"
     ]
    },
    {
     "name": "stdout",
     "output_type": "stream",
     "text": [
      "[I 2025-07-04 14:43:26,719] Trial 38 finished with value: 0.710187173822754 and parameters: {'gb__learning_rate': 0.0821714230113661, 'gb__max_leaf_nodes': 50, 'gb__max_depth': 4, 'gb__min_samples_leaf': 102, 'gb__l2_regularization': 1.281106226489623}. Best is trial 16 with value: 0.7118406276851876.\n"
     ]
    },
    {
     "name": "stderr",
     "output_type": "stream",
     "text": [
      "Best trial: 16. Best value: 0.711841:  40%|████      | 40/100 [04:32<07:35,  7.59s/it]/tmp/ipykernel_6084/3548152492.py:7: FutureWarning: suggest_loguniform has been deprecated in v3.0.0. This feature will be removed in v6.0.0. See https://github.com/optuna/optuna/releases/tag/v3.0.0. Use suggest_float(..., log=True) instead.\n",
      "  \"gb__learning_rate\": trial.suggest_loguniform(\"gb__learning_rate\", 1e-3, 0.3),\n",
      "/tmp/ipykernel_6084/3548152492.py:11: FutureWarning: suggest_uniform has been deprecated in v3.0.0. This feature will be removed in v6.0.0. See https://github.com/optuna/optuna/releases/tag/v3.0.0. Use suggest_float instead.\n",
      "  \"gb__l2_regularization\": trial.suggest_uniform(\"gb__l2_regularization\", 0.0, 2.0),\n"
     ]
    },
    {
     "name": "stdout",
     "output_type": "stream",
     "text": [
      "[I 2025-07-04 14:43:39,760] Trial 39 finished with value: 0.710249131854478 and parameters: {'gb__learning_rate': 0.022104852530944758, 'gb__max_leaf_nodes': 79, 'gb__max_depth': 8, 'gb__min_samples_leaf': 48, 'gb__l2_regularization': 0.8972662423848785}. Best is trial 16 with value: 0.7118406276851876.\n"
     ]
    },
    {
     "name": "stderr",
     "output_type": "stream",
     "text": [
      "Best trial: 16. Best value: 0.711841:  41%|████      | 41/100 [04:37<06:54,  7.03s/it]/tmp/ipykernel_6084/3548152492.py:7: FutureWarning: suggest_loguniform has been deprecated in v3.0.0. This feature will be removed in v6.0.0. See https://github.com/optuna/optuna/releases/tag/v3.0.0. Use suggest_float(..., log=True) instead.\n",
      "  \"gb__learning_rate\": trial.suggest_loguniform(\"gb__learning_rate\", 1e-3, 0.3),\n",
      "/tmp/ipykernel_6084/3548152492.py:11: FutureWarning: suggest_uniform has been deprecated in v3.0.0. This feature will be removed in v6.0.0. See https://github.com/optuna/optuna/releases/tag/v3.0.0. Use suggest_float instead.\n",
      "  \"gb__l2_regularization\": trial.suggest_uniform(\"gb__l2_regularization\", 0.0, 2.0),\n"
     ]
    },
    {
     "name": "stdout",
     "output_type": "stream",
     "text": [
      "[I 2025-07-04 14:43:45,499] Trial 40 finished with value: 0.7016655144618748 and parameters: {'gb__learning_rate': 0.04396108240274153, 'gb__max_leaf_nodes': 94, 'gb__max_depth': 2, 'gb__min_samples_leaf': 22, 'gb__l2_regularization': 1.7300599075169354}. Best is trial 16 with value: 0.7118406276851876.\n"
     ]
    },
    {
     "name": "stderr",
     "output_type": "stream",
     "text": [
      "Best trial: 16. Best value: 0.711841:  42%|████▏     | 42/100 [04:41<05:51,  6.07s/it]/tmp/ipykernel_6084/3548152492.py:7: FutureWarning: suggest_loguniform has been deprecated in v3.0.0. This feature will be removed in v6.0.0. See https://github.com/optuna/optuna/releases/tag/v3.0.0. Use suggest_float(..., log=True) instead.\n",
      "  \"gb__learning_rate\": trial.suggest_loguniform(\"gb__learning_rate\", 1e-3, 0.3),\n",
      "/tmp/ipykernel_6084/3548152492.py:11: FutureWarning: suggest_uniform has been deprecated in v3.0.0. This feature will be removed in v6.0.0. See https://github.com/optuna/optuna/releases/tag/v3.0.0. Use suggest_float instead.\n",
      "  \"gb__l2_regularization\": trial.suggest_uniform(\"gb__l2_regularization\", 0.0, 2.0),\n"
     ]
    },
    {
     "name": "stdout",
     "output_type": "stream",
     "text": [
      "[I 2025-07-04 14:43:49,312] Trial 41 finished with value: 0.7114947058923569 and parameters: {'gb__learning_rate': 0.19230223170419386, 'gb__max_leaf_nodes': 102, 'gb__max_depth': 3, 'gb__min_samples_leaf': 42, 'gb__l2_regularization': 1.8962957130421498}. Best is trial 16 with value: 0.7118406276851876.\n"
     ]
    },
    {
     "name": "stderr",
     "output_type": "stream",
     "text": [
      "Best trial: 16. Best value: 0.711841:  43%|████▎     | 43/100 [04:47<05:36,  5.90s/it]/tmp/ipykernel_6084/3548152492.py:7: FutureWarning: suggest_loguniform has been deprecated in v3.0.0. This feature will be removed in v6.0.0. See https://github.com/optuna/optuna/releases/tag/v3.0.0. Use suggest_float(..., log=True) instead.\n",
      "  \"gb__learning_rate\": trial.suggest_loguniform(\"gb__learning_rate\", 1e-3, 0.3),\n",
      "/tmp/ipykernel_6084/3548152492.py:11: FutureWarning: suggest_uniform has been deprecated in v3.0.0. This feature will be removed in v6.0.0. See https://github.com/optuna/optuna/releases/tag/v3.0.0. Use suggest_float instead.\n",
      "  \"gb__l2_regularization\": trial.suggest_uniform(\"gb__l2_regularization\", 0.0, 2.0),\n"
     ]
    },
    {
     "name": "stdout",
     "output_type": "stream",
     "text": [
      "[I 2025-07-04 14:43:54,830] Trial 42 finished with value: 0.7107613909809773 and parameters: {'gb__learning_rate': 0.12155848822033463, 'gb__max_leaf_nodes': 83, 'gb__max_depth': 3, 'gb__min_samples_leaf': 69, 'gb__l2_regularization': 1.0036723461547976}. Best is trial 16 with value: 0.7118406276851876.\n"
     ]
    },
    {
     "name": "stderr",
     "output_type": "stream",
     "text": [
      "Best trial: 16. Best value: 0.711841:  44%|████▍     | 44/100 [04:53<05:28,  5.86s/it]/tmp/ipykernel_6084/3548152492.py:7: FutureWarning: suggest_loguniform has been deprecated in v3.0.0. This feature will be removed in v6.0.0. See https://github.com/optuna/optuna/releases/tag/v3.0.0. Use suggest_float(..., log=True) instead.\n",
      "  \"gb__learning_rate\": trial.suggest_loguniform(\"gb__learning_rate\", 1e-3, 0.3),\n",
      "/tmp/ipykernel_6084/3548152492.py:11: FutureWarning: suggest_uniform has been deprecated in v3.0.0. This feature will be removed in v6.0.0. See https://github.com/optuna/optuna/releases/tag/v3.0.0. Use suggest_float instead.\n",
      "  \"gb__l2_regularization\": trial.suggest_uniform(\"gb__l2_regularization\", 0.0, 2.0),\n"
     ]
    },
    {
     "name": "stdout",
     "output_type": "stream",
     "text": [
      "[I 2025-07-04 14:44:00,588] Trial 43 finished with value: 0.7089683773199663 and parameters: {'gb__learning_rate': 0.0868194918322623, 'gb__max_leaf_nodes': 122, 'gb__max_depth': 2, 'gb__min_samples_leaf': 55, 'gb__l2_regularization': 0.8004955724585501}. Best is trial 16 with value: 0.7118406276851876.\n"
     ]
    },
    {
     "name": "stderr",
     "output_type": "stream",
     "text": [
      "Best trial: 16. Best value: 0.711841:  45%|████▌     | 45/100 [04:55<04:28,  4.89s/it]/tmp/ipykernel_6084/3548152492.py:7: FutureWarning: suggest_loguniform has been deprecated in v3.0.0. This feature will be removed in v6.0.0. See https://github.com/optuna/optuna/releases/tag/v3.0.0. Use suggest_float(..., log=True) instead.\n",
      "  \"gb__learning_rate\": trial.suggest_loguniform(\"gb__learning_rate\", 1e-3, 0.3),\n",
      "/tmp/ipykernel_6084/3548152492.py:11: FutureWarning: suggest_uniform has been deprecated in v3.0.0. This feature will be removed in v6.0.0. See https://github.com/optuna/optuna/releases/tag/v3.0.0. Use suggest_float instead.\n",
      "  \"gb__l2_regularization\": trial.suggest_uniform(\"gb__l2_regularization\", 0.0, 2.0),\n"
     ]
    },
    {
     "name": "stdout",
     "output_type": "stream",
     "text": [
      "[I 2025-07-04 14:44:03,215] Trial 44 finished with value: 0.711381812884507 and parameters: {'gb__learning_rate': 0.2277240578109211, 'gb__max_leaf_nodes': 64, 'gb__max_depth': 4, 'gb__min_samples_leaf': 31, 'gb__l2_regularization': 1.208751135372487}. Best is trial 16 with value: 0.7118406276851876.\n"
     ]
    },
    {
     "name": "stderr",
     "output_type": "stream",
     "text": [
      "Best trial: 45. Best value: 0.71223:  46%|████▌     | 46/100 [05:00<04:21,  4.85s/it] /tmp/ipykernel_6084/3548152492.py:7: FutureWarning: suggest_loguniform has been deprecated in v3.0.0. This feature will be removed in v6.0.0. See https://github.com/optuna/optuna/releases/tag/v3.0.0. Use suggest_float(..., log=True) instead.\n",
      "  \"gb__learning_rate\": trial.suggest_loguniform(\"gb__learning_rate\", 1e-3, 0.3),\n",
      "/tmp/ipykernel_6084/3548152492.py:11: FutureWarning: suggest_uniform has been deprecated in v3.0.0. This feature will be removed in v6.0.0. See https://github.com/optuna/optuna/releases/tag/v3.0.0. Use suggest_float instead.\n",
      "  \"gb__l2_regularization\": trial.suggest_uniform(\"gb__l2_regularization\", 0.0, 2.0),\n"
     ]
    },
    {
     "name": "stdout",
     "output_type": "stream",
     "text": [
      "[I 2025-07-04 14:44:07,979] Trial 45 finished with value: 0.712230205560447 and parameters: {'gb__learning_rate': 0.17560907532759604, 'gb__max_leaf_nodes': 156, 'gb__max_depth': 2, 'gb__min_samples_leaf': 23, 'gb__l2_regularization': 1.963076593426804}. Best is trial 45 with value: 0.712230205560447.\n"
     ]
    },
    {
     "name": "stderr",
     "output_type": "stream",
     "text": [
      "Best trial: 46. Best value: 0.713494:  47%|████▋     | 47/100 [05:04<04:12,  4.76s/it]/tmp/ipykernel_6084/3548152492.py:7: FutureWarning: suggest_loguniform has been deprecated in v3.0.0. This feature will be removed in v6.0.0. See https://github.com/optuna/optuna/releases/tag/v3.0.0. Use suggest_float(..., log=True) instead.\n",
      "  \"gb__learning_rate\": trial.suggest_loguniform(\"gb__learning_rate\", 1e-3, 0.3),\n",
      "/tmp/ipykernel_6084/3548152492.py:11: FutureWarning: suggest_uniform has been deprecated in v3.0.0. This feature will be removed in v6.0.0. See https://github.com/optuna/optuna/releases/tag/v3.0.0. Use suggest_float instead.\n",
      "  \"gb__l2_regularization\": trial.suggest_uniform(\"gb__l2_regularization\", 0.0, 2.0),\n"
     ]
    },
    {
     "name": "stdout",
     "output_type": "stream",
     "text": [
      "[I 2025-07-04 14:44:12,530] Trial 46 finished with value: 0.7134936059491223 and parameters: {'gb__learning_rate': 0.2493239511581942, 'gb__max_leaf_nodes': 152, 'gb__max_depth': 2, 'gb__min_samples_leaf': 20, 'gb__l2_regularization': 1.8487599354001036}. Best is trial 46 with value: 0.7134936059491223.\n"
     ]
    },
    {
     "name": "stderr",
     "output_type": "stream",
     "text": [
      "Best trial: 46. Best value: 0.713494:  48%|████▊     | 48/100 [05:08<03:48,  4.40s/it]/tmp/ipykernel_6084/3548152492.py:7: FutureWarning: suggest_loguniform has been deprecated in v3.0.0. This feature will be removed in v6.0.0. See https://github.com/optuna/optuna/releases/tag/v3.0.0. Use suggest_float(..., log=True) instead.\n",
      "  \"gb__learning_rate\": trial.suggest_loguniform(\"gb__learning_rate\", 1e-3, 0.3),\n",
      "/tmp/ipykernel_6084/3548152492.py:11: FutureWarning: suggest_uniform has been deprecated in v3.0.0. This feature will be removed in v6.0.0. See https://github.com/optuna/optuna/releases/tag/v3.0.0. Use suggest_float instead.\n",
      "  \"gb__l2_regularization\": trial.suggest_uniform(\"gb__l2_regularization\", 0.0, 2.0),\n"
     ]
    },
    {
     "name": "stdout",
     "output_type": "stream",
     "text": [
      "[I 2025-07-04 14:44:16,090] Trial 47 finished with value: 0.7112871377824097 and parameters: {'gb__learning_rate': 0.29501499669771, 'gb__max_leaf_nodes': 151, 'gb__max_depth': 2, 'gb__min_samples_leaf': 19, 'gb__l2_regularization': 1.9919603671685482}. Best is trial 46 with value: 0.7134936059491223.\n"
     ]
    },
    {
     "name": "stderr",
     "output_type": "stream",
     "text": [
      "Best trial: 46. Best value: 0.713494:  49%|████▉     | 49/100 [05:13<03:55,  4.62s/it]/tmp/ipykernel_6084/3548152492.py:7: FutureWarning: suggest_loguniform has been deprecated in v3.0.0. This feature will be removed in v6.0.0. See https://github.com/optuna/optuna/releases/tag/v3.0.0. Use suggest_float(..., log=True) instead.\n",
      "  \"gb__learning_rate\": trial.suggest_loguniform(\"gb__learning_rate\", 1e-3, 0.3),\n",
      "/tmp/ipykernel_6084/3548152492.py:11: FutureWarning: suggest_uniform has been deprecated in v3.0.0. This feature will be removed in v6.0.0. See https://github.com/optuna/optuna/releases/tag/v3.0.0. Use suggest_float instead.\n",
      "  \"gb__l2_regularization\": trial.suggest_uniform(\"gb__l2_regularization\", 0.0, 2.0),\n"
     ]
    },
    {
     "name": "stdout",
     "output_type": "stream",
     "text": [
      "[I 2025-07-04 14:44:21,207] Trial 48 finished with value: 0.711271196722613 and parameters: {'gb__learning_rate': 0.22334106477477186, 'gb__max_leaf_nodes': 171, 'gb__max_depth': 2, 'gb__min_samples_leaf': 52, 'gb__l2_regularization': 1.8868551590041918}. Best is trial 46 with value: 0.7134936059491223.\n"
     ]
    },
    {
     "name": "stderr",
     "output_type": "stream",
     "text": [
      "Best trial: 46. Best value: 0.713494:  50%|█████     | 50/100 [05:19<04:11,  5.03s/it]/tmp/ipykernel_6084/3548152492.py:7: FutureWarning: suggest_loguniform has been deprecated in v3.0.0. This feature will be removed in v6.0.0. See https://github.com/optuna/optuna/releases/tag/v3.0.0. Use suggest_float(..., log=True) instead.\n",
      "  \"gb__learning_rate\": trial.suggest_loguniform(\"gb__learning_rate\", 1e-3, 0.3),\n",
      "/tmp/ipykernel_6084/3548152492.py:11: FutureWarning: suggest_uniform has been deprecated in v3.0.0. This feature will be removed in v6.0.0. See https://github.com/optuna/optuna/releases/tag/v3.0.0. Use suggest_float instead.\n",
      "  \"gb__l2_regularization\": trial.suggest_uniform(\"gb__l2_regularization\", 0.0, 2.0),\n"
     ]
    },
    {
     "name": "stdout",
     "output_type": "stream",
     "text": [
      "[I 2025-07-04 14:44:27,196] Trial 49 finished with value: 0.6082152517408391 and parameters: {'gb__learning_rate': 0.0014735159202242764, 'gb__max_leaf_nodes': 173, 'gb__max_depth': 2, 'gb__min_samples_leaf': 148, 'gb__l2_regularization': 1.7141021967306185}. Best is trial 46 with value: 0.7134936059491223.\n"
     ]
    },
    {
     "name": "stderr",
     "output_type": "stream",
     "text": [
      "Best trial: 46. Best value: 0.713494:  51%|█████     | 51/100 [05:25<04:17,  5.25s/it]/tmp/ipykernel_6084/3548152492.py:7: FutureWarning: suggest_loguniform has been deprecated in v3.0.0. This feature will be removed in v6.0.0. See https://github.com/optuna/optuna/releases/tag/v3.0.0. Use suggest_float(..., log=True) instead.\n",
      "  \"gb__learning_rate\": trial.suggest_loguniform(\"gb__learning_rate\", 1e-3, 0.3),\n",
      "/tmp/ipykernel_6084/3548152492.py:11: FutureWarning: suggest_uniform has been deprecated in v3.0.0. This feature will be removed in v6.0.0. See https://github.com/optuna/optuna/releases/tag/v3.0.0. Use suggest_float instead.\n",
      "  \"gb__l2_regularization\": trial.suggest_uniform(\"gb__l2_regularization\", 0.0, 2.0),\n"
     ]
    },
    {
     "name": "stdout",
     "output_type": "stream",
     "text": [
      "[I 2025-07-04 14:44:32,956] Trial 50 finished with value: 0.7106270646142644 and parameters: {'gb__learning_rate': 0.09929918513609487, 'gb__max_leaf_nodes': 200, 'gb__max_depth': 2, 'gb__min_samples_leaf': 12, 'gb__l2_regularization': 1.5724511696561279}. Best is trial 46 with value: 0.7134936059491223.\n"
     ]
    },
    {
     "name": "stderr",
     "output_type": "stream",
     "text": [
      "Best trial: 46. Best value: 0.713494:  52%|█████▏    | 52/100 [05:30<04:09,  5.19s/it]/tmp/ipykernel_6084/3548152492.py:7: FutureWarning: suggest_loguniform has been deprecated in v3.0.0. This feature will be removed in v6.0.0. See https://github.com/optuna/optuna/releases/tag/v3.0.0. Use suggest_float(..., log=True) instead.\n",
      "  \"gb__learning_rate\": trial.suggest_loguniform(\"gb__learning_rate\", 1e-3, 0.3),\n",
      "/tmp/ipykernel_6084/3548152492.py:11: FutureWarning: suggest_uniform has been deprecated in v3.0.0. This feature will be removed in v6.0.0. See https://github.com/optuna/optuna/releases/tag/v3.0.0. Use suggest_float instead.\n",
      "  \"gb__l2_regularization\": trial.suggest_uniform(\"gb__l2_regularization\", 0.0, 2.0),\n"
     ]
    },
    {
     "name": "stdout",
     "output_type": "stream",
     "text": [
      "[I 2025-07-04 14:44:38,010] Trial 51 finished with value: 0.7116880416732925 and parameters: {'gb__learning_rate': 0.11786715166243715, 'gb__max_leaf_nodes': 148, 'gb__max_depth': 3, 'gb__min_samples_leaf': 23, 'gb__l2_regularization': 1.9324335158994739}. Best is trial 46 with value: 0.7134936059491223.\n"
     ]
    },
    {
     "name": "stderr",
     "output_type": "stream",
     "text": [
      "Best trial: 46. Best value: 0.713494:  53%|█████▎    | 53/100 [05:35<04:03,  5.18s/it]/tmp/ipykernel_6084/3548152492.py:7: FutureWarning: suggest_loguniform has been deprecated in v3.0.0. This feature will be removed in v6.0.0. See https://github.com/optuna/optuna/releases/tag/v3.0.0. Use suggest_float(..., log=True) instead.\n",
      "  \"gb__learning_rate\": trial.suggest_loguniform(\"gb__learning_rate\", 1e-3, 0.3),\n",
      "/tmp/ipykernel_6084/3548152492.py:11: FutureWarning: suggest_uniform has been deprecated in v3.0.0. This feature will be removed in v6.0.0. See https://github.com/optuna/optuna/releases/tag/v3.0.0. Use suggest_float instead.\n",
      "  \"gb__l2_regularization\": trial.suggest_uniform(\"gb__l2_regularization\", 0.0, 2.0),\n"
     ]
    },
    {
     "name": "stdout",
     "output_type": "stream",
     "text": [
      "[I 2025-07-04 14:44:43,157] Trial 52 finished with value: 0.7134486796026558 and parameters: {'gb__learning_rate': 0.17744938131797028, 'gb__max_leaf_nodes': 134, 'gb__max_depth': 2, 'gb__min_samples_leaf': 10, 'gb__l2_regularization': 1.8170473627728472}. Best is trial 46 with value: 0.7134936059491223.\n"
     ]
    },
    {
     "name": "stderr",
     "output_type": "stream",
     "text": [
      "Best trial: 46. Best value: 0.713494:  54%|█████▍    | 54/100 [05:40<03:55,  5.12s/it]/tmp/ipykernel_6084/3548152492.py:7: FutureWarning: suggest_loguniform has been deprecated in v3.0.0. This feature will be removed in v6.0.0. See https://github.com/optuna/optuna/releases/tag/v3.0.0. Use suggest_float(..., log=True) instead.\n",
      "  \"gb__learning_rate\": trial.suggest_loguniform(\"gb__learning_rate\", 1e-3, 0.3),\n",
      "/tmp/ipykernel_6084/3548152492.py:11: FutureWarning: suggest_uniform has been deprecated in v3.0.0. This feature will be removed in v6.0.0. See https://github.com/optuna/optuna/releases/tag/v3.0.0. Use suggest_float instead.\n",
      "  \"gb__l2_regularization\": trial.suggest_uniform(\"gb__l2_regularization\", 0.0, 2.0),\n"
     ]
    },
    {
     "name": "stdout",
     "output_type": "stream",
     "text": [
      "[I 2025-07-04 14:44:48,131] Trial 53 finished with value: 0.7121174386310548 and parameters: {'gb__learning_rate': 0.173545894793437, 'gb__max_leaf_nodes': 137, 'gb__max_depth': 2, 'gb__min_samples_leaf': 11, 'gb__l2_regularization': 1.8080878769992574}. Best is trial 46 with value: 0.7134936059491223.\n"
     ]
    },
    {
     "name": "stderr",
     "output_type": "stream",
     "text": [
      "Best trial: 46. Best value: 0.713494:  55%|█████▌    | 55/100 [05:44<03:36,  4.80s/it]/tmp/ipykernel_6084/3548152492.py:7: FutureWarning: suggest_loguniform has been deprecated in v3.0.0. This feature will be removed in v6.0.0. See https://github.com/optuna/optuna/releases/tag/v3.0.0. Use suggest_float(..., log=True) instead.\n",
      "  \"gb__learning_rate\": trial.suggest_loguniform(\"gb__learning_rate\", 1e-3, 0.3),\n",
      "/tmp/ipykernel_6084/3548152492.py:11: FutureWarning: suggest_uniform has been deprecated in v3.0.0. This feature will be removed in v6.0.0. See https://github.com/optuna/optuna/releases/tag/v3.0.0. Use suggest_float instead.\n",
      "  \"gb__l2_regularization\": trial.suggest_uniform(\"gb__l2_regularization\", 0.0, 2.0),\n"
     ]
    },
    {
     "name": "stdout",
     "output_type": "stream",
     "text": [
      "[I 2025-07-04 14:44:52,208] Trial 54 finished with value: 0.7120400443641031 and parameters: {'gb__learning_rate': 0.2536683846058098, 'gb__max_leaf_nodes': 133, 'gb__max_depth': 2, 'gb__min_samples_leaf': 10, 'gb__l2_regularization': 1.8438539550593598}. Best is trial 46 with value: 0.7134936059491223.\n"
     ]
    },
    {
     "name": "stderr",
     "output_type": "stream",
     "text": [
      "Best trial: 46. Best value: 0.713494:  56%|█████▌    | 56/100 [05:48<03:18,  4.50s/it]/tmp/ipykernel_6084/3548152492.py:7: FutureWarning: suggest_loguniform has been deprecated in v3.0.0. This feature will be removed in v6.0.0. See https://github.com/optuna/optuna/releases/tag/v3.0.0. Use suggest_float(..., log=True) instead.\n",
      "  \"gb__learning_rate\": trial.suggest_loguniform(\"gb__learning_rate\", 1e-3, 0.3),\n",
      "/tmp/ipykernel_6084/3548152492.py:11: FutureWarning: suggest_uniform has been deprecated in v3.0.0. This feature will be removed in v6.0.0. See https://github.com/optuna/optuna/releases/tag/v3.0.0. Use suggest_float instead.\n",
      "  \"gb__l2_regularization\": trial.suggest_uniform(\"gb__l2_regularization\", 0.0, 2.0),\n"
     ]
    },
    {
     "name": "stdout",
     "output_type": "stream",
     "text": [
      "[I 2025-07-04 14:44:55,999] Trial 55 finished with value: 0.7123103758579568 and parameters: {'gb__learning_rate': 0.24128405160403232, 'gb__max_leaf_nodes': 136, 'gb__max_depth': 2, 'gb__min_samples_leaf': 11, 'gb__l2_regularization': 1.831399188986575}. Best is trial 46 with value: 0.7134936059491223.\n"
     ]
    },
    {
     "name": "stderr",
     "output_type": "stream",
     "text": [
      "Best trial: 46. Best value: 0.713494:  57%|█████▋    | 57/100 [05:52<03:07,  4.36s/it]/tmp/ipykernel_6084/3548152492.py:7: FutureWarning: suggest_loguniform has been deprecated in v3.0.0. This feature will be removed in v6.0.0. See https://github.com/optuna/optuna/releases/tag/v3.0.0. Use suggest_float(..., log=True) instead.\n",
      "  \"gb__learning_rate\": trial.suggest_loguniform(\"gb__learning_rate\", 1e-3, 0.3),\n",
      "/tmp/ipykernel_6084/3548152492.py:11: FutureWarning: suggest_uniform has been deprecated in v3.0.0. This feature will be removed in v6.0.0. See https://github.com/optuna/optuna/releases/tag/v3.0.0. Use suggest_float instead.\n",
      "  \"gb__l2_regularization\": trial.suggest_uniform(\"gb__l2_regularization\", 0.0, 2.0),\n"
     ]
    },
    {
     "name": "stdout",
     "output_type": "stream",
     "text": [
      "[I 2025-07-04 14:45:00,020] Trial 56 finished with value: 0.7112893062560879 and parameters: {'gb__learning_rate': 0.25857580307701894, 'gb__max_leaf_nodes': 136, 'gb__max_depth': 2, 'gb__min_samples_leaf': 10, 'gb__l2_regularization': 1.8427502191588125}. Best is trial 46 with value: 0.7134936059491223.\n"
     ]
    },
    {
     "name": "stderr",
     "output_type": "stream",
     "text": [
      "Best trial: 46. Best value: 0.713494:  58%|█████▊    | 58/100 [05:56<02:56,  4.21s/it]/tmp/ipykernel_6084/3548152492.py:7: FutureWarning: suggest_loguniform has been deprecated in v3.0.0. This feature will be removed in v6.0.0. See https://github.com/optuna/optuna/releases/tag/v3.0.0. Use suggest_float(..., log=True) instead.\n",
      "  \"gb__learning_rate\": trial.suggest_loguniform(\"gb__learning_rate\", 1e-3, 0.3),\n",
      "/tmp/ipykernel_6084/3548152492.py:11: FutureWarning: suggest_uniform has been deprecated in v3.0.0. This feature will be removed in v6.0.0. See https://github.com/optuna/optuna/releases/tag/v3.0.0. Use suggest_float instead.\n",
      "  \"gb__l2_regularization\": trial.suggest_uniform(\"gb__l2_regularization\", 0.0, 2.0),\n"
     ]
    },
    {
     "name": "stdout",
     "output_type": "stream",
     "text": [
      "[I 2025-07-04 14:45:03,882] Trial 57 finished with value: 0.712812149481759 and parameters: {'gb__learning_rate': 0.2486629766434144, 'gb__max_leaf_nodes': 163, 'gb__max_depth': 2, 'gb__min_samples_leaf': 17, 'gb__l2_regularization': 1.6672172056051986}. Best is trial 46 with value: 0.7134936059491223.\n"
     ]
    },
    {
     "name": "stderr",
     "output_type": "stream",
     "text": [
      "Best trial: 46. Best value: 0.713494:  59%|█████▉    | 59/100 [06:00<02:54,  4.25s/it]/tmp/ipykernel_6084/3548152492.py:7: FutureWarning: suggest_loguniform has been deprecated in v3.0.0. This feature will be removed in v6.0.0. See https://github.com/optuna/optuna/releases/tag/v3.0.0. Use suggest_float(..., log=True) instead.\n",
      "  \"gb__learning_rate\": trial.suggest_loguniform(\"gb__learning_rate\", 1e-3, 0.3),\n",
      "/tmp/ipykernel_6084/3548152492.py:11: FutureWarning: suggest_uniform has been deprecated in v3.0.0. This feature will be removed in v6.0.0. See https://github.com/optuna/optuna/releases/tag/v3.0.0. Use suggest_float instead.\n",
      "  \"gb__l2_regularization\": trial.suggest_uniform(\"gb__l2_regularization\", 0.0, 2.0),\n"
     ]
    },
    {
     "name": "stdout",
     "output_type": "stream",
     "text": [
      "[I 2025-07-04 14:45:08,232] Trial 58 finished with value: 0.7129694706988727 and parameters: {'gb__learning_rate': 0.2434318443058138, 'gb__max_leaf_nodes': 164, 'gb__max_depth': 2, 'gb__min_samples_leaf': 18, 'gb__l2_regularization': 1.669907055215731}. Best is trial 46 with value: 0.7134936059491223.\n"
     ]
    },
    {
     "name": "stderr",
     "output_type": "stream",
     "text": [
      "Best trial: 46. Best value: 0.713494:  60%|██████    | 60/100 [06:03<02:37,  3.95s/it]/tmp/ipykernel_6084/3548152492.py:7: FutureWarning: suggest_loguniform has been deprecated in v3.0.0. This feature will be removed in v6.0.0. See https://github.com/optuna/optuna/releases/tag/v3.0.0. Use suggest_float(..., log=True) instead.\n",
      "  \"gb__learning_rate\": trial.suggest_loguniform(\"gb__learning_rate\", 1e-3, 0.3),\n",
      "/tmp/ipykernel_6084/3548152492.py:11: FutureWarning: suggest_uniform has been deprecated in v3.0.0. This feature will be removed in v6.0.0. See https://github.com/optuna/optuna/releases/tag/v3.0.0. Use suggest_float instead.\n",
      "  \"gb__l2_regularization\": trial.suggest_uniform(\"gb__l2_regularization\", 0.0, 2.0),\n"
     ]
    },
    {
     "name": "stdout",
     "output_type": "stream",
     "text": [
      "[I 2025-07-04 14:45:11,476] Trial 59 finished with value: 0.711284387711156 and parameters: {'gb__learning_rate': 0.29772305814752986, 'gb__max_leaf_nodes': 192, 'gb__max_depth': 2, 'gb__min_samples_leaf': 19, 'gb__l2_regularization': 1.6914027990572822}. Best is trial 46 with value: 0.7134936059491223.\n"
     ]
    },
    {
     "name": "stderr",
     "output_type": "stream",
     "text": [
      "Best trial: 46. Best value: 0.713494:  61%|██████    | 61/100 [06:27<06:22,  9.80s/it]/tmp/ipykernel_6084/3548152492.py:7: FutureWarning: suggest_loguniform has been deprecated in v3.0.0. This feature will be removed in v6.0.0. See https://github.com/optuna/optuna/releases/tag/v3.0.0. Use suggest_float(..., log=True) instead.\n",
      "  \"gb__learning_rate\": trial.suggest_loguniform(\"gb__learning_rate\", 1e-3, 0.3),\n",
      "/tmp/ipykernel_6084/3548152492.py:11: FutureWarning: suggest_uniform has been deprecated in v3.0.0. This feature will be removed in v6.0.0. See https://github.com/optuna/optuna/releases/tag/v3.0.0. Use suggest_float instead.\n",
      "  \"gb__l2_regularization\": trial.suggest_uniform(\"gb__l2_regularization\", 0.0, 2.0),\n"
     ]
    },
    {
     "name": "stdout",
     "output_type": "stream",
     "text": [
      "[I 2025-07-04 14:45:34,914] Trial 60 finished with value: 0.6858180457986061 and parameters: {'gb__learning_rate': 0.0036989570672457095, 'gb__max_leaf_nodes': 165, 'gb__max_depth': 10, 'gb__min_samples_leaf': 33, 'gb__l2_regularization': 1.9953320892150195}. Best is trial 46 with value: 0.7134936059491223.\n"
     ]
    },
    {
     "name": "stderr",
     "output_type": "stream",
     "text": [
      "Best trial: 46. Best value: 0.713494:  62%|██████▏   | 62/100 [06:32<05:18,  8.38s/it]/tmp/ipykernel_6084/3548152492.py:7: FutureWarning: suggest_loguniform has been deprecated in v3.0.0. This feature will be removed in v6.0.0. See https://github.com/optuna/optuna/releases/tag/v3.0.0. Use suggest_float(..., log=True) instead.\n",
      "  \"gb__learning_rate\": trial.suggest_loguniform(\"gb__learning_rate\", 1e-3, 0.3),\n",
      "/tmp/ipykernel_6084/3548152492.py:11: FutureWarning: suggest_uniform has been deprecated in v3.0.0. This feature will be removed in v6.0.0. See https://github.com/optuna/optuna/releases/tag/v3.0.0. Use suggest_float instead.\n",
      "  \"gb__l2_regularization\": trial.suggest_uniform(\"gb__l2_regularization\", 0.0, 2.0),\n"
     ]
    },
    {
     "name": "stdout",
     "output_type": "stream",
     "text": [
      "[I 2025-07-04 14:45:39,990] Trial 61 finished with value: 0.7119956035280033 and parameters: {'gb__learning_rate': 0.1725916618001423, 'gb__max_leaf_nodes': 155, 'gb__max_depth': 2, 'gb__min_samples_leaf': 20, 'gb__l2_regularization': 1.63628499892569}. Best is trial 46 with value: 0.7134936059491223.\n"
     ]
    },
    {
     "name": "stderr",
     "output_type": "stream",
     "text": [
      "Best trial: 46. Best value: 0.713494:  63%|██████▎   | 63/100 [06:36<04:19,  7.02s/it]/tmp/ipykernel_6084/3548152492.py:7: FutureWarning: suggest_loguniform has been deprecated in v3.0.0. This feature will be removed in v6.0.0. See https://github.com/optuna/optuna/releases/tag/v3.0.0. Use suggest_float(..., log=True) instead.\n",
      "  \"gb__learning_rate\": trial.suggest_loguniform(\"gb__learning_rate\", 1e-3, 0.3),\n",
      "/tmp/ipykernel_6084/3548152492.py:11: FutureWarning: suggest_uniform has been deprecated in v3.0.0. This feature will be removed in v6.0.0. See https://github.com/optuna/optuna/releases/tag/v3.0.0. Use suggest_float instead.\n",
      "  \"gb__l2_regularization\": trial.suggest_uniform(\"gb__l2_regularization\", 0.0, 2.0),\n"
     ]
    },
    {
     "name": "stdout",
     "output_type": "stream",
     "text": [
      "[I 2025-07-04 14:45:43,826] Trial 62 finished with value: 0.7104670063398706 and parameters: {'gb__learning_rate': 0.24298589116375094, 'gb__max_leaf_nodes': 143, 'gb__max_depth': 2, 'gb__min_samples_leaf': 28, 'gb__l2_regularization': 1.7817735767989862}. Best is trial 46 with value: 0.7134936059491223.\n"
     ]
    },
    {
     "name": "stderr",
     "output_type": "stream",
     "text": [
      "Best trial: 46. Best value: 0.713494:  64%|██████▍   | 64/100 [06:41<03:58,  6.62s/it]/tmp/ipykernel_6084/3548152492.py:7: FutureWarning: suggest_loguniform has been deprecated in v3.0.0. This feature will be removed in v6.0.0. See https://github.com/optuna/optuna/releases/tag/v3.0.0. Use suggest_float(..., log=True) instead.\n",
      "  \"gb__learning_rate\": trial.suggest_loguniform(\"gb__learning_rate\", 1e-3, 0.3),\n",
      "/tmp/ipykernel_6084/3548152492.py:11: FutureWarning: suggest_uniform has been deprecated in v3.0.0. This feature will be removed in v6.0.0. See https://github.com/optuna/optuna/releases/tag/v3.0.0. Use suggest_float instead.\n",
      "  \"gb__l2_regularization\": trial.suggest_uniform(\"gb__l2_regularization\", 0.0, 2.0),\n"
     ]
    },
    {
     "name": "stdout",
     "output_type": "stream",
     "text": [
      "[I 2025-07-04 14:45:49,508] Trial 63 finished with value: 0.7111592525906546 and parameters: {'gb__learning_rate': 0.1557288635736887, 'gb__max_leaf_nodes': 177, 'gb__max_depth': 2, 'gb__min_samples_leaf': 178, 'gb__l2_regularization': 1.4854983950730005}. Best is trial 46 with value: 0.7134936059491223.\n"
     ]
    },
    {
     "name": "stderr",
     "output_type": "stream",
     "text": [
      "Best trial: 46. Best value: 0.713494:  65%|██████▌   | 65/100 [06:45<03:19,  5.71s/it]/tmp/ipykernel_6084/3548152492.py:7: FutureWarning: suggest_loguniform has been deprecated in v3.0.0. This feature will be removed in v6.0.0. See https://github.com/optuna/optuna/releases/tag/v3.0.0. Use suggest_float(..., log=True) instead.\n",
      "  \"gb__learning_rate\": trial.suggest_loguniform(\"gb__learning_rate\", 1e-3, 0.3),\n",
      "/tmp/ipykernel_6084/3548152492.py:11: FutureWarning: suggest_uniform has been deprecated in v3.0.0. This feature will be removed in v6.0.0. See https://github.com/optuna/optuna/releases/tag/v3.0.0. Use suggest_float instead.\n",
      "  \"gb__l2_regularization\": trial.suggest_uniform(\"gb__l2_regularization\", 0.0, 2.0),\n"
     ]
    },
    {
     "name": "stdout",
     "output_type": "stream",
     "text": [
      "[I 2025-07-04 14:45:53,097] Trial 64 finished with value: 0.7120332312802817 and parameters: {'gb__learning_rate': 0.20823389093438296, 'gb__max_leaf_nodes': 233, 'gb__max_depth': 3, 'gb__min_samples_leaf': 17, 'gb__l2_regularization': 0.23622920080317922}. Best is trial 46 with value: 0.7134936059491223.\n"
     ]
    },
    {
     "name": "stderr",
     "output_type": "stream",
     "text": [
      "Best trial: 46. Best value: 0.713494:  66%|██████▌   | 66/100 [06:51<03:13,  5.69s/it]/tmp/ipykernel_6084/3548152492.py:7: FutureWarning: suggest_loguniform has been deprecated in v3.0.0. This feature will be removed in v6.0.0. See https://github.com/optuna/optuna/releases/tag/v3.0.0. Use suggest_float(..., log=True) instead.\n",
      "  \"gb__learning_rate\": trial.suggest_loguniform(\"gb__learning_rate\", 1e-3, 0.3),\n",
      "/tmp/ipykernel_6084/3548152492.py:11: FutureWarning: suggest_uniform has been deprecated in v3.0.0. This feature will be removed in v6.0.0. See https://github.com/optuna/optuna/releases/tag/v3.0.0. Use suggest_float instead.\n",
      "  \"gb__l2_regularization\": trial.suggest_uniform(\"gb__l2_regularization\", 0.0, 2.0),\n"
     ]
    },
    {
     "name": "stdout",
     "output_type": "stream",
     "text": [
      "[I 2025-07-04 14:45:58,754] Trial 65 finished with value: 0.7109108475770866 and parameters: {'gb__learning_rate': 0.10540657278311663, 'gb__max_leaf_nodes': 167, 'gb__max_depth': 2, 'gb__min_samples_leaf': 15, 'gb__l2_regularization': 1.9133121363806618}. Best is trial 46 with value: 0.7134936059491223.\n"
     ]
    },
    {
     "name": "stderr",
     "output_type": "stream",
     "text": [
      "Best trial: 46. Best value: 0.713494:  67%|██████▋   | 67/100 [06:54<02:42,  4.93s/it]/tmp/ipykernel_6084/3548152492.py:7: FutureWarning: suggest_loguniform has been deprecated in v3.0.0. This feature will be removed in v6.0.0. See https://github.com/optuna/optuna/releases/tag/v3.0.0. Use suggest_float(..., log=True) instead.\n",
      "  \"gb__learning_rate\": trial.suggest_loguniform(\"gb__learning_rate\", 1e-3, 0.3),\n",
      "/tmp/ipykernel_6084/3548152492.py:11: FutureWarning: suggest_uniform has been deprecated in v3.0.0. This feature will be removed in v6.0.0. See https://github.com/optuna/optuna/releases/tag/v3.0.0. Use suggest_float instead.\n",
      "  \"gb__l2_regularization\": trial.suggest_uniform(\"gb__l2_regularization\", 0.0, 2.0),\n"
     ]
    },
    {
     "name": "stdout",
     "output_type": "stream",
     "text": [
      "[I 2025-07-04 14:46:01,898] Trial 66 finished with value: 0.709689185272501 and parameters: {'gb__learning_rate': 0.17348769108218026, 'gb__max_leaf_nodes': 158, 'gb__max_depth': 9, 'gb__min_samples_leaf': 128, 'gb__l2_regularization': 1.7992294281259034}. Best is trial 46 with value: 0.7134936059491223.\n"
     ]
    },
    {
     "name": "stderr",
     "output_type": "stream",
     "text": [
      "Best trial: 46. Best value: 0.713494:  68%|██████▊   | 68/100 [06:57<02:22,  4.45s/it]/tmp/ipykernel_6084/3548152492.py:7: FutureWarning: suggest_loguniform has been deprecated in v3.0.0. This feature will be removed in v6.0.0. See https://github.com/optuna/optuna/releases/tag/v3.0.0. Use suggest_float(..., log=True) instead.\n",
      "  \"gb__learning_rate\": trial.suggest_loguniform(\"gb__learning_rate\", 1e-3, 0.3),\n",
      "/tmp/ipykernel_6084/3548152492.py:11: FutureWarning: suggest_uniform has been deprecated in v3.0.0. This feature will be removed in v6.0.0. See https://github.com/optuna/optuna/releases/tag/v3.0.0. Use suggest_float instead.\n",
      "  \"gb__l2_regularization\": trial.suggest_uniform(\"gb__l2_regularization\", 0.0, 2.0),\n"
     ]
    },
    {
     "name": "stdout",
     "output_type": "stream",
     "text": [
      "[I 2025-07-04 14:46:05,217] Trial 67 finished with value: 0.7126173552817597 and parameters: {'gb__learning_rate': 0.245304565333551, 'gb__max_leaf_nodes': 183, 'gb__max_depth': 3, 'gb__min_samples_leaf': 31, 'gb__l2_regularization': 1.6609832650178238}. Best is trial 46 with value: 0.7134936059491223.\n"
     ]
    },
    {
     "name": "stderr",
     "output_type": "stream",
     "text": [
      "Best trial: 46. Best value: 0.713494:  69%|██████▉   | 69/100 [06:59<01:56,  3.75s/it]/tmp/ipykernel_6084/3548152492.py:7: FutureWarning: suggest_loguniform has been deprecated in v3.0.0. This feature will be removed in v6.0.0. See https://github.com/optuna/optuna/releases/tag/v3.0.0. Use suggest_float(..., log=True) instead.\n",
      "  \"gb__learning_rate\": trial.suggest_loguniform(\"gb__learning_rate\", 1e-3, 0.3),\n",
      "/tmp/ipykernel_6084/3548152492.py:11: FutureWarning: suggest_uniform has been deprecated in v3.0.0. This feature will be removed in v6.0.0. See https://github.com/optuna/optuna/releases/tag/v3.0.0. Use suggest_float instead.\n",
      "  \"gb__l2_regularization\": trial.suggest_uniform(\"gb__l2_regularization\", 0.0, 2.0),\n"
     ]
    },
    {
     "name": "stdout",
     "output_type": "stream",
     "text": [
      "[I 2025-07-04 14:46:07,337] Trial 68 finished with value: 0.7105324157830374 and parameters: {'gb__learning_rate': 0.24288405827799586, 'gb__max_leaf_nodes': 182, 'gb__max_depth': 6, 'gb__min_samples_leaf': 35, 'gb__l2_regularization': 1.6028140657191614}. Best is trial 46 with value: 0.7134936059491223.\n"
     ]
    },
    {
     "name": "stderr",
     "output_type": "stream",
     "text": [
      "Best trial: 46. Best value: 0.713494:  70%|███████   | 70/100 [07:06<02:21,  4.71s/it]/tmp/ipykernel_6084/3548152492.py:7: FutureWarning: suggest_loguniform has been deprecated in v3.0.0. This feature will be removed in v6.0.0. See https://github.com/optuna/optuna/releases/tag/v3.0.0. Use suggest_float(..., log=True) instead.\n",
      "  \"gb__learning_rate\": trial.suggest_loguniform(\"gb__learning_rate\", 1e-3, 0.3),\n",
      "/tmp/ipykernel_6084/3548152492.py:11: FutureWarning: suggest_uniform has been deprecated in v3.0.0. This feature will be removed in v6.0.0. See https://github.com/optuna/optuna/releases/tag/v3.0.0. Use suggest_float instead.\n",
      "  \"gb__l2_regularization\": trial.suggest_uniform(\"gb__l2_regularization\", 0.0, 2.0),\n"
     ]
    },
    {
     "name": "stdout",
     "output_type": "stream",
     "text": [
      "[I 2025-07-04 14:46:14,299] Trial 69 finished with value: 0.6843802342168305 and parameters: {'gb__learning_rate': 0.013762787174716533, 'gb__max_leaf_nodes': 190, 'gb__max_depth': 3, 'gb__min_samples_leaf': 26, 'gb__l2_regularization': 1.671537395415858}. Best is trial 46 with value: 0.7134936059491223.\n"
     ]
    },
    {
     "name": "stderr",
     "output_type": "stream",
     "text": [
      "Best trial: 46. Best value: 0.713494:  71%|███████   | 71/100 [07:11<02:15,  4.66s/it]/tmp/ipykernel_6084/3548152492.py:7: FutureWarning: suggest_loguniform has been deprecated in v3.0.0. This feature will be removed in v6.0.0. See https://github.com/optuna/optuna/releases/tag/v3.0.0. Use suggest_float(..., log=True) instead.\n",
      "  \"gb__learning_rate\": trial.suggest_loguniform(\"gb__learning_rate\", 1e-3, 0.3),\n",
      "/tmp/ipykernel_6084/3548152492.py:11: FutureWarning: suggest_uniform has been deprecated in v3.0.0. This feature will be removed in v6.0.0. See https://github.com/optuna/optuna/releases/tag/v3.0.0. Use suggest_float instead.\n",
      "  \"gb__l2_regularization\": trial.suggest_uniform(\"gb__l2_regularization\", 0.0, 2.0),\n"
     ]
    },
    {
     "name": "stdout",
     "output_type": "stream",
     "text": [
      "[I 2025-07-04 14:46:18,829] Trial 70 finished with value: 0.711441728903732 and parameters: {'gb__learning_rate': 0.14375403572466966, 'gb__max_leaf_nodes': 154, 'gb__max_depth': 3, 'gb__min_samples_leaf': 30, 'gb__l2_regularization': 1.5231039194335458}. Best is trial 46 with value: 0.7134936059491223.\n"
     ]
    },
    {
     "name": "stderr",
     "output_type": "stream",
     "text": [
      "Best trial: 46. Best value: 0.713494:  72%|███████▏  | 72/100 [07:16<02:11,  4.71s/it]/tmp/ipykernel_6084/3548152492.py:7: FutureWarning: suggest_loguniform has been deprecated in v3.0.0. This feature will be removed in v6.0.0. See https://github.com/optuna/optuna/releases/tag/v3.0.0. Use suggest_float(..., log=True) instead.\n",
      "  \"gb__learning_rate\": trial.suggest_loguniform(\"gb__learning_rate\", 1e-3, 0.3),\n",
      "/tmp/ipykernel_6084/3548152492.py:11: FutureWarning: suggest_uniform has been deprecated in v3.0.0. This feature will be removed in v6.0.0. See https://github.com/optuna/optuna/releases/tag/v3.0.0. Use suggest_float instead.\n",
      "  \"gb__l2_regularization\": trial.suggest_uniform(\"gb__l2_regularization\", 0.0, 2.0),\n"
     ]
    },
    {
     "name": "stdout",
     "output_type": "stream",
     "text": [
      "[I 2025-07-04 14:46:23,667] Trial 71 finished with value: 0.7131500160619983 and parameters: {'gb__learning_rate': 0.19893387655775308, 'gb__max_leaf_nodes': 147, 'gb__max_depth': 2, 'gb__min_samples_leaf': 17, 'gb__l2_regularization': 1.7276962676771142}. Best is trial 46 with value: 0.7134936059491223.\n"
     ]
    },
    {
     "name": "stderr",
     "output_type": "stream",
     "text": [
      "Best trial: 46. Best value: 0.713494:  73%|███████▎  | 73/100 [07:20<02:08,  4.76s/it]/tmp/ipykernel_6084/3548152492.py:7: FutureWarning: suggest_loguniform has been deprecated in v3.0.0. This feature will be removed in v6.0.0. See https://github.com/optuna/optuna/releases/tag/v3.0.0. Use suggest_float(..., log=True) instead.\n",
      "  \"gb__learning_rate\": trial.suggest_loguniform(\"gb__learning_rate\", 1e-3, 0.3),\n",
      "/tmp/ipykernel_6084/3548152492.py:11: FutureWarning: suggest_uniform has been deprecated in v3.0.0. This feature will be removed in v6.0.0. See https://github.com/optuna/optuna/releases/tag/v3.0.0. Use suggest_float instead.\n",
      "  \"gb__l2_regularization\": trial.suggest_uniform(\"gb__l2_regularization\", 0.0, 2.0),\n"
     ]
    },
    {
     "name": "stdout",
     "output_type": "stream",
     "text": [
      "[I 2025-07-04 14:46:28,541] Trial 72 finished with value: 0.7125336117615222 and parameters: {'gb__learning_rate': 0.21274923714979624, 'gb__max_leaf_nodes': 143, 'gb__max_depth': 2, 'gb__min_samples_leaf': 17, 'gb__l2_regularization': 1.7380269138773976}. Best is trial 46 with value: 0.7134936059491223.\n"
     ]
    },
    {
     "name": "stderr",
     "output_type": "stream",
     "text": [
      "Best trial: 46. Best value: 0.713494:  74%|███████▍  | 74/100 [07:25<02:01,  4.68s/it]/tmp/ipykernel_6084/3548152492.py:7: FutureWarning: suggest_loguniform has been deprecated in v3.0.0. This feature will be removed in v6.0.0. See https://github.com/optuna/optuna/releases/tag/v3.0.0. Use suggest_float(..., log=True) instead.\n",
      "  \"gb__learning_rate\": trial.suggest_loguniform(\"gb__learning_rate\", 1e-3, 0.3),\n",
      "/tmp/ipykernel_6084/3548152492.py:11: FutureWarning: suggest_uniform has been deprecated in v3.0.0. This feature will be removed in v6.0.0. See https://github.com/optuna/optuna/releases/tag/v3.0.0. Use suggest_float instead.\n",
      "  \"gb__l2_regularization\": trial.suggest_uniform(\"gb__l2_regularization\", 0.0, 2.0),\n"
     ]
    },
    {
     "name": "stdout",
     "output_type": "stream",
     "text": [
      "[I 2025-07-04 14:46:33,030] Trial 73 finished with value: 0.7131361815459633 and parameters: {'gb__learning_rate': 0.2603989376601966, 'gb__max_leaf_nodes': 144, 'gb__max_depth': 2, 'gb__min_samples_leaf': 17, 'gb__l2_regularization': 1.7351005707244742}. Best is trial 46 with value: 0.7134936059491223.\n"
     ]
    },
    {
     "name": "stderr",
     "output_type": "stream",
     "text": [
      "Best trial: 46. Best value: 0.713494:  75%|███████▌  | 75/100 [07:29<01:51,  4.44s/it]/tmp/ipykernel_6084/3548152492.py:7: FutureWarning: suggest_loguniform has been deprecated in v3.0.0. This feature will be removed in v6.0.0. See https://github.com/optuna/optuna/releases/tag/v3.0.0. Use suggest_float(..., log=True) instead.\n",
      "  \"gb__learning_rate\": trial.suggest_loguniform(\"gb__learning_rate\", 1e-3, 0.3),\n",
      "/tmp/ipykernel_6084/3548152492.py:11: FutureWarning: suggest_uniform has been deprecated in v3.0.0. This feature will be removed in v6.0.0. See https://github.com/optuna/optuna/releases/tag/v3.0.0. Use suggest_float instead.\n",
      "  \"gb__l2_regularization\": trial.suggest_uniform(\"gb__l2_regularization\", 0.0, 2.0),\n"
     ]
    },
    {
     "name": "stdout",
     "output_type": "stream",
     "text": [
      "[I 2025-07-04 14:46:36,921] Trial 74 finished with value: 0.7115632203744099 and parameters: {'gb__learning_rate': 0.20562706280094836, 'gb__max_leaf_nodes': 199, 'gb__max_depth': 3, 'gb__min_samples_leaf': 17, 'gb__l2_regularization': 1.7263613786332792}. Best is trial 46 with value: 0.7134936059491223.\n"
     ]
    },
    {
     "name": "stderr",
     "output_type": "stream",
     "text": [
      "Best trial: 46. Best value: 0.713494:  76%|███████▌  | 76/100 [07:33<01:41,  4.23s/it]/tmp/ipykernel_6084/3548152492.py:7: FutureWarning: suggest_loguniform has been deprecated in v3.0.0. This feature will be removed in v6.0.0. See https://github.com/optuna/optuna/releases/tag/v3.0.0. Use suggest_float(..., log=True) instead.\n",
      "  \"gb__learning_rate\": trial.suggest_loguniform(\"gb__learning_rate\", 1e-3, 0.3),\n",
      "/tmp/ipykernel_6084/3548152492.py:11: FutureWarning: suggest_uniform has been deprecated in v3.0.0. This feature will be removed in v6.0.0. See https://github.com/optuna/optuna/releases/tag/v3.0.0. Use suggest_float instead.\n",
      "  \"gb__l2_regularization\": trial.suggest_uniform(\"gb__l2_regularization\", 0.0, 2.0),\n"
     ]
    },
    {
     "name": "stdout",
     "output_type": "stream",
     "text": [
      "[I 2025-07-04 14:46:40,665] Trial 75 finished with value: 0.7099861828780619 and parameters: {'gb__learning_rate': 0.26949102465628527, 'gb__max_leaf_nodes': 144, 'gb__max_depth': 2, 'gb__min_samples_leaf': 33, 'gb__l2_regularization': 1.6062899677808269}. Best is trial 46 with value: 0.7134936059491223.\n"
     ]
    },
    {
     "name": "stderr",
     "output_type": "stream",
     "text": [
      "Best trial: 46. Best value: 0.713494:  77%|███████▋  | 77/100 [07:36<01:30,  3.93s/it]/tmp/ipykernel_6084/3548152492.py:7: FutureWarning: suggest_loguniform has been deprecated in v3.0.0. This feature will be removed in v6.0.0. See https://github.com/optuna/optuna/releases/tag/v3.0.0. Use suggest_float(..., log=True) instead.\n",
      "  \"gb__learning_rate\": trial.suggest_loguniform(\"gb__learning_rate\", 1e-3, 0.3),\n",
      "/tmp/ipykernel_6084/3548152492.py:11: FutureWarning: suggest_uniform has been deprecated in v3.0.0. This feature will be removed in v6.0.0. See https://github.com/optuna/optuna/releases/tag/v3.0.0. Use suggest_float instead.\n",
      "  \"gb__l2_regularization\": trial.suggest_uniform(\"gb__l2_regularization\", 0.0, 2.0),\n"
     ]
    },
    {
     "name": "stdout",
     "output_type": "stream",
     "text": [
      "[I 2025-07-04 14:46:43,906] Trial 76 finished with value: 0.7124414738226893 and parameters: {'gb__learning_rate': 0.12374614702756727, 'gb__max_leaf_nodes': 173, 'gb__max_depth': 7, 'gb__min_samples_leaf': 25, 'gb__l2_regularization': 1.4415616322288092}. Best is trial 46 with value: 0.7134936059491223.\n"
     ]
    },
    {
     "name": "stderr",
     "output_type": "stream",
     "text": [
      "Best trial: 46. Best value: 0.713494:  78%|███████▊  | 78/100 [07:39<01:24,  3.84s/it]/tmp/ipykernel_6084/3548152492.py:7: FutureWarning: suggest_loguniform has been deprecated in v3.0.0. This feature will be removed in v6.0.0. See https://github.com/optuna/optuna/releases/tag/v3.0.0. Use suggest_float(..., log=True) instead.\n",
      "  \"gb__learning_rate\": trial.suggest_loguniform(\"gb__learning_rate\", 1e-3, 0.3),\n",
      "/tmp/ipykernel_6084/3548152492.py:11: FutureWarning: suggest_uniform has been deprecated in v3.0.0. This feature will be removed in v6.0.0. See https://github.com/optuna/optuna/releases/tag/v3.0.0. Use suggest_float instead.\n",
      "  \"gb__l2_regularization\": trial.suggest_uniform(\"gb__l2_regularization\", 0.0, 2.0),\n"
     ]
    },
    {
     "name": "stdout",
     "output_type": "stream",
     "text": [
      "[I 2025-07-04 14:46:47,519] Trial 77 finished with value: 0.7109718981308288 and parameters: {'gb__learning_rate': 0.29662379091790525, 'gb__max_leaf_nodes': 163, 'gb__max_depth': 2, 'gb__min_samples_leaf': 17, 'gb__l2_regularization': 1.563520295636195}. Best is trial 46 with value: 0.7134936059491223.\n"
     ]
    },
    {
     "name": "stderr",
     "output_type": "stream",
     "text": [
      "Best trial: 46. Best value: 0.713494:  79%|███████▉  | 79/100 [07:43<01:19,  3.80s/it]/tmp/ipykernel_6084/3548152492.py:7: FutureWarning: suggest_loguniform has been deprecated in v3.0.0. This feature will be removed in v6.0.0. See https://github.com/optuna/optuna/releases/tag/v3.0.0. Use suggest_float(..., log=True) instead.\n",
      "  \"gb__learning_rate\": trial.suggest_loguniform(\"gb__learning_rate\", 1e-3, 0.3),\n",
      "/tmp/ipykernel_6084/3548152492.py:11: FutureWarning: suggest_uniform has been deprecated in v3.0.0. This feature will be removed in v6.0.0. See https://github.com/optuna/optuna/releases/tag/v3.0.0. Use suggest_float instead.\n",
      "  \"gb__l2_regularization\": trial.suggest_uniform(\"gb__l2_regularization\", 0.0, 2.0),\n"
     ]
    },
    {
     "name": "stdout",
     "output_type": "stream",
     "text": [
      "[I 2025-07-04 14:46:51,238] Trial 78 finished with value: 0.7118351376517208 and parameters: {'gb__learning_rate': 0.20544155021563437, 'gb__max_leaf_nodes': 129, 'gb__max_depth': 3, 'gb__min_samples_leaf': 40, 'gb__l2_regularization': 1.6591255687734145}. Best is trial 46 with value: 0.7134936059491223.\n"
     ]
    },
    {
     "name": "stderr",
     "output_type": "stream",
     "text": [
      "Best trial: 46. Best value: 0.713494:  80%|████████  | 80/100 [07:49<01:26,  4.34s/it]/tmp/ipykernel_6084/3548152492.py:7: FutureWarning: suggest_loguniform has been deprecated in v3.0.0. This feature will be removed in v6.0.0. See https://github.com/optuna/optuna/releases/tag/v3.0.0. Use suggest_float(..., log=True) instead.\n",
      "  \"gb__learning_rate\": trial.suggest_loguniform(\"gb__learning_rate\", 1e-3, 0.3),\n",
      "/tmp/ipykernel_6084/3548152492.py:11: FutureWarning: suggest_uniform has been deprecated in v3.0.0. This feature will be removed in v6.0.0. See https://github.com/optuna/optuna/releases/tag/v3.0.0. Use suggest_float instead.\n",
      "  \"gb__l2_regularization\": trial.suggest_uniform(\"gb__l2_regularization\", 0.0, 2.0),\n"
     ]
    },
    {
     "name": "stdout",
     "output_type": "stream",
     "text": [
      "[I 2025-07-04 14:46:56,841] Trial 79 finished with value: 0.7123660668991516 and parameters: {'gb__learning_rate': 0.14324391952567006, 'gb__max_leaf_nodes': 148, 'gb__max_depth': 2, 'gb__min_samples_leaf': 28, 'gb__l2_regularization': 1.8837967254493717}. Best is trial 46 with value: 0.7134936059491223.\n"
     ]
    },
    {
     "name": "stderr",
     "output_type": "stream",
     "text": [
      "Best trial: 46. Best value: 0.713494:  81%|████████  | 81/100 [07:53<01:23,  4.41s/it]/tmp/ipykernel_6084/3548152492.py:7: FutureWarning: suggest_loguniform has been deprecated in v3.0.0. This feature will be removed in v6.0.0. See https://github.com/optuna/optuna/releases/tag/v3.0.0. Use suggest_float(..., log=True) instead.\n",
      "  \"gb__learning_rate\": trial.suggest_loguniform(\"gb__learning_rate\", 1e-3, 0.3),\n",
      "/tmp/ipykernel_6084/3548152492.py:11: FutureWarning: suggest_uniform has been deprecated in v3.0.0. This feature will be removed in v6.0.0. See https://github.com/optuna/optuna/releases/tag/v3.0.0. Use suggest_float instead.\n",
      "  \"gb__l2_regularization\": trial.suggest_uniform(\"gb__l2_regularization\", 0.0, 2.0),\n"
     ]
    },
    {
     "name": "stdout",
     "output_type": "stream",
     "text": [
      "[I 2025-07-04 14:47:01,417] Trial 80 finished with value: 0.7115338154990628 and parameters: {'gb__learning_rate': 0.07948324254536979, 'gb__max_leaf_nodes': 120, 'gb__max_depth': 8, 'gb__min_samples_leaf': 43, 'gb__l2_regularization': 1.7593185764035708}. Best is trial 46 with value: 0.7134936059491223.\n"
     ]
    },
    {
     "name": "stderr",
     "output_type": "stream",
     "text": [
      "Best trial: 46. Best value: 0.713494:  82%|████████▏ | 82/100 [07:57<01:15,  4.22s/it]/tmp/ipykernel_6084/3548152492.py:7: FutureWarning: suggest_loguniform has been deprecated in v3.0.0. This feature will be removed in v6.0.0. See https://github.com/optuna/optuna/releases/tag/v3.0.0. Use suggest_float(..., log=True) instead.\n",
      "  \"gb__learning_rate\": trial.suggest_loguniform(\"gb__learning_rate\", 1e-3, 0.3),\n",
      "/tmp/ipykernel_6084/3548152492.py:11: FutureWarning: suggest_uniform has been deprecated in v3.0.0. This feature will be removed in v6.0.0. See https://github.com/optuna/optuna/releases/tag/v3.0.0. Use suggest_float instead.\n",
      "  \"gb__l2_regularization\": trial.suggest_uniform(\"gb__l2_regularization\", 0.0, 2.0),\n"
     ]
    },
    {
     "name": "stdout",
     "output_type": "stream",
     "text": [
      "[I 2025-07-04 14:47:05,172] Trial 81 finished with value: 0.7106198436625255 and parameters: {'gb__learning_rate': 0.11758595274675092, 'gb__max_leaf_nodes': 172, 'gb__max_depth': 7, 'gb__min_samples_leaf': 25, 'gb__l2_regularization': 1.366728253567814}. Best is trial 46 with value: 0.7134936059491223.\n"
     ]
    },
    {
     "name": "stderr",
     "output_type": "stream",
     "text": [
      "Best trial: 46. Best value: 0.713494:  83%|████████▎ | 83/100 [08:00<01:02,  3.68s/it]/tmp/ipykernel_6084/3548152492.py:7: FutureWarning: suggest_loguniform has been deprecated in v3.0.0. This feature will be removed in v6.0.0. See https://github.com/optuna/optuna/releases/tag/v3.0.0. Use suggest_float(..., log=True) instead.\n",
      "  \"gb__learning_rate\": trial.suggest_loguniform(\"gb__learning_rate\", 1e-3, 0.3),\n",
      "/tmp/ipykernel_6084/3548152492.py:11: FutureWarning: suggest_uniform has been deprecated in v3.0.0. This feature will be removed in v6.0.0. See https://github.com/optuna/optuna/releases/tag/v3.0.0. Use suggest_float instead.\n",
      "  \"gb__l2_regularization\": trial.suggest_uniform(\"gb__l2_regularization\", 0.0, 2.0),\n"
     ]
    },
    {
     "name": "stdout",
     "output_type": "stream",
     "text": [
      "[I 2025-07-04 14:47:07,595] Trial 82 finished with value: 0.7097808143693202 and parameters: {'gb__learning_rate': 0.1957337630278304, 'gb__max_leaf_nodes': 168, 'gb__max_depth': 7, 'gb__min_samples_leaf': 22, 'gb__l2_regularization': 1.4635715362800554}. Best is trial 46 with value: 0.7134936059491223.\n"
     ]
    },
    {
     "name": "stderr",
     "output_type": "stream",
     "text": [
      "Best trial: 46. Best value: 0.713494:  84%|████████▍ | 84/100 [08:02<00:51,  3.21s/it]/tmp/ipykernel_6084/3548152492.py:7: FutureWarning: suggest_loguniform has been deprecated in v3.0.0. This feature will be removed in v6.0.0. See https://github.com/optuna/optuna/releases/tag/v3.0.0. Use suggest_float(..., log=True) instead.\n",
      "  \"gb__learning_rate\": trial.suggest_loguniform(\"gb__learning_rate\", 1e-3, 0.3),\n",
      "/tmp/ipykernel_6084/3548152492.py:11: FutureWarning: suggest_uniform has been deprecated in v3.0.0. This feature will be removed in v6.0.0. See https://github.com/optuna/optuna/releases/tag/v3.0.0. Use suggest_float instead.\n",
      "  \"gb__l2_regularization\": trial.suggest_uniform(\"gb__l2_regularization\", 0.0, 2.0),\n"
     ]
    },
    {
     "name": "stdout",
     "output_type": "stream",
     "text": [
      "[I 2025-07-04 14:47:09,721] Trial 83 finished with value: 0.7100445458130744 and parameters: {'gb__learning_rate': 0.2601435734101245, 'gb__max_leaf_nodes': 179, 'gb__max_depth': 8, 'gb__min_samples_leaf': 35, 'gb__l2_regularization': 1.7022387341824143}. Best is trial 46 with value: 0.7134936059491223.\n"
     ]
    },
    {
     "name": "stderr",
     "output_type": "stream",
     "text": [
      "Best trial: 46. Best value: 0.713494:  85%|████████▌ | 85/100 [08:05<00:47,  3.15s/it]/tmp/ipykernel_6084/3548152492.py:7: FutureWarning: suggest_loguniform has been deprecated in v3.0.0. This feature will be removed in v6.0.0. See https://github.com/optuna/optuna/releases/tag/v3.0.0. Use suggest_float(..., log=True) instead.\n",
      "  \"gb__learning_rate\": trial.suggest_loguniform(\"gb__learning_rate\", 1e-3, 0.3),\n",
      "/tmp/ipykernel_6084/3548152492.py:11: FutureWarning: suggest_uniform has been deprecated in v3.0.0. This feature will be removed in v6.0.0. See https://github.com/optuna/optuna/releases/tag/v3.0.0. Use suggest_float instead.\n",
      "  \"gb__l2_regularization\": trial.suggest_uniform(\"gb__l2_regularization\", 0.0, 2.0),\n"
     ]
    },
    {
     "name": "stdout",
     "output_type": "stream",
     "text": [
      "[I 2025-07-04 14:47:12,729] Trial 84 finished with value: 0.7110305173901216 and parameters: {'gb__learning_rate': 0.15211638781899484, 'gb__max_leaf_nodes': 187, 'gb__max_depth': 5, 'gb__min_samples_leaf': 17, 'gb__l2_regularization': 1.6451657854867228}. Best is trial 46 with value: 0.7134936059491223.\n"
     ]
    },
    {
     "name": "stderr",
     "output_type": "stream",
     "text": [
      "Best trial: 46. Best value: 0.713494:  86%|████████▌ | 86/100 [08:07<00:40,  2.92s/it]/tmp/ipykernel_6084/3548152492.py:7: FutureWarning: suggest_loguniform has been deprecated in v3.0.0. This feature will be removed in v6.0.0. See https://github.com/optuna/optuna/releases/tag/v3.0.0. Use suggest_float(..., log=True) instead.\n",
      "  \"gb__learning_rate\": trial.suggest_loguniform(\"gb__learning_rate\", 1e-3, 0.3),\n",
      "/tmp/ipykernel_6084/3548152492.py:11: FutureWarning: suggest_uniform has been deprecated in v3.0.0. This feature will be removed in v6.0.0. See https://github.com/optuna/optuna/releases/tag/v3.0.0. Use suggest_float instead.\n",
      "  \"gb__l2_regularization\": trial.suggest_uniform(\"gb__l2_regularization\", 0.0, 2.0),\n"
     ]
    },
    {
     "name": "stdout",
     "output_type": "stream",
     "text": [
      "[I 2025-07-04 14:47:15,093] Trial 85 finished with value: 0.7112434697679426 and parameters: {'gb__learning_rate': 0.2213078953598069, 'gb__max_leaf_nodes': 144, 'gb__max_depth': 6, 'gb__min_samples_leaf': 15, 'gb__l2_regularization': 1.7566614701203174}. Best is trial 46 with value: 0.7134936059491223.\n"
     ]
    },
    {
     "name": "stderr",
     "output_type": "stream",
     "text": [
      "Best trial: 46. Best value: 0.713494:  87%|████████▋ | 87/100 [08:13<00:48,  3.71s/it]/tmp/ipykernel_6084/3548152492.py:7: FutureWarning: suggest_loguniform has been deprecated in v3.0.0. This feature will be removed in v6.0.0. See https://github.com/optuna/optuna/releases/tag/v3.0.0. Use suggest_float(..., log=True) instead.\n",
      "  \"gb__learning_rate\": trial.suggest_loguniform(\"gb__learning_rate\", 1e-3, 0.3),\n",
      "/tmp/ipykernel_6084/3548152492.py:11: FutureWarning: suggest_uniform has been deprecated in v3.0.0. This feature will be removed in v6.0.0. See https://github.com/optuna/optuna/releases/tag/v3.0.0. Use suggest_float instead.\n",
      "  \"gb__l2_regularization\": trial.suggest_uniform(\"gb__l2_regularization\", 0.0, 2.0),\n"
     ]
    },
    {
     "name": "stdout",
     "output_type": "stream",
     "text": [
      "[I 2025-07-04 14:47:20,662] Trial 86 finished with value: 0.7117236273382106 and parameters: {'gb__learning_rate': 0.1280331367174123, 'gb__max_leaf_nodes': 159, 'gb__max_depth': 2, 'gb__min_samples_leaf': 22, 'gb__l2_regularization': 1.5771003587161625}. Best is trial 46 with value: 0.7134936059491223.\n"
     ]
    },
    {
     "name": "stderr",
     "output_type": "stream",
     "text": [
      "Best trial: 46. Best value: 0.713494:  88%|████████▊ | 88/100 [08:15<00:40,  3.35s/it]/tmp/ipykernel_6084/3548152492.py:7: FutureWarning: suggest_loguniform has been deprecated in v3.0.0. This feature will be removed in v6.0.0. See https://github.com/optuna/optuna/releases/tag/v3.0.0. Use suggest_float(..., log=True) instead.\n",
      "  \"gb__learning_rate\": trial.suggest_loguniform(\"gb__learning_rate\", 1e-3, 0.3),\n",
      "/tmp/ipykernel_6084/3548152492.py:11: FutureWarning: suggest_uniform has been deprecated in v3.0.0. This feature will be removed in v6.0.0. See https://github.com/optuna/optuna/releases/tag/v3.0.0. Use suggest_float instead.\n",
      "  \"gb__l2_regularization\": trial.suggest_uniform(\"gb__l2_regularization\", 0.0, 2.0),\n"
     ]
    },
    {
     "name": "stdout",
     "output_type": "stream",
     "text": [
      "[I 2025-07-04 14:47:23,186] Trial 87 finished with value: 0.7106536432192438 and parameters: {'gb__learning_rate': 0.18638692363676315, 'gb__max_leaf_nodes': 198, 'gb__max_depth': 6, 'gb__min_samples_leaf': 30, 'gb__l2_regularization': 1.4624182592167854}. Best is trial 46 with value: 0.7134936059491223.\n"
     ]
    },
    {
     "name": "stderr",
     "output_type": "stream",
     "text": [
      "Best trial: 46. Best value: 0.713494:  89%|████████▉ | 89/100 [08:21<00:44,  4.05s/it]/tmp/ipykernel_6084/3548152492.py:7: FutureWarning: suggest_loguniform has been deprecated in v3.0.0. This feature will be removed in v6.0.0. See https://github.com/optuna/optuna/releases/tag/v3.0.0. Use suggest_float(..., log=True) instead.\n",
      "  \"gb__learning_rate\": trial.suggest_loguniform(\"gb__learning_rate\", 1e-3, 0.3),\n",
      "/tmp/ipykernel_6084/3548152492.py:11: FutureWarning: suggest_uniform has been deprecated in v3.0.0. This feature will be removed in v6.0.0. See https://github.com/optuna/optuna/releases/tag/v3.0.0. Use suggest_float instead.\n",
      "  \"gb__l2_regularization\": trial.suggest_uniform(\"gb__l2_regularization\", 0.0, 2.0),\n"
     ]
    },
    {
     "name": "stdout",
     "output_type": "stream",
     "text": [
      "[I 2025-07-04 14:47:28,866] Trial 88 finished with value: 0.7089730912005722 and parameters: {'gb__learning_rate': 0.09567343436416997, 'gb__max_leaf_nodes': 213, 'gb__max_depth': 2, 'gb__min_samples_leaf': 37, 'gb__l2_regularization': 1.8760115626094191}. Best is trial 46 with value: 0.7134936059491223.\n"
     ]
    },
    {
     "name": "stderr",
     "output_type": "stream",
     "text": [
      "Best trial: 46. Best value: 0.713494:  90%|█████████ | 90/100 [08:25<00:39,  3.95s/it]/tmp/ipykernel_6084/3548152492.py:7: FutureWarning: suggest_loguniform has been deprecated in v3.0.0. This feature will be removed in v6.0.0. See https://github.com/optuna/optuna/releases/tag/v3.0.0. Use suggest_float(..., log=True) instead.\n",
      "  \"gb__learning_rate\": trial.suggest_loguniform(\"gb__learning_rate\", 1e-3, 0.3),\n",
      "/tmp/ipykernel_6084/3548152492.py:11: FutureWarning: suggest_uniform has been deprecated in v3.0.0. This feature will be removed in v6.0.0. See https://github.com/optuna/optuna/releases/tag/v3.0.0. Use suggest_float instead.\n",
      "  \"gb__l2_regularization\": trial.suggest_uniform(\"gb__l2_regularization\", 0.0, 2.0),\n"
     ]
    },
    {
     "name": "stdout",
     "output_type": "stream",
     "text": [
      "[I 2025-07-04 14:47:32,589] Trial 89 finished with value: 0.7128046534922996 and parameters: {'gb__learning_rate': 0.26343371363344487, 'gb__max_leaf_nodes': 176, 'gb__max_depth': 3, 'gb__min_samples_leaf': 109, 'gb__l2_regularization': 1.3708329422163934}. Best is trial 46 with value: 0.7134936059491223.\n"
     ]
    },
    {
     "name": "stderr",
     "output_type": "stream",
     "text": [
      "Best trial: 46. Best value: 0.713494:  91%|█████████ | 91/100 [08:28<00:35,  3.90s/it]/tmp/ipykernel_6084/3548152492.py:7: FutureWarning: suggest_loguniform has been deprecated in v3.0.0. This feature will be removed in v6.0.0. See https://github.com/optuna/optuna/releases/tag/v3.0.0. Use suggest_float(..., log=True) instead.\n",
      "  \"gb__learning_rate\": trial.suggest_loguniform(\"gb__learning_rate\", 1e-3, 0.3),\n",
      "/tmp/ipykernel_6084/3548152492.py:11: FutureWarning: suggest_uniform has been deprecated in v3.0.0. This feature will be removed in v6.0.0. See https://github.com/optuna/optuna/releases/tag/v3.0.0. Use suggest_float instead.\n",
      "  \"gb__l2_regularization\": trial.suggest_uniform(\"gb__l2_regularization\", 0.0, 2.0),\n"
     ]
    },
    {
     "name": "stdout",
     "output_type": "stream",
     "text": [
      "[I 2025-07-04 14:47:36,356] Trial 90 finished with value: 0.7113616574936537 and parameters: {'gb__learning_rate': 0.2676314908513451, 'gb__max_leaf_nodes': 127, 'gb__max_depth': 3, 'gb__min_samples_leaf': 120, 'gb__l2_regularization': 1.6942393916566716}. Best is trial 46 with value: 0.7134936059491223.\n"
     ]
    },
    {
     "name": "stderr",
     "output_type": "stream",
     "text": [
      "Best trial: 46. Best value: 0.713494:  92%|█████████▏| 92/100 [08:33<00:34,  4.26s/it]/tmp/ipykernel_6084/3548152492.py:7: FutureWarning: suggest_loguniform has been deprecated in v3.0.0. This feature will be removed in v6.0.0. See https://github.com/optuna/optuna/releases/tag/v3.0.0. Use suggest_float(..., log=True) instead.\n",
      "  \"gb__learning_rate\": trial.suggest_loguniform(\"gb__learning_rate\", 1e-3, 0.3),\n",
      "/tmp/ipykernel_6084/3548152492.py:11: FutureWarning: suggest_uniform has been deprecated in v3.0.0. This feature will be removed in v6.0.0. See https://github.com/optuna/optuna/releases/tag/v3.0.0. Use suggest_float instead.\n",
      "  \"gb__l2_regularization\": trial.suggest_uniform(\"gb__l2_regularization\", 0.0, 2.0),\n"
     ]
    },
    {
     "name": "stdout",
     "output_type": "stream",
     "text": [
      "[I 2025-07-04 14:47:41,466] Trial 91 finished with value: 0.7112613503898271 and parameters: {'gb__learning_rate': 0.2264536776283575, 'gb__max_leaf_nodes': 178, 'gb__max_depth': 2, 'gb__min_samples_leaf': 106, 'gb__l2_regularization': 1.3768029124647896}. Best is trial 46 with value: 0.7134936059491223.\n"
     ]
    },
    {
     "name": "stderr",
     "output_type": "stream",
     "text": [
      "Best trial: 46. Best value: 0.713494:  93%|█████████▎| 93/100 [08:37<00:27,  3.94s/it]/tmp/ipykernel_6084/3548152492.py:7: FutureWarning: suggest_loguniform has been deprecated in v3.0.0. This feature will be removed in v6.0.0. See https://github.com/optuna/optuna/releases/tag/v3.0.0. Use suggest_float(..., log=True) instead.\n",
      "  \"gb__learning_rate\": trial.suggest_loguniform(\"gb__learning_rate\", 1e-3, 0.3),\n",
      "/tmp/ipykernel_6084/3548152492.py:11: FutureWarning: suggest_uniform has been deprecated in v3.0.0. This feature will be removed in v6.0.0. See https://github.com/optuna/optuna/releases/tag/v3.0.0. Use suggest_float instead.\n",
      "  \"gb__l2_regularization\": trial.suggest_uniform(\"gb__l2_regularization\", 0.0, 2.0),\n"
     ]
    },
    {
     "name": "stdout",
     "output_type": "stream",
     "text": [
      "[I 2025-07-04 14:47:44,638] Trial 92 finished with value: 0.7093103141790795 and parameters: {'gb__learning_rate': 0.16421360642420044, 'gb__max_leaf_nodes': 148, 'gb__max_depth': 7, 'gb__min_samples_leaf': 111, 'gb__l2_regularization': 1.2245468612578574}. Best is trial 46 with value: 0.7134936059491223.\n"
     ]
    },
    {
     "name": "stderr",
     "output_type": "stream",
     "text": [
      "Best trial: 46. Best value: 0.713494:  94%|█████████▍| 94/100 [08:40<00:23,  3.89s/it]/tmp/ipykernel_6084/3548152492.py:7: FutureWarning: suggest_loguniform has been deprecated in v3.0.0. This feature will be removed in v6.0.0. See https://github.com/optuna/optuna/releases/tag/v3.0.0. Use suggest_float(..., log=True) instead.\n",
      "  \"gb__learning_rate\": trial.suggest_loguniform(\"gb__learning_rate\", 1e-3, 0.3),\n",
      "/tmp/ipykernel_6084/3548152492.py:11: FutureWarning: suggest_uniform has been deprecated in v3.0.0. This feature will be removed in v6.0.0. See https://github.com/optuna/optuna/releases/tag/v3.0.0. Use suggest_float instead.\n",
      "  \"gb__l2_regularization\": trial.suggest_uniform(\"gb__l2_regularization\", 0.0, 2.0),\n"
     ]
    },
    {
     "name": "stdout",
     "output_type": "stream",
     "text": [
      "[I 2025-07-04 14:47:48,424] Trial 93 finished with value: 0.711746254804978 and parameters: {'gb__learning_rate': 0.19545666567564893, 'gb__max_leaf_nodes': 109, 'gb__max_depth': 4, 'gb__min_samples_leaf': 100, 'gb__l2_regularization': 1.5455247243710946}. Best is trial 46 with value: 0.7134936059491223.\n"
     ]
    },
    {
     "name": "stderr",
     "output_type": "stream",
     "text": [
      "Best trial: 46. Best value: 0.713494:  95%|█████████▌| 95/100 [08:43<00:18,  3.66s/it]/tmp/ipykernel_6084/3548152492.py:7: FutureWarning: suggest_loguniform has been deprecated in v3.0.0. This feature will be removed in v6.0.0. See https://github.com/optuna/optuna/releases/tag/v3.0.0. Use suggest_float(..., log=True) instead.\n",
      "  \"gb__learning_rate\": trial.suggest_loguniform(\"gb__learning_rate\", 1e-3, 0.3),\n",
      "/tmp/ipykernel_6084/3548152492.py:11: FutureWarning: suggest_uniform has been deprecated in v3.0.0. This feature will be removed in v6.0.0. See https://github.com/optuna/optuna/releases/tag/v3.0.0. Use suggest_float instead.\n",
      "  \"gb__l2_regularization\": trial.suggest_uniform(\"gb__l2_regularization\", 0.0, 2.0),\n"
     ]
    },
    {
     "name": "stdout",
     "output_type": "stream",
     "text": [
      "[I 2025-07-04 14:47:51,539] Trial 94 finished with value: 0.7103361461000426 and parameters: {'gb__learning_rate': 0.25688066344320504, 'gb__max_leaf_nodes': 162, 'gb__max_depth': 3, 'gb__min_samples_leaf': 25, 'gb__l2_regularization': 1.774638895170098}. Best is trial 46 with value: 0.7134936059491223.\n"
     ]
    },
    {
     "name": "stderr",
     "output_type": "stream",
     "text": [
      "Best trial: 46. Best value: 0.713494:  96%|█████████▌| 96/100 [08:48<00:15,  3.95s/it]/tmp/ipykernel_6084/3548152492.py:7: FutureWarning: suggest_loguniform has been deprecated in v3.0.0. This feature will be removed in v6.0.0. See https://github.com/optuna/optuna/releases/tag/v3.0.0. Use suggest_float(..., log=True) instead.\n",
      "  \"gb__learning_rate\": trial.suggest_loguniform(\"gb__learning_rate\", 1e-3, 0.3),\n",
      "/tmp/ipykernel_6084/3548152492.py:11: FutureWarning: suggest_uniform has been deprecated in v3.0.0. This feature will be removed in v6.0.0. See https://github.com/optuna/optuna/releases/tag/v3.0.0. Use suggest_float instead.\n",
      "  \"gb__l2_regularization\": trial.suggest_uniform(\"gb__l2_regularization\", 0.0, 2.0),\n"
     ]
    },
    {
     "name": "stdout",
     "output_type": "stream",
     "text": [
      "[I 2025-07-04 14:47:56,186] Trial 95 finished with value: 0.7133438687398002 and parameters: {'gb__learning_rate': 0.224114805911287, 'gb__max_leaf_nodes': 173, 'gb__max_depth': 2, 'gb__min_samples_leaf': 14, 'gb__l2_regularization': 1.6299226675020242}. Best is trial 46 with value: 0.7134936059491223.\n"
     ]
    },
    {
     "name": "stderr",
     "output_type": "stream",
     "text": [
      "Best trial: 46. Best value: 0.713494:  97%|█████████▋| 97/100 [08:53<00:12,  4.11s/it]/tmp/ipykernel_6084/3548152492.py:7: FutureWarning: suggest_loguniform has been deprecated in v3.0.0. This feature will be removed in v6.0.0. See https://github.com/optuna/optuna/releases/tag/v3.0.0. Use suggest_float(..., log=True) instead.\n",
      "  \"gb__learning_rate\": trial.suggest_loguniform(\"gb__learning_rate\", 1e-3, 0.3),\n",
      "/tmp/ipykernel_6084/3548152492.py:11: FutureWarning: suggest_uniform has been deprecated in v3.0.0. This feature will be removed in v6.0.0. See https://github.com/optuna/optuna/releases/tag/v3.0.0. Use suggest_float instead.\n",
      "  \"gb__l2_regularization\": trial.suggest_uniform(\"gb__l2_regularization\", 0.0, 2.0),\n"
     ]
    },
    {
     "name": "stdout",
     "output_type": "stream",
     "text": [
      "[I 2025-07-04 14:48:00,667] Trial 96 finished with value: 0.7123394576946105 and parameters: {'gb__learning_rate': 0.2225381591028594, 'gb__max_leaf_nodes': 184, 'gb__max_depth': 2, 'gb__min_samples_leaf': 14, 'gb__l2_regularization': 1.6431374546396635}. Best is trial 46 with value: 0.7134936059491223.\n"
     ]
    },
    {
     "name": "stderr",
     "output_type": "stream",
     "text": [
      "Best trial: 46. Best value: 0.713494:  98%|█████████▊| 98/100 [08:57<00:08,  4.11s/it]/tmp/ipykernel_6084/3548152492.py:7: FutureWarning: suggest_loguniform has been deprecated in v3.0.0. This feature will be removed in v6.0.0. See https://github.com/optuna/optuna/releases/tag/v3.0.0. Use suggest_float(..., log=True) instead.\n",
      "  \"gb__learning_rate\": trial.suggest_loguniform(\"gb__learning_rate\", 1e-3, 0.3),\n",
      "/tmp/ipykernel_6084/3548152492.py:11: FutureWarning: suggest_uniform has been deprecated in v3.0.0. This feature will be removed in v6.0.0. See https://github.com/optuna/optuna/releases/tag/v3.0.0. Use suggest_float instead.\n",
      "  \"gb__l2_regularization\": trial.suggest_uniform(\"gb__l2_regularization\", 0.0, 2.0),\n"
     ]
    },
    {
     "name": "stdout",
     "output_type": "stream",
     "text": [
      "[I 2025-07-04 14:48:04,759] Trial 97 finished with value: 0.7110982103943503 and parameters: {'gb__learning_rate': 0.2981761069882714, 'gb__max_leaf_nodes': 153, 'gb__max_depth': 2, 'gb__min_samples_leaf': 130, 'gb__l2_regularization': 1.7331565496971306}. Best is trial 46 with value: 0.7134936059491223.\n"
     ]
    },
    {
     "name": "stderr",
     "output_type": "stream",
     "text": [
      "Best trial: 46. Best value: 0.713494:  99%|█████████▉| 99/100 [09:02<00:04,  4.39s/it]/tmp/ipykernel_6084/3548152492.py:7: FutureWarning: suggest_loguniform has been deprecated in v3.0.0. This feature will be removed in v6.0.0. See https://github.com/optuna/optuna/releases/tag/v3.0.0. Use suggest_float(..., log=True) instead.\n",
      "  \"gb__learning_rate\": trial.suggest_loguniform(\"gb__learning_rate\", 1e-3, 0.3),\n",
      "/tmp/ipykernel_6084/3548152492.py:11: FutureWarning: suggest_uniform has been deprecated in v3.0.0. This feature will be removed in v6.0.0. See https://github.com/optuna/optuna/releases/tag/v3.0.0. Use suggest_float instead.\n",
      "  \"gb__l2_regularization\": trial.suggest_uniform(\"gb__l2_regularization\", 0.0, 2.0),\n"
     ]
    },
    {
     "name": "stdout",
     "output_type": "stream",
     "text": [
      "[I 2025-07-04 14:48:09,821] Trial 98 finished with value: 0.7117734598020922 and parameters: {'gb__learning_rate': 0.15870587311448608, 'gb__max_leaf_nodes': 205, 'gb__max_depth': 3, 'gb__min_samples_leaf': 20, 'gb__l2_regularization': 1.8160596488954543}. Best is trial 46 with value: 0.7134936059491223.\n"
     ]
    },
    {
     "name": "stderr",
     "output_type": "stream",
     "text": [
      "Best trial: 46. Best value: 0.713494: 100%|██████████| 100/100 [09:06<00:00,  5.46s/it]"
     ]
    },
    {
     "name": "stdout",
     "output_type": "stream",
     "text": [
      "[I 2025-07-04 14:48:13,587] Trial 99 finished with value: 0.7121031160698135 and parameters: {'gb__learning_rate': 0.26735080230316516, 'gb__max_leaf_nodes': 132, 'gb__max_depth': 2, 'gb__min_samples_leaf': 13, 'gb__l2_regularization': 1.9486423923442961}. Best is trial 46 with value: 0.7134936059491223.\n"
     ]
    },
    {
     "name": "stderr",
     "output_type": "stream",
     "text": [
      "\n"
     ]
    },
    {
     "data": {
      "text/html": [
       "<div>\n",
       "<style scoped>\n",
       "    .dataframe tbody tr th:only-of-type {\n",
       "        vertical-align: middle;\n",
       "    }\n",
       "\n",
       "    .dataframe tbody tr th {\n",
       "        vertical-align: top;\n",
       "    }\n",
       "\n",
       "    .dataframe thead th {\n",
       "        text-align: right;\n",
       "    }\n",
       "</style>\n",
       "<table border=\"1\" class=\"dataframe\">\n",
       "  <thead>\n",
       "    <tr style=\"text-align: right;\">\n",
       "      <th></th>\n",
       "      <th>number</th>\n",
       "      <th>value</th>\n",
       "      <th>datetime_start</th>\n",
       "      <th>datetime_complete</th>\n",
       "      <th>duration</th>\n",
       "      <th>params_gb__l2_regularization</th>\n",
       "      <th>params_gb__learning_rate</th>\n",
       "      <th>params_gb__max_depth</th>\n",
       "      <th>params_gb__max_leaf_nodes</th>\n",
       "      <th>params_gb__min_samples_leaf</th>\n",
       "      <th>state</th>\n",
       "    </tr>\n",
       "  </thead>\n",
       "  <tbody>\n",
       "    <tr>\n",
       "      <th>46</th>\n",
       "      <td>46</td>\n",
       "      <td>0.713494</td>\n",
       "      <td>2025-07-04 14:44:07.983596</td>\n",
       "      <td>2025-07-04 14:44:12.530387</td>\n",
       "      <td>0 days 00:00:04.546791</td>\n",
       "      <td>1.848760</td>\n",
       "      <td>0.249324</td>\n",
       "      <td>2</td>\n",
       "      <td>152</td>\n",
       "      <td>20</td>\n",
       "      <td>COMPLETE</td>\n",
       "    </tr>\n",
       "    <tr>\n",
       "      <th>52</th>\n",
       "      <td>52</td>\n",
       "      <td>0.713449</td>\n",
       "      <td>2025-07-04 14:44:38.014579</td>\n",
       "      <td>2025-07-04 14:44:43.157067</td>\n",
       "      <td>0 days 00:00:05.142488</td>\n",
       "      <td>1.817047</td>\n",
       "      <td>0.177449</td>\n",
       "      <td>2</td>\n",
       "      <td>134</td>\n",
       "      <td>10</td>\n",
       "      <td>COMPLETE</td>\n",
       "    </tr>\n",
       "    <tr>\n",
       "      <th>95</th>\n",
       "      <td>95</td>\n",
       "      <td>0.713344</td>\n",
       "      <td>2025-07-04 14:47:51.543428</td>\n",
       "      <td>2025-07-04 14:47:56.186487</td>\n",
       "      <td>0 days 00:00:04.643059</td>\n",
       "      <td>1.629923</td>\n",
       "      <td>0.224115</td>\n",
       "      <td>2</td>\n",
       "      <td>173</td>\n",
       "      <td>14</td>\n",
       "      <td>COMPLETE</td>\n",
       "    </tr>\n",
       "    <tr>\n",
       "      <th>71</th>\n",
       "      <td>71</td>\n",
       "      <td>0.713150</td>\n",
       "      <td>2025-07-04 14:46:18.834004</td>\n",
       "      <td>2025-07-04 14:46:23.667586</td>\n",
       "      <td>0 days 00:00:04.833582</td>\n",
       "      <td>1.727696</td>\n",
       "      <td>0.198934</td>\n",
       "      <td>2</td>\n",
       "      <td>147</td>\n",
       "      <td>17</td>\n",
       "      <td>COMPLETE</td>\n",
       "    </tr>\n",
       "    <tr>\n",
       "      <th>73</th>\n",
       "      <td>73</td>\n",
       "      <td>0.713136</td>\n",
       "      <td>2025-07-04 14:46:28.548544</td>\n",
       "      <td>2025-07-04 14:46:33.030517</td>\n",
       "      <td>0 days 00:00:04.481973</td>\n",
       "      <td>1.735101</td>\n",
       "      <td>0.260399</td>\n",
       "      <td>2</td>\n",
       "      <td>144</td>\n",
       "      <td>17</td>\n",
       "      <td>COMPLETE</td>\n",
       "    </tr>\n",
       "  </tbody>\n",
       "</table>\n",
       "</div>"
      ],
      "text/plain": [
       "    number     value             datetime_start          datetime_complete  \\\n",
       "46      46  0.713494 2025-07-04 14:44:07.983596 2025-07-04 14:44:12.530387   \n",
       "52      52  0.713449 2025-07-04 14:44:38.014579 2025-07-04 14:44:43.157067   \n",
       "95      95  0.713344 2025-07-04 14:47:51.543428 2025-07-04 14:47:56.186487   \n",
       "71      71  0.713150 2025-07-04 14:46:18.834004 2025-07-04 14:46:23.667586   \n",
       "73      73  0.713136 2025-07-04 14:46:28.548544 2025-07-04 14:46:33.030517   \n",
       "\n",
       "                 duration  params_gb__l2_regularization  \\\n",
       "46 0 days 00:00:04.546791                      1.848760   \n",
       "52 0 days 00:00:05.142488                      1.817047   \n",
       "95 0 days 00:00:04.643059                      1.629923   \n",
       "71 0 days 00:00:04.833582                      1.727696   \n",
       "73 0 days 00:00:04.481973                      1.735101   \n",
       "\n",
       "    params_gb__learning_rate  params_gb__max_depth  params_gb__max_leaf_nodes  \\\n",
       "46                  0.249324                     2                        152   \n",
       "52                  0.177449                     2                        134   \n",
       "95                  0.224115                     2                        173   \n",
       "71                  0.198934                     2                        147   \n",
       "73                  0.260399                     2                        144   \n",
       "\n",
       "    params_gb__min_samples_leaf     state  \n",
       "46                           20  COMPLETE  \n",
       "52                           10  COMPLETE  \n",
       "95                           14  COMPLETE  \n",
       "71                           17  COMPLETE  \n",
       "73                           17  COMPLETE  "
      ]
     },
     "metadata": {},
     "output_type": "display_data"
    }
   ],
   "source": [
    "# Your code here\n",
    "import optuna\n",
    "from sklearn.model_selection import StratifiedKFold, cross_val_score\n",
    "\n",
    "def objective(trial):\n",
    "    params = {\n",
    "        \"gb__learning_rate\": trial.suggest_loguniform(\"gb__learning_rate\", 1e-3, 0.3),\n",
    "        \"gb__max_leaf_nodes\": trial.suggest_int(\"gb__max_leaf_nodes\", 16, 256),\n",
    "        \"gb__max_depth\": trial.suggest_int(\"gb__max_depth\", 2, 10),\n",
    "        \"gb__min_samples_leaf\": trial.suggest_int(\"gb__min_samples_leaf\", 10, 200),\n",
    "        \"gb__l2_regularization\": trial.suggest_uniform(\"gb__l2_regularization\", 0.0, 2.0),\n",
    "    }\n",
    "\n",
    "    model = pipelined_model.set_params(**params)\n",
    "\n",
    "    skf = StratifiedKFold(n_splits=5, shuffle=True, random_state=random_seed)\n",
    "\n",
    "    scores = cross_val_score(\n",
    "        model,\n",
    "        X_train,\n",
    "        y_train,\n",
    "        cv=skf,\n",
    "        scoring=\"f1\",\n",
    "        n_jobs=-1\n",
    "    )\n",
    "    return scores.mean()\n",
    "\n",
    "study = optuna.create_study(direction=\"maximize\", sampler=optuna.samplers.TPESampler(seed=random_seed))\n",
    "study.optimize(objective, n_trials=100, show_progress_bar=True)\n",
    "\n",
    "trials_df = study.trials_dataframe()\n",
    "trials_df = trials_df.sort_values(by=\"value\", ascending=False)\n",
    "\n",
    "display(trials_df.head(5))\n"
   ]
  },
  {
   "cell_type": "markdown",
   "metadata": {},
   "source": [
    "### Problem 3 Graded Answer\n",
    "\n",
    "Set `a3` to the mean F1 score of the best model found. "
   ]
  },
  {
   "cell_type": "code",
   "execution_count": 22,
   "metadata": {},
   "outputs": [],
   "source": [
    " # Your answer here\n",
    "\n",
    "a3 = study.best_value                     # replace 0 with your answer, may copy from the displayed results"
   ]
  },
  {
   "cell_type": "code",
   "execution_count": 23,
   "metadata": {},
   "outputs": [
    {
     "name": "stdout",
     "output_type": "stream",
     "text": [
      "a3 = 0.7135\n"
     ]
    }
   ],
   "source": [
    "# DO NOT change this cell in any way\n",
    "\n",
    "print(f'a3 = {a3:.4f}')"
   ]
  },
  {
   "cell_type": "markdown",
   "metadata": {},
   "source": [
    "## Problem 4: Final Model Evaluation on Test Set\n",
    "\n",
    "In this problem, you will take the best hyperparameter configuration you found in your earlier experiments (Randomized Search or Optuna) and fully evaluate the resulting model on the test set.\n",
    "\n",
    "**Background:**\n",
    "When performing hyperparameter tuning, we typically optimize for a single metric (e.g., F1). However, before deployment, it is essential to check **all relevant metrics** on the final test set to understand the model’s behavior in a balanced way.\n",
    "\n",
    "**Instructions:**\n",
    "\n",
    "1. Take the best hyperparameters you found in Problems 2 or 3 and apply them to your `pipelined_model`.\n",
    "2. Re-train this final tuned model on the **entire training set** (not just the folds).\n",
    "3. Evaluate the final model on the heldout **test set**, reporting the following metrics:\n",
    "\n",
    "   * Precision\n",
    "   * Recall\n",
    "   * F1 score\n",
    "   * Balanced accuracy\n",
    "4. Use `classification_report` **on the test set** to print precision, recall, and F1 score, and use `balanced_accuracy_score` separately to calculate and print balanced accuracy.\n",
    "5. Answer the graded questions.\n",
    "\n",
    "**Note:** We evaluate the metrics on the test set because it was never seen during training or hyperparameter tuning. This gives us an unbiased estimate of how the model will perform on truly unseen data. Evaluating on the training set would be misleading, because the model has already learned from that data and could appear artificially good.\n"
   ]
  },
  {
   "cell_type": "code",
   "execution_count": 24,
   "metadata": {},
   "outputs": [
    {
     "name": "stdout",
     "output_type": "stream",
     "text": [
      "              precision    recall  f1-score   support\n",
      "\n",
      "           0     0.9526    0.8255    0.8845      7431\n",
      "           1     0.6105    0.8695    0.7174      2338\n",
      "\n",
      "    accuracy                         0.8360      9769\n",
      "   macro avg     0.7816    0.8475    0.8009      9769\n",
      "weighted avg     0.8708    0.8360    0.8445      9769\n",
      "\n",
      "Balanced Accuracy: 0.8475\n"
     ]
    }
   ],
   "source": [
    "# Your code here\n",
    "best_params = study.best_params\n",
    "\n",
    "final_model = pipelined_model.set_params(**best_params)\n",
    "\n",
    "final_model.fit(X_train, y_train)\n",
    "\n",
    "y_test_pred = final_model.predict(X_test)\n",
    "\n",
    "print(classification_report(y_test, y_test_pred, digits=4))\n",
    "\n",
    "from sklearn.metrics import balanced_accuracy_score\n",
    "bal_acc = balanced_accuracy_score(y_test, y_test_pred)\n",
    "print(f\"Balanced Accuracy: {bal_acc:.4f}\")\n"
   ]
  },
  {
   "cell_type": "markdown",
   "metadata": {},
   "source": [
    "### Problem 4 Graded Questions\n",
    "\n",
    "- Set `a4a` to the balanced accuracy score of the best model.\n",
    "- Set `a4b` to the macro average precision of this model.\n",
    "- Set `a4c` to the macro average recall score of the this model.\n",
    "\n",
    "**Note:** Macro average takes the mean of each class’s precision/recall without considering how many samples each class has, which is appropriate for a balanced evaluation."
   ]
  },
  {
   "cell_type": "code",
   "execution_count": 25,
   "metadata": {},
   "outputs": [],
   "source": [
    " # Your answer here\n",
    "\n",
    "a4a = balanced_accuracy_score(y_test, y_test_pred)                     # replace 0 with your answer, use variable or expression from above"
   ]
  },
  {
   "cell_type": "code",
   "execution_count": 26,
   "metadata": {},
   "outputs": [
    {
     "name": "stdout",
     "output_type": "stream",
     "text": [
      "a4a = 0.8475\n"
     ]
    }
   ],
   "source": [
    "# DO NOT change this cell in any way\n",
    "\n",
    "print(f'a4a = {a4a:.4f}')"
   ]
  },
  {
   "cell_type": "code",
   "execution_count": 39,
   "metadata": {},
   "outputs": [],
   "source": [
    "report = classification_report(y_test, y_test_pred, output_dict=True) "
   ]
  },
  {
   "cell_type": "code",
   "execution_count": 40,
   "metadata": {},
   "outputs": [],
   "source": [
    " # Your answer here\n",
    "\n",
    "a4b = report[\"macro avg\"][\"precision\"]                    # replace 0 with your answer, may copy from the displayed results"
   ]
  },
  {
   "cell_type": "code",
   "execution_count": 41,
   "metadata": {},
   "outputs": [
    {
     "name": "stdout",
     "output_type": "stream",
     "text": [
      "a4b = 0.7816\n"
     ]
    }
   ],
   "source": [
    "# DO NOT change this cell in any way\n",
    "\n",
    "print(f'a4b = {a4b:.4f}')"
   ]
  },
  {
   "cell_type": "code",
   "execution_count": 42,
   "metadata": {},
   "outputs": [],
   "source": [
    " # Your answer here\n",
    "\n",
    "a4c = report[\"macro avg\"][\"recall\"]                     # replace 0 with your answer, may copy from the displayed results"
   ]
  },
  {
   "cell_type": "code",
   "execution_count": 43,
   "metadata": {},
   "outputs": [
    {
     "name": "stdout",
     "output_type": "stream",
     "text": [
      "a4c = 0.8475\n"
     ]
    }
   ],
   "source": [
    "# DO NOT change this cell in any way\n",
    "\n",
    "print(f'a4c = {a4c:.4f}')"
   ]
  },
  {
   "cell_type": "markdown",
   "metadata": {},
   "source": [
    "## Problem 5: Understanding Precision, Recall, F1, and Balanced Accuracy\n",
    "\n",
    "**Tutorial**\n",
    "\n",
    "In binary classification, you will often evaluate these key metrics:\n",
    "\n",
    "* **Precision**: *Of all the positive predictions the model made, how many were actually correct?*\n",
    "\n",
    "  * High precision = few false positives\n",
    "  * Low precision = many false positives\n",
    "\n",
    "* **Recall**: *Of all the actual positive cases, how many did the model correctly identify?*\n",
    "\n",
    "  * High recall = few false negatives\n",
    "  * Low recall = many false negatives\n",
    "\n",
    "* **F1 score**: The harmonic mean of precision and recall, which balances them in a single measure.\n",
    "\n",
    "  * F1 is **highest** when precision and recall are both high and similar in value.\n",
    "  * If precision and recall are unbalanced, F1 will drop to reflect that imbalance.\n",
    "\n",
    "* **Balanced accuracy**: The average of recall across both classes (positive and negative).\n",
    "\n",
    "  * It ensures the classifier is performing reasonably well on *both* groups, correcting for class imbalance.\n",
    "  * Balanced accuracy is especially important if the classes are very unequal in size.\n",
    "\n",
    "**Typical trade-offs to remember:**\n",
    "\n",
    "* **Higher recall, lower precision**: the model finds most true positives but also mislabels some negatives as positives\n",
    "* **Higher precision, lower recall**: the model is strict about positive predictions, but misses some true positives\n",
    "* **Balanced precision and recall (good F1)**: a practical compromise\n",
    "* **Balanced accuracy**: checks fairness across both classes"
   ]
  },
  {
   "cell_type": "markdown",
   "metadata": {},
   "source": [
    "###  Problem 5 Graded Question (multiple choice)\n",
    "\n",
    "A bank uses your model to identify customers earning over $50K for a premium product invitation. Based on your final test set evaluation, including macro-averaged precision and recall, which of the following best describes what might happen?\n",
    "\n",
    "(1) The bank will miss some eligible high-income customers, but will avoid marketing mistakes by sending invitations only to those it is  confident about.\n",
    "\n",
    "(2) The bank will successfully reach most high-income customers, but will also waste resources sending invitations to some low-income customers.\n",
    "\n",
    "(3) The bank will perfectly identify all high-income and low-income customers, resulting in no wasted invitations and no missed opportunities.\n"
   ]
  },
  {
   "cell_type": "code",
   "execution_count": 44,
   "metadata": {},
   "outputs": [],
   "source": [
    " # Your answer here\n",
    "\n",
    "a5 = 2                     # replace 0 with one of 1, 2, or 3"
   ]
  },
  {
   "cell_type": "code",
   "execution_count": 45,
   "metadata": {},
   "outputs": [
    {
     "name": "stdout",
     "output_type": "stream",
     "text": [
      "a5 = 2\n"
     ]
    }
   ],
   "source": [
    "# DO NOT change this cell in any way\n",
    "\n",
    "print(f'a5 = {a5}')"
   ]
  },
  {
   "cell_type": "markdown",
   "metadata": {},
   "source": [
    "### Appendix One: Feature Engineering\n",
    "\n",
    "Here are some practical feature-engineering tweaks worth considering (beyond simply ordinal-encoding the categoricals)\n",
    "\n",
    "| Feature(s)                                                           | Why the tweak can help                                                                                                                                                     | How to do it (quick version)                                                                                                                                                    | Keep / drop?      |\n",
    "| -------------------------------------------------------------------- | -------------------------------------------------------------------------------------------------------------------------------------------------------------------------- | ------------------------------------------------------------------------------------------------------------------------------------------------------------------------------- | ----------------- |\n",
    "| **`fnlwgt`**                                                         | Survey sampling weight, not a predictor. Leaving it in often lets the model “cheat.”                                                                                       | `df = df.drop(columns=[\"fnlwgt\"])`                                                                                                                                              | **Drop**          |\n",
    "| **`education` *vs.* `education-num`**                                | They encode the **same** information twice (categorical label and its ordinal rank). Keeping both is redundant and can cause leakage of a perfectly predictive feature.    | Usually keep **only one**. For tree models `education-num` is simplest: `df = df.drop(columns=[\"education\"])`                                                                   | **Drop one**      |\n",
    "| **`capital-gain`, `capital-loss`**                                   | Highly skewed; most values are zero with a long upper tail. The sign (gain vs. loss) matters, but treating them separately wastes a feature slot.                          | 1) Combine: `df[\"capital_net\"] = df[\"capital-gain\"] - df[\"capital-loss\"]`; 2) Log-transform to reduce skew: `df[\"capital_net_log\"] = np.log1p(df[\"capital_net\"].clip(lower=0))` | Replace originals |\n",
    "| **`age`, `hours-per-week`**                                          | Continuous but with natural plateaus—trees handle splits fine, yet log or square-root scaling can soften extreme values; bucketing makes partial-dependence plots clearer. | Simple bucket: `df[\"age_bin\"] = pd.cut(df[\"age\"], bins=[16,25,35,45,55,65,90])` (optional)                                                                                      | Optional          |\n",
    "| **Missing categories** (`workclass`, `occupation`, `native-country`) | HGB handles `-1`/`-2` codes fine, but you may want *explicit* “Missing” bucket for interpretability.                                                                       | Use `encoded_missing_value=-2` during encoding.                                                                                                            | Keep as is        |\n",
    "| **Rare categories in `native-country`**                              | Hundreds of low-frequency countries dilute signal; grouping boosts stability.                                                                                              | Map infrequent categories to “Other”:                                                                                                                                           |                   |\n",
    "\n",
    "\n",
    "#### Minimum set of tweaks (good baseline, low effort)\n",
    "\n",
    "1. **Drop `fnlwgt`.**  \n",
    "2. **Keep `education-num`, drop `education`.**  \n",
    "3. **Combine `capital-gain` and `capital-loss` into `capital_net`** (optionally add a log-scaled version).  \n",
    "4. Leave other numeric/categorical features as is; your histogram-GBDT will cope.\n",
    "\n",
    "\n"
   ]
  }
 ],
 "metadata": {
  "kernelspec": {
   "display_name": "Python 3",
   "language": "python",
   "name": "python3"
  },
  "language_info": {
   "codemirror_mode": {
    "name": "ipython",
    "version": 3
   },
   "file_extension": ".py",
   "mimetype": "text/x-python",
   "name": "python",
   "nbconvert_exporter": "python",
   "pygments_lexer": "ipython3",
   "version": "3.12.1"
  }
 },
 "nbformat": 4,
 "nbformat_minor": 4
}
